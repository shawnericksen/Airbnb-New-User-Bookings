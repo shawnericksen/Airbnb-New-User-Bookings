{
 "cells": [
  {
   "cell_type": "markdown",
   "id": "d74756a7",
   "metadata": {},
   "source": [
    "# Final Project Notebook\n",
    "Group: 9\n",
    "Group Members: Shawn Ericksen (ericksen@uark.edu), Garret Fulghum (gmfulghu@uark.edu), Wesley Parker (wgparker@uark.edu)\n",
    "\n",
    "This practice project focuses on the Airbnb New User Bookings dataset. This can be accessed from: https://www.kaggle.com/competitions/airbnb-recruiting-new-user-bookings/data"
   ]
  },
  {
   "cell_type": "markdown",
   "id": "94d69a47",
   "metadata": {},
   "source": [
    "## Kaggle Performance Info\n",
    "Kaggle's scoring for this competition utilizes a Normalized Discounted Cumulative Gain (NDCG) scoring, where up to 5 guesses of destination county (ordered by confidence) are submitted per entry in the test data. A score of 1.0 reflects the first guess being correct, and less points for other scenarios (0.63 for the second guess being correct and so on).\n",
    "\n",
    "Q1/Q2/Q3 Kaggle scores: 0.85226 / 0.86555 / 0.86661\n",
    "\n",
    "Notes:\n",
    "\n",
    "The baseline, which is to always guess NDF-US-OTHER-FR-IT, recieves a NDCG score of 0.8219 (78th Percentile) on the Public Leaderboard. The NDCG score of the dummy model on the training data is 0.80676.\n",
    "\n",
    "As for scikit's accuracy score, always guessing NDF results in a score of 0.58347 against the training data."
   ]
  },
  {
   "cell_type": "markdown",
   "id": "15b246ff",
   "metadata": {},
   "source": [
    "### Usage\n",
    "Running the second code cell will prompt the user read data from CSV or HDF5 (setting \\_\\_no_prompt__ will skip the prompt and use HDF5)."
   ]
  },
  {
   "cell_type": "markdown",
   "id": "721b369d",
   "metadata": {},
   "source": [
    "### Imports and reading dataset into memory"
   ]
  },
  {
   "cell_type": "code",
   "execution_count": 1,
   "id": "14f11fa8",
   "metadata": {
    "scrolled": true
   },
   "outputs": [
    {
     "name": "stderr",
     "output_type": "stream",
     "text": [
      "Intel(R) Extension for Scikit-learn* enabled (https://github.com/intel/scikit-learn-intelex)\n"
     ]
    }
   ],
   "source": [
    "from pathlib import Path\n",
    "\n",
    "import numpy as np\n",
    "import pandas as pd\n",
    "import csv\n",
    "\n",
    "from statistics import mean\n",
    "\n",
    "from sklearnex import patch_sklearn \n",
    "patch_sklearn()\n",
    "\n",
    "from sklearn.preprocessing import OneHotEncoder, LabelEncoder, StandardScaler\n",
    "from sklearn.impute import SimpleImputer\n",
    "from sklearn.compose import make_column_transformer, make_column_selector\n",
    "# from sklearn.compose import ColumnTransformer\n",
    "from sklearn.pipeline import make_pipeline # , Pipeline\n",
    "from sklearn.model_selection import train_test_split, cross_val_predict, cross_val_score\n",
    "from sklearn.model_selection import KFold\n",
    "from sklearn.model_selection import GridSearchCV, RandomizedSearchCV\n",
    "from sklearn.metrics import make_scorer\n",
    "\n",
    "from scipy.stats import uniform, loguniform\n",
    "\n",
    "# from sklearn.experimental import enable_halving_search_cv\n",
    "# from sklearn.model_selection import HalvingGridSearchCV\n",
    "\n",
    "from tune_sklearn import TuneGridSearchCV, TuneSearchCV\n",
    "\n",
    "from sklearn.linear_model import LogisticRegression, SGDClassifier\n",
    "from sklearn.tree import DecisionTreeClassifier\n",
    "from sklearn.naive_bayes import CategoricalNB\n",
    "from sklearn.neighbors import KNeighborsClassifier\n",
    "from sklearn.ensemble import RandomForestClassifier\n",
    "from sklearn.svm import SVC, LinearSVC\n",
    "from sklearn.neural_network import MLPClassifier\n",
    "\n",
    "from sklearn import set_config\n",
    "set_config(display='diagram')\n",
    "\n",
    "import xgboost as xgb\n",
    "# from xgboost import XGBClassifier\n",
    "\n",
    "import joblib\n",
    "\n",
    "from joblib import parallel_backend\n",
    "# from ray.util.joblib import register_ray"
   ]
  },
  {
   "cell_type": "code",
   "execution_count": 102,
   "id": "dfc4cad6",
   "metadata": {
    "scrolled": false
   },
   "outputs": [
    {
     "name": "stderr",
     "output_type": "stream",
     "text": [
      "<timed exec>:43: FutureWarning: elementwise comparison failed; returning scalar instead, but in the future will perform elementwise comparison\n",
      "<timed exec>:46: FutureWarning: elementwise comparison failed; returning scalar instead, but in the future will perform elementwise comparison\n"
     ]
    },
    {
     "name": "stdout",
     "output_type": "stream",
     "text": [
      "Wall time: 53.6 s\n"
     ]
    }
   ],
   "source": [
    "%%time\n",
    "__no_prompt__ = False # If True, skips user input (defaults to HDF).\n",
    "__no_hdf__ = False # If True, skips prompt and only reads from CSV.\n",
    "\n",
    "data_folder = Path(\"airbnb-recruiting-new-user-bookings/\") # Replace if using Kaggle Notebook\n",
    "hdf_path = data_folder / \"data.h5\"\n",
    "use_hdf = not __no_hdf__ and (__no_prompt__ or input(\"Do you want to use an HDF file [Y/n]:\") != \"n\") if hdf_path.exists() else False\n",
    "\n",
    "if use_hdf: # Read from hdf if availible (much faster)\n",
    "    df = pd.read_hdf(hdf_path)\n",
    "else:\n",
    "    filepath = data_folder / \"train_users_2.csv\"\n",
    "    dtypes={'id': 'object', 'date_account_created': 'string', 'timestamp_first_active': 'string', 'date_first_booking': 'string', 'gender': 'category', 'age': 'float64', 'signup_method': 'category', 'signup_flow': 'category', 'language': 'category', 'affiliate_channel': 'category', 'affiliate_provider': 'category', 'first_affiliate_tracked': 'category', 'signup_app': 'category', 'first_device_type': 'category', 'first_browser': 'category', 'country_destination': 'category'}\n",
    "    parse_dates = ['date_account_created', 'timestamp_first_active', 'date_first_booking']\n",
    "    cols = list(pd.read_csv(filepath, nrows=1))[1:]\n",
    "    df = pd.read_csv(filepath, dtype=dtypes, na_values=['-unknown-', '<NA>'], parse_dates=parse_dates\n",
    "                     , infer_datetime_format=True)\n",
    "    df['date_first_booking'] = pd.to_datetime(pd.Series(df['date_first_booking'])\n",
    "                                              , format='%Y-%m-%d', errors='coerce')\n",
    "\n",
    "#     df.select_dtypes('datetime64[ns]').fillna(pd.NaT)\n",
    "    # df = df.set_index('id')\n",
    "    df['age'] = df['age'].replace(range(2000, 2015), np.nan)\n",
    "    df['age'] = pd.cut(df['age'], bins = [i*5 for i in range(0, 21)] + [120]\n",
    "                       , labels=(['%d-%d' % (i*5, i*5+4) for i in range(0, 20)] + ['100+']))\n",
    "    \n",
    "#     filepath = data_folder / \"age_gender_bkts.csv\"\n",
    "#     dtypes = {}\n",
    "    \n",
    "    filepath = data_folder / \"sessions.csv\"\n",
    "    dtypes={'user_id': 'string', 'action': 'category', 'action_type': 'category', 'action_detail': 'category', 'device_type': 'category', 'secs_elapsed': 'float64'}\n",
    "    df_session = pd.read_csv(filepath, dtype=dtypes, na_values=['-unknown-', 'NDF', '<NA>'])\n",
    "    \n",
    "    S = df_session.groupby(by='user_id', as_index=False).aggregate(lambda x:x.tolist())\n",
    "    \n",
    "    id_list = []\n",
    "    types_list = []\n",
    "    for row in S.values:\n",
    "        id_list.append(row[0])\n",
    "        types_list.append(np.unique(row[2]))\n",
    "        \n",
    "    rows = []\n",
    "    for user_id, types in zip(id_list, types_list):\n",
    "        types = np.delete(types, np.where(types == 'nan'))\n",
    "        row = [user_id]\n",
    "        for col in df_session['action_type'].cat.categories:\n",
    "            if col in types:\n",
    "                row.append(1)\n",
    "            else:\n",
    "                row.append(0)\n",
    "        rows.append(row)\n",
    "        \n",
    "    t_cols = ['user_id'] + list(df_session['action_type'].cat.categories)\n",
    "    t_dtypes = {**{'user_id': 'string'}, **{col: 'category' for col in t_cols[1:]}}\n",
    "    df_action_types = pd.DataFrame(np.asarray(rows), columns=t_cols).astype(t_dtypes)\n",
    "    \n",
    "    df_merge = df.merge(df_action_types, left_on ='id', right_on='user_id').drop(columns=['user_id'])\n",
    "    df_merge = df_merge.set_index('id')\n",
    "    \n",
    "    # Save to hdf if reading from csv\n",
    "    df.to_hdf(data_folder / \"data.h5\", key='df', mode='w', format=\"table\")"
   ]
  },
  {
   "cell_type": "code",
   "execution_count": 104,
   "id": "0623327e",
   "metadata": {},
   "outputs": [],
   "source": [
    "# df_session.memory_usage(deep=True, index=False).sort_values(ascending=False)"
   ]
  },
  {
   "cell_type": "code",
   "execution_count": null,
   "id": "49b84b12",
   "metadata": {},
   "outputs": [],
   "source": [
    "# df.loc(lambda x: df['age'] == 1995)"
   ]
  },
  {
   "cell_type": "code",
   "execution_count": null,
   "id": "3bba9397",
   "metadata": {},
   "outputs": [],
   "source": [
    "# df_session['action'].cat.categories"
   ]
  },
  {
   "cell_type": "code",
   "execution_count": null,
   "id": "0807708a",
   "metadata": {},
   "outputs": [],
   "source": [
    "# df_session['action_detail'].cat.categories"
   ]
  },
  {
   "cell_type": "code",
   "execution_count": null,
   "id": "d544a73e",
   "metadata": {},
   "outputs": [],
   "source": [
    "# for cat in df_session['action_type'].cat.categories:\n",
    "#     new_column = pd.Series(name=cat, dtype='int8')\n",
    "#     df.insert(new_column)"
   ]
  },
  {
   "cell_type": "markdown",
   "id": "fe829025",
   "metadata": {},
   "source": [
    "### Diagnostics"
   ]
  },
  {
   "cell_type": "code",
   "execution_count": null,
   "id": "97a187c1",
   "metadata": {},
   "outputs": [],
   "source": [
    "print(\"- - test_users_2.csv - -\")\n",
    "print(\"Number of lines present: \", len(df_merge))\n",
    "print(\"Number of Columns: \", len(df_merge.columns))"
   ]
  },
  {
   "cell_type": "code",
   "execution_count": null,
   "id": "24a9bd92",
   "metadata": {},
   "outputs": [],
   "source": [
    "topCount = 5\n",
    "print(\"Top \", topCount, \" dataFrames:\")\n",
    "print(df_merge.head(topCount))"
   ]
  },
  {
   "cell_type": "code",
   "execution_count": 39,
   "id": "92b42d9e",
   "metadata": {},
   "outputs": [
    {
     "data": {
      "text/plain": [
       "user_id                    4945605\n",
       "date_account_created        590520\n",
       "timestamp_first_active      590520\n",
       "date_first_booking          590520\n",
       "first_browser                79329\n",
       "language                     75846\n",
       "age                          75668\n",
       "affiliate_provider           75521\n",
       "signup_flow                  75366\n",
       "country_destination          74827\n",
       "first_device_type            74737\n",
       "affiliate_channel            74628\n",
       "first_affiliate_tracked      74570\n",
       "signup_app                   74233\n",
       "signup_method                74113\n",
       "gender                       74109\n",
       "booking_request              74039\n",
       "click                        74039\n",
       "data                         74039\n",
       "message_post                 74039\n",
       "partner_callback             74039\n",
       "submit                       74039\n",
       "view                         74039\n",
       "booking_response             74039\n",
       "modify                       74039\n",
       "dtype: int64"
      ]
     },
     "execution_count": 39,
     "metadata": {},
     "output_type": "execute_result"
    }
   ],
   "source": [
    "df_merge.memory_usage(deep=True, index=False).sort_values(ascending=False)"
   ]
  },
  {
   "cell_type": "code",
   "execution_count": null,
   "id": "929fdf27",
   "metadata": {},
   "outputs": [],
   "source": [
    "df_merge.memory_usage(deep=True, index=False).sum()"
   ]
  },
  {
   "cell_type": "markdown",
   "id": "28563271",
   "metadata": {},
   "source": [
    "### Preprocessing"
   ]
  },
  {
   "cell_type": "code",
   "execution_count": 105,
   "id": "8ceb2b3d",
   "metadata": {},
   "outputs": [],
   "source": [
    "X = df_merge.drop(columns=['country_destination'])\n",
    "X = X.drop(columns=['date_account_created', 'timestamp_first_active', 'date_first_booking']) # TODO: Fix datetimes fucking everthing up.\n",
    "y = df_merge['country_destination']"
   ]
  },
  {
   "cell_type": "code",
   "execution_count": 106,
   "id": "0c5c8f0a",
   "metadata": {
    "scrolled": false
   },
   "outputs": [],
   "source": [
    "# This block can be commented out when doing prediction on the Kaggle test.csv\n",
    "X_train, X_test, y_train, y_test = train_test_split(X, y, test_size=0.37, random_state=0, shuffle=True)"
   ]
  },
  {
   "cell_type": "code",
   "execution_count": 107,
   "id": "a5de1b1d",
   "metadata": {},
   "outputs": [
    {
     "data": {
      "text/html": [
       "<style>#sk-3dc6aeb5-2084-47ca-904a-2f267fff07c5 {color: black;background-color: white;}#sk-3dc6aeb5-2084-47ca-904a-2f267fff07c5 pre{padding: 0;}#sk-3dc6aeb5-2084-47ca-904a-2f267fff07c5 div.sk-toggleable {background-color: white;}#sk-3dc6aeb5-2084-47ca-904a-2f267fff07c5 label.sk-toggleable__label {cursor: pointer;display: block;width: 100%;margin-bottom: 0;padding: 0.3em;box-sizing: border-box;text-align: center;}#sk-3dc6aeb5-2084-47ca-904a-2f267fff07c5 label.sk-toggleable__label-arrow:before {content: \"▸\";float: left;margin-right: 0.25em;color: #696969;}#sk-3dc6aeb5-2084-47ca-904a-2f267fff07c5 label.sk-toggleable__label-arrow:hover:before {color: black;}#sk-3dc6aeb5-2084-47ca-904a-2f267fff07c5 div.sk-estimator:hover label.sk-toggleable__label-arrow:before {color: black;}#sk-3dc6aeb5-2084-47ca-904a-2f267fff07c5 div.sk-toggleable__content {max-height: 0;max-width: 0;overflow: hidden;text-align: left;background-color: #f0f8ff;}#sk-3dc6aeb5-2084-47ca-904a-2f267fff07c5 div.sk-toggleable__content pre {margin: 0.2em;color: black;border-radius: 0.25em;background-color: #f0f8ff;}#sk-3dc6aeb5-2084-47ca-904a-2f267fff07c5 input.sk-toggleable__control:checked~div.sk-toggleable__content {max-height: 200px;max-width: 100%;overflow: auto;}#sk-3dc6aeb5-2084-47ca-904a-2f267fff07c5 input.sk-toggleable__control:checked~label.sk-toggleable__label-arrow:before {content: \"▾\";}#sk-3dc6aeb5-2084-47ca-904a-2f267fff07c5 div.sk-estimator input.sk-toggleable__control:checked~label.sk-toggleable__label {background-color: #d4ebff;}#sk-3dc6aeb5-2084-47ca-904a-2f267fff07c5 div.sk-label input.sk-toggleable__control:checked~label.sk-toggleable__label {background-color: #d4ebff;}#sk-3dc6aeb5-2084-47ca-904a-2f267fff07c5 input.sk-hidden--visually {border: 0;clip: rect(1px 1px 1px 1px);clip: rect(1px, 1px, 1px, 1px);height: 1px;margin: -1px;overflow: hidden;padding: 0;position: absolute;width: 1px;}#sk-3dc6aeb5-2084-47ca-904a-2f267fff07c5 div.sk-estimator {font-family: monospace;background-color: #f0f8ff;border: 1px dotted black;border-radius: 0.25em;box-sizing: border-box;margin-bottom: 0.5em;}#sk-3dc6aeb5-2084-47ca-904a-2f267fff07c5 div.sk-estimator:hover {background-color: #d4ebff;}#sk-3dc6aeb5-2084-47ca-904a-2f267fff07c5 div.sk-parallel-item::after {content: \"\";width: 100%;border-bottom: 1px solid gray;flex-grow: 1;}#sk-3dc6aeb5-2084-47ca-904a-2f267fff07c5 div.sk-label:hover label.sk-toggleable__label {background-color: #d4ebff;}#sk-3dc6aeb5-2084-47ca-904a-2f267fff07c5 div.sk-serial::before {content: \"\";position: absolute;border-left: 1px solid gray;box-sizing: border-box;top: 2em;bottom: 0;left: 50%;}#sk-3dc6aeb5-2084-47ca-904a-2f267fff07c5 div.sk-serial {display: flex;flex-direction: column;align-items: center;background-color: white;padding-right: 0.2em;padding-left: 0.2em;}#sk-3dc6aeb5-2084-47ca-904a-2f267fff07c5 div.sk-item {z-index: 1;}#sk-3dc6aeb5-2084-47ca-904a-2f267fff07c5 div.sk-parallel {display: flex;align-items: stretch;justify-content: center;background-color: white;}#sk-3dc6aeb5-2084-47ca-904a-2f267fff07c5 div.sk-parallel::before {content: \"\";position: absolute;border-left: 1px solid gray;box-sizing: border-box;top: 2em;bottom: 0;left: 50%;}#sk-3dc6aeb5-2084-47ca-904a-2f267fff07c5 div.sk-parallel-item {display: flex;flex-direction: column;position: relative;background-color: white;}#sk-3dc6aeb5-2084-47ca-904a-2f267fff07c5 div.sk-parallel-item:first-child::after {align-self: flex-end;width: 50%;}#sk-3dc6aeb5-2084-47ca-904a-2f267fff07c5 div.sk-parallel-item:last-child::after {align-self: flex-start;width: 50%;}#sk-3dc6aeb5-2084-47ca-904a-2f267fff07c5 div.sk-parallel-item:only-child::after {width: 0;}#sk-3dc6aeb5-2084-47ca-904a-2f267fff07c5 div.sk-dashed-wrapped {border: 1px dashed gray;margin: 0 0.4em 0.5em 0.4em;box-sizing: border-box;padding-bottom: 0.4em;background-color: white;position: relative;}#sk-3dc6aeb5-2084-47ca-904a-2f267fff07c5 div.sk-label label {font-family: monospace;font-weight: bold;background-color: white;display: inline-block;line-height: 1.2em;}#sk-3dc6aeb5-2084-47ca-904a-2f267fff07c5 div.sk-label-container {position: relative;z-index: 2;text-align: center;}#sk-3dc6aeb5-2084-47ca-904a-2f267fff07c5 div.sk-container {/* jupyter's `normalize.less` sets `[hidden] { display: none; }` but bootstrap.min.css set `[hidden] { display: none !important; }` so we also need the `!important` here to be able to override the default hidden behavior on the sphinx rendered scikit-learn.org. See: https://github.com/scikit-learn/scikit-learn/issues/21755 */display: inline-block !important;position: relative;}#sk-3dc6aeb5-2084-47ca-904a-2f267fff07c5 div.sk-text-repr-fallback {display: none;}</style><div id=\"sk-3dc6aeb5-2084-47ca-904a-2f267fff07c5\" class=\"sk-top-container\"><div class=\"sk-text-repr-fallback\"><pre>ColumnTransformer(remainder=&#x27;passthrough&#x27;,\n",
       "                  transformers=[(&#x27;onehotencoder&#x27;,\n",
       "                                 OneHotEncoder(handle_unknown=&#x27;ignore&#x27;,\n",
       "                                               sparse=False),\n",
       "                                 &lt;sklearn.compose._column_transformer.make_column_selector object at 0x000001FE914A61C0&gt;)])</pre><b>Please rerun this cell to show the HTML repr or trust the notebook.</b></div><div class=\"sk-container\" hidden><div class=\"sk-item sk-dashed-wrapped\"><div class=\"sk-label-container\"><div class=\"sk-label sk-toggleable\"><input class=\"sk-toggleable__control sk-hidden--visually\" id=\"9fe51fee-3b18-4749-9bb3-c2f370ecb0a1\" type=\"checkbox\" ><label for=\"9fe51fee-3b18-4749-9bb3-c2f370ecb0a1\" class=\"sk-toggleable__label sk-toggleable__label-arrow\">ColumnTransformer</label><div class=\"sk-toggleable__content\"><pre>ColumnTransformer(remainder=&#x27;passthrough&#x27;,\n",
       "                  transformers=[(&#x27;onehotencoder&#x27;,\n",
       "                                 OneHotEncoder(handle_unknown=&#x27;ignore&#x27;,\n",
       "                                               sparse=False),\n",
       "                                 &lt;sklearn.compose._column_transformer.make_column_selector object at 0x000001FE914A61C0&gt;)])</pre></div></div></div><div class=\"sk-parallel\"><div class=\"sk-parallel-item\"><div class=\"sk-item\"><div class=\"sk-label-container\"><div class=\"sk-label sk-toggleable\"><input class=\"sk-toggleable__control sk-hidden--visually\" id=\"25712729-14a2-42eb-a246-e5f8ca0da3b0\" type=\"checkbox\" ><label for=\"25712729-14a2-42eb-a246-e5f8ca0da3b0\" class=\"sk-toggleable__label sk-toggleable__label-arrow\">onehotencoder</label><div class=\"sk-toggleable__content\"><pre>&lt;sklearn.compose._column_transformer.make_column_selector object at 0x000001FE914A61C0&gt;</pre></div></div></div><div class=\"sk-serial\"><div class=\"sk-item\"><div class=\"sk-estimator sk-toggleable\"><input class=\"sk-toggleable__control sk-hidden--visually\" id=\"e93698b2-399f-4a55-ab6b-b513445a51b5\" type=\"checkbox\" ><label for=\"e93698b2-399f-4a55-ab6b-b513445a51b5\" class=\"sk-toggleable__label sk-toggleable__label-arrow\">OneHotEncoder</label><div class=\"sk-toggleable__content\"><pre>OneHotEncoder(handle_unknown=&#x27;ignore&#x27;, sparse=False)</pre></div></div></div></div></div></div><div class=\"sk-parallel-item\"><div class=\"sk-item\"><div class=\"sk-label-container\"><div class=\"sk-label sk-toggleable\"><input class=\"sk-toggleable__control sk-hidden--visually\" id=\"ca153def-9603-48c8-989c-c253ef771310\" type=\"checkbox\" ><label for=\"ca153def-9603-48c8-989c-c253ef771310\" class=\"sk-toggleable__label sk-toggleable__label-arrow\">remainder</label><div class=\"sk-toggleable__content\"><pre></pre></div></div></div><div class=\"sk-serial\"><div class=\"sk-item\"><div class=\"sk-estimator sk-toggleable\"><input class=\"sk-toggleable__control sk-hidden--visually\" id=\"a7f718c8-a324-4906-be1f-93910bb998c0\" type=\"checkbox\" ><label for=\"a7f718c8-a324-4906-be1f-93910bb998c0\" class=\"sk-toggleable__label sk-toggleable__label-arrow\">passthrough</label><div class=\"sk-toggleable__content\"><pre>passthrough</pre></div></div></div></div></div></div></div></div></div></div>"
      ],
      "text/plain": [
       "ColumnTransformer(remainder='passthrough',\n",
       "                  transformers=[('onehotencoder',\n",
       "                                 OneHotEncoder(handle_unknown='ignore',\n",
       "                                               sparse=False),\n",
       "                                 <sklearn.compose._column_transformer.make_column_selector object at 0x000001FE914A61C0>)])"
      ]
     },
     "execution_count": 107,
     "metadata": {},
     "output_type": "execute_result"
    }
   ],
   "source": [
    "# numeric_transformer = make_pipeline(\n",
    "# #     SimpleImputer(strategy='mean'),\n",
    "# #     StandardScaler()\n",
    "# )\n",
    "\n",
    "encoder = make_column_transformer(\n",
    "#     (numeric_transformer, ['age']),\n",
    "    (OneHotEncoder(sparse=False, handle_unknown='ignore'), make_column_selector(dtype_include='category')),\n",
    "    remainder='passthrough'\n",
    ")\n",
    "encoder"
   ]
  },
  {
   "cell_type": "code",
   "execution_count": 108,
   "id": "064de3a1",
   "metadata": {},
   "outputs": [],
   "source": [
    "y_enc = LabelEncoder().fit(y_train.values)\n",
    "y_train = y_enc.transform(y_train)\n",
    "y_test = y_enc.transform(y_test.values)"
   ]
  },
  {
   "cell_type": "code",
   "execution_count": 109,
   "id": "9e1c7b1a",
   "metadata": {},
   "outputs": [
    {
     "data": {
      "text/plain": [
       "['models\\\\LabelEncoder.pkl']"
      ]
     },
     "execution_count": 109,
     "metadata": {},
     "output_type": "execute_result"
    }
   ],
   "source": [
    "# joblib.dump(y_enc, Path(\"models/LabelEncoder.pkl\"))"
   ]
  },
  {
   "cell_type": "code",
   "execution_count": 55,
   "id": "744417a0",
   "metadata": {},
   "outputs": [],
   "source": [
    "encoded_data = encoder.fit_transform(X)"
   ]
  },
  {
   "cell_type": "code",
   "execution_count": 56,
   "id": "2b512330",
   "metadata": {},
   "outputs": [
    {
     "data": {
      "text/plain": [
       "(73815, 157)"
      ]
     },
     "execution_count": 56,
     "metadata": {},
     "output_type": "execute_result"
    }
   ],
   "source": [
    "encoded_data.shape"
   ]
  },
  {
   "cell_type": "markdown",
   "id": "14669650",
   "metadata": {},
   "source": [
    "### NDCG Score Implementation\n",
    "\n",
    "(1, 0, 0, 0, 0) will serve as the true ranking.\n",
    "\n",
    "The prediction (NDF-US-OTHER-FR-IT) will be used as a dummy model. It will be transformed into an ndarray such that incorrect guesses are transformed to 0 and correct guesses to 1.\n",
    "\n",
    "A first-rank correct guess generally appears as (1, 0, 0, 0, 0), a second-rank correct guess as (0, 1, 0, 0, 0), and no correct guess as (0, 0, 0, 0, 0)."
   ]
  },
  {
   "cell_type": "code",
   "execution_count": 57,
   "id": "805c9b47",
   "metadata": {
    "scrolled": false
   },
   "outputs": [],
   "source": [
    "def ndcg_score(y_true, y_pred, k):\n",
    "    scores = []\n",
    "    for true, pred in zip(y_true, y_pred):\n",
    "        rank = np.argsort(pred)[:-(k+1):-1]\n",
    "        relevance = np.where(rank == true, 1, 0)\n",
    "        dcg_score = np.sum(relevance / np.log2(np.arange(2, len(relevance) + 2)))\n",
    "        scores.append(dcg_score)\n",
    "    \n",
    "    return np.mean(scores)\n",
    "\n",
    "ndcg_scorer = make_scorer(ndcg_score, needs_proba=True, k=5)"
   ]
  },
  {
   "cell_type": "code",
   "execution_count": null,
   "id": "6ba8edab",
   "metadata": {},
   "outputs": [],
   "source": [
    "%%time\n",
    "# NDCG for the dummy model NDF-US-other-FR-IT as a series of probabilities\n",
    "y_pred = np.asarray([[0, 0, 0, 0, .0625, 0, 0.03125, .5, 0, 0, .25, .125]]*df.shape[0])\n",
    "\n",
    "ndcg_score(y_enc.transform(df['country_destination'].values), y_pred, k=5)"
   ]
  },
  {
   "cell_type": "markdown",
   "id": "1f2c5ce3",
   "metadata": {},
   "source": [
    "### Logistic Regression"
   ]
  },
  {
   "cell_type": "code",
   "execution_count": 58,
   "id": "855cc8af",
   "metadata": {
    "scrolled": false
   },
   "outputs": [
    {
     "data": {
      "text/html": [
       "<style>#sk-674b4a5d-9d72-4a12-b478-02942752ec9c {color: black;background-color: white;}#sk-674b4a5d-9d72-4a12-b478-02942752ec9c pre{padding: 0;}#sk-674b4a5d-9d72-4a12-b478-02942752ec9c div.sk-toggleable {background-color: white;}#sk-674b4a5d-9d72-4a12-b478-02942752ec9c label.sk-toggleable__label {cursor: pointer;display: block;width: 100%;margin-bottom: 0;padding: 0.3em;box-sizing: border-box;text-align: center;}#sk-674b4a5d-9d72-4a12-b478-02942752ec9c label.sk-toggleable__label-arrow:before {content: \"▸\";float: left;margin-right: 0.25em;color: #696969;}#sk-674b4a5d-9d72-4a12-b478-02942752ec9c label.sk-toggleable__label-arrow:hover:before {color: black;}#sk-674b4a5d-9d72-4a12-b478-02942752ec9c div.sk-estimator:hover label.sk-toggleable__label-arrow:before {color: black;}#sk-674b4a5d-9d72-4a12-b478-02942752ec9c div.sk-toggleable__content {max-height: 0;max-width: 0;overflow: hidden;text-align: left;background-color: #f0f8ff;}#sk-674b4a5d-9d72-4a12-b478-02942752ec9c div.sk-toggleable__content pre {margin: 0.2em;color: black;border-radius: 0.25em;background-color: #f0f8ff;}#sk-674b4a5d-9d72-4a12-b478-02942752ec9c input.sk-toggleable__control:checked~div.sk-toggleable__content {max-height: 200px;max-width: 100%;overflow: auto;}#sk-674b4a5d-9d72-4a12-b478-02942752ec9c input.sk-toggleable__control:checked~label.sk-toggleable__label-arrow:before {content: \"▾\";}#sk-674b4a5d-9d72-4a12-b478-02942752ec9c div.sk-estimator input.sk-toggleable__control:checked~label.sk-toggleable__label {background-color: #d4ebff;}#sk-674b4a5d-9d72-4a12-b478-02942752ec9c div.sk-label input.sk-toggleable__control:checked~label.sk-toggleable__label {background-color: #d4ebff;}#sk-674b4a5d-9d72-4a12-b478-02942752ec9c input.sk-hidden--visually {border: 0;clip: rect(1px 1px 1px 1px);clip: rect(1px, 1px, 1px, 1px);height: 1px;margin: -1px;overflow: hidden;padding: 0;position: absolute;width: 1px;}#sk-674b4a5d-9d72-4a12-b478-02942752ec9c div.sk-estimator {font-family: monospace;background-color: #f0f8ff;border: 1px dotted black;border-radius: 0.25em;box-sizing: border-box;margin-bottom: 0.5em;}#sk-674b4a5d-9d72-4a12-b478-02942752ec9c div.sk-estimator:hover {background-color: #d4ebff;}#sk-674b4a5d-9d72-4a12-b478-02942752ec9c div.sk-parallel-item::after {content: \"\";width: 100%;border-bottom: 1px solid gray;flex-grow: 1;}#sk-674b4a5d-9d72-4a12-b478-02942752ec9c div.sk-label:hover label.sk-toggleable__label {background-color: #d4ebff;}#sk-674b4a5d-9d72-4a12-b478-02942752ec9c div.sk-serial::before {content: \"\";position: absolute;border-left: 1px solid gray;box-sizing: border-box;top: 2em;bottom: 0;left: 50%;}#sk-674b4a5d-9d72-4a12-b478-02942752ec9c div.sk-serial {display: flex;flex-direction: column;align-items: center;background-color: white;padding-right: 0.2em;padding-left: 0.2em;}#sk-674b4a5d-9d72-4a12-b478-02942752ec9c div.sk-item {z-index: 1;}#sk-674b4a5d-9d72-4a12-b478-02942752ec9c div.sk-parallel {display: flex;align-items: stretch;justify-content: center;background-color: white;}#sk-674b4a5d-9d72-4a12-b478-02942752ec9c div.sk-parallel::before {content: \"\";position: absolute;border-left: 1px solid gray;box-sizing: border-box;top: 2em;bottom: 0;left: 50%;}#sk-674b4a5d-9d72-4a12-b478-02942752ec9c div.sk-parallel-item {display: flex;flex-direction: column;position: relative;background-color: white;}#sk-674b4a5d-9d72-4a12-b478-02942752ec9c div.sk-parallel-item:first-child::after {align-self: flex-end;width: 50%;}#sk-674b4a5d-9d72-4a12-b478-02942752ec9c div.sk-parallel-item:last-child::after {align-self: flex-start;width: 50%;}#sk-674b4a5d-9d72-4a12-b478-02942752ec9c div.sk-parallel-item:only-child::after {width: 0;}#sk-674b4a5d-9d72-4a12-b478-02942752ec9c div.sk-dashed-wrapped {border: 1px dashed gray;margin: 0 0.4em 0.5em 0.4em;box-sizing: border-box;padding-bottom: 0.4em;background-color: white;position: relative;}#sk-674b4a5d-9d72-4a12-b478-02942752ec9c div.sk-label label {font-family: monospace;font-weight: bold;background-color: white;display: inline-block;line-height: 1.2em;}#sk-674b4a5d-9d72-4a12-b478-02942752ec9c div.sk-label-container {position: relative;z-index: 2;text-align: center;}#sk-674b4a5d-9d72-4a12-b478-02942752ec9c div.sk-container {/* jupyter's `normalize.less` sets `[hidden] { display: none; }` but bootstrap.min.css set `[hidden] { display: none !important; }` so we also need the `!important` here to be able to override the default hidden behavior on the sphinx rendered scikit-learn.org. See: https://github.com/scikit-learn/scikit-learn/issues/21755 */display: inline-block !important;position: relative;}#sk-674b4a5d-9d72-4a12-b478-02942752ec9c div.sk-text-repr-fallback {display: none;}</style><div id=\"sk-674b4a5d-9d72-4a12-b478-02942752ec9c\" class=\"sk-top-container\"><div class=\"sk-text-repr-fallback\"><pre>Pipeline(steps=[(&#x27;columntransformer&#x27;,\n",
       "                 ColumnTransformer(remainder=&#x27;passthrough&#x27;,\n",
       "                                   transformers=[(&#x27;onehotencoder&#x27;,\n",
       "                                                  OneHotEncoder(handle_unknown=&#x27;ignore&#x27;,\n",
       "                                                                sparse=False),\n",
       "                                                  &lt;sklearn.compose._column_transformer.make_column_selector object at 0x000001FE093BB9D0&gt;)])),\n",
       "                (&#x27;logisticregression&#x27;,\n",
       "                 LogisticRegression(C=0.08, max_iter=500))])</pre><b>Please rerun this cell to show the HTML repr or trust the notebook.</b></div><div class=\"sk-container\" hidden><div class=\"sk-item sk-dashed-wrapped\"><div class=\"sk-label-container\"><div class=\"sk-label sk-toggleable\"><input class=\"sk-toggleable__control sk-hidden--visually\" id=\"ccc17655-9ca1-49e5-8141-00422cef6705\" type=\"checkbox\" ><label for=\"ccc17655-9ca1-49e5-8141-00422cef6705\" class=\"sk-toggleable__label sk-toggleable__label-arrow\">Pipeline</label><div class=\"sk-toggleable__content\"><pre>Pipeline(steps=[(&#x27;columntransformer&#x27;,\n",
       "                 ColumnTransformer(remainder=&#x27;passthrough&#x27;,\n",
       "                                   transformers=[(&#x27;onehotencoder&#x27;,\n",
       "                                                  OneHotEncoder(handle_unknown=&#x27;ignore&#x27;,\n",
       "                                                                sparse=False),\n",
       "                                                  &lt;sklearn.compose._column_transformer.make_column_selector object at 0x000001FE093BB9D0&gt;)])),\n",
       "                (&#x27;logisticregression&#x27;,\n",
       "                 LogisticRegression(C=0.08, max_iter=500))])</pre></div></div></div><div class=\"sk-serial\"><div class=\"sk-item sk-dashed-wrapped\"><div class=\"sk-label-container\"><div class=\"sk-label sk-toggleable\"><input class=\"sk-toggleable__control sk-hidden--visually\" id=\"8aae75b3-0f37-4a86-b062-ba835967df1f\" type=\"checkbox\" ><label for=\"8aae75b3-0f37-4a86-b062-ba835967df1f\" class=\"sk-toggleable__label sk-toggleable__label-arrow\">columntransformer: ColumnTransformer</label><div class=\"sk-toggleable__content\"><pre>ColumnTransformer(remainder=&#x27;passthrough&#x27;,\n",
       "                  transformers=[(&#x27;onehotencoder&#x27;,\n",
       "                                 OneHotEncoder(handle_unknown=&#x27;ignore&#x27;,\n",
       "                                               sparse=False),\n",
       "                                 &lt;sklearn.compose._column_transformer.make_column_selector object at 0x000001FE093BB9D0&gt;)])</pre></div></div></div><div class=\"sk-parallel\"><div class=\"sk-parallel-item\"><div class=\"sk-item\"><div class=\"sk-label-container\"><div class=\"sk-label sk-toggleable\"><input class=\"sk-toggleable__control sk-hidden--visually\" id=\"8fc45c53-30d0-40bd-9774-f62a33695880\" type=\"checkbox\" ><label for=\"8fc45c53-30d0-40bd-9774-f62a33695880\" class=\"sk-toggleable__label sk-toggleable__label-arrow\">onehotencoder</label><div class=\"sk-toggleable__content\"><pre>&lt;sklearn.compose._column_transformer.make_column_selector object at 0x000001FE093BB9D0&gt;</pre></div></div></div><div class=\"sk-serial\"><div class=\"sk-item\"><div class=\"sk-estimator sk-toggleable\"><input class=\"sk-toggleable__control sk-hidden--visually\" id=\"ab899512-60ea-4a9f-b845-dd4352371a6f\" type=\"checkbox\" ><label for=\"ab899512-60ea-4a9f-b845-dd4352371a6f\" class=\"sk-toggleable__label sk-toggleable__label-arrow\">OneHotEncoder</label><div class=\"sk-toggleable__content\"><pre>OneHotEncoder(handle_unknown=&#x27;ignore&#x27;, sparse=False)</pre></div></div></div></div></div></div><div class=\"sk-parallel-item\"><div class=\"sk-item\"><div class=\"sk-label-container\"><div class=\"sk-label sk-toggleable\"><input class=\"sk-toggleable__control sk-hidden--visually\" id=\"fa391990-98c7-4ecb-94b0-66cf09cdde15\" type=\"checkbox\" ><label for=\"fa391990-98c7-4ecb-94b0-66cf09cdde15\" class=\"sk-toggleable__label sk-toggleable__label-arrow\">remainder</label><div class=\"sk-toggleable__content\"><pre>[]</pre></div></div></div><div class=\"sk-serial\"><div class=\"sk-item\"><div class=\"sk-estimator sk-toggleable\"><input class=\"sk-toggleable__control sk-hidden--visually\" id=\"59e01e52-396a-4f82-aeb9-1ad8f238d4fc\" type=\"checkbox\" ><label for=\"59e01e52-396a-4f82-aeb9-1ad8f238d4fc\" class=\"sk-toggleable__label sk-toggleable__label-arrow\">passthrough</label><div class=\"sk-toggleable__content\"><pre>passthrough</pre></div></div></div></div></div></div></div></div><div class=\"sk-item\"><div class=\"sk-estimator sk-toggleable\"><input class=\"sk-toggleable__control sk-hidden--visually\" id=\"0bc7019f-2830-4977-ba5e-048d8f46050d\" type=\"checkbox\" ><label for=\"0bc7019f-2830-4977-ba5e-048d8f46050d\" class=\"sk-toggleable__label sk-toggleable__label-arrow\">LogisticRegression</label><div class=\"sk-toggleable__content\"><pre>LogisticRegression(C=0.08, max_iter=500)</pre></div></div></div></div></div></div></div>"
      ],
      "text/plain": [
       "Pipeline(steps=[('columntransformer',\n",
       "                 ColumnTransformer(remainder='passthrough',\n",
       "                                   transformers=[('onehotencoder',\n",
       "                                                  OneHotEncoder(handle_unknown='ignore',\n",
       "                                                                sparse=False),\n",
       "                                                  <sklearn.compose._column_transformer.make_column_selector object at 0x000001FE093BB9D0>)])),\n",
       "                ('logisticregression',\n",
       "                 LogisticRegression(C=0.08, max_iter=500))])"
      ]
     },
     "execution_count": 58,
     "metadata": {},
     "output_type": "execute_result"
    }
   ],
   "source": [
    "clf0 = LogisticRegression(C=0.08, max_iter=500)\n",
    "\n",
    "pipeline0 = make_pipeline(encoder, clf0)\n",
    "pipeline0"
   ]
  },
  {
   "cell_type": "code",
   "execution_count": 59,
   "id": "1cada3dc",
   "metadata": {
    "scrolled": true
   },
   "outputs": [
    {
     "name": "stdout",
     "output_type": "stream",
     "text": [
      "Wall time: 1.99 s\n"
     ]
    }
   ],
   "source": [
    "%%time\n",
    "# Fit the pipeline on the training data\n",
    "pipeline0.fit(X_train, y_train)\n",
    "\n",
    "# Predict probabilities\n",
    "y_pred = pipeline0.predict_proba(X_test)"
   ]
  },
  {
   "cell_type": "code",
   "execution_count": 60,
   "id": "82b086a3",
   "metadata": {},
   "outputs": [
    {
     "data": {
      "text/plain": [
       "0.8492684290374157"
      ]
     },
     "execution_count": 60,
     "metadata": {},
     "output_type": "execute_result"
    }
   ],
   "source": [
    "ndcg_score(y_test, y_pred, k=5)"
   ]
  },
  {
   "cell_type": "code",
   "execution_count": null,
   "id": "99f25447",
   "metadata": {},
   "outputs": [],
   "source": [
    "%%time\n",
    "np.mean(cross_val_score(pipeline0, X_train, y_train, scoring=ndcg_scorer))"
   ]
  },
  {
   "cell_type": "markdown",
   "id": "290bb7be",
   "metadata": {},
   "source": [
    "#### LR with GridSearchCV"
   ]
  },
  {
   "cell_type": "code",
   "execution_count": null,
   "id": "b3e7548d",
   "metadata": {},
   "outputs": [],
   "source": [
    "# register_ray()"
   ]
  },
  {
   "cell_type": "code",
   "execution_count": null,
   "id": "95a775bf",
   "metadata": {},
   "outputs": [],
   "source": [
    "params = {\n",
    "    'logisticregression__C': [0.1, 1.0, 10.0, 100.0],\n",
    "    'logisticregression__penalty': ['l2'], # ,l1\n",
    "    'logisticregression__solver': ['lbfgs', 'liblinear', 'saga']\n",
    "#     'columntransformer__pipeline__simpleimputer__strategy': [\"mean\", \"median\"]\n",
    "}\n",
    "\n",
    "grid_search = TuneGridSearchCV(pipeline0, params, n_jobs=-1, verbose=1, cv=5, scoring=ndcg_scorer)\n",
    "# pipeline0.get_params().keys()"
   ]
  },
  {
   "cell_type": "code",
   "execution_count": null,
   "id": "31c37f9d",
   "metadata": {},
   "outputs": [],
   "source": [
    "%%time\n",
    "# with parallel_backend(\"ray\"):\n",
    "grid_search.fit(X_train, y_train)"
   ]
  },
  {
   "cell_type": "code",
   "execution_count": null,
   "id": "9894a5a8",
   "metadata": {},
   "outputs": [],
   "source": [
    "grid_search.best_params_"
   ]
  },
  {
   "cell_type": "code",
   "execution_count": null,
   "id": "01be9870",
   "metadata": {},
   "outputs": [],
   "source": [
    "to_drop = ['mean_score_time', 'std_score_time', 'std_fit_time', 'params', 'split0_test_score', 'split1_test_score', 'split2_test_score', 'split3_test_score', 'split4_test_score']\n",
    "result = pd.DataFrame(grid_search.cv_results_)\n",
    "result = result.sort_values('mean_test_score', axis=0, ascending=False).drop(columns=to_drop)\n",
    "result = result.rename(columns=lambda x: x[x.find('__')+1:])\n",
    "result"
   ]
  },
  {
   "cell_type": "code",
   "execution_count": null,
   "id": "7507e97b",
   "metadata": {},
   "outputs": [],
   "source": [
    "y_pred = grid_search.predict_proba(X_test)\n",
    "ndcg_score(y_test, y_pred, k=5)"
   ]
  },
  {
   "cell_type": "code",
   "execution_count": 64,
   "id": "19131dff",
   "metadata": {},
   "outputs": [
    {
     "data": {
      "text/plain": [
       "['models/LogisticRegression.pkl']"
      ]
     },
     "execution_count": 64,
     "metadata": {},
     "output_type": "execute_result"
    }
   ],
   "source": [
    "# Pickle model and write to hard drive\n",
    "joblib.dump(pipeline0, \"models/LogisticRegression.pkl\")"
   ]
  },
  {
   "cell_type": "markdown",
   "id": "a689097e",
   "metadata": {},
   "source": [
    "### Decision Tree Classifier"
   ]
  },
  {
   "cell_type": "code",
   "execution_count": null,
   "id": "a53527f9",
   "metadata": {},
   "outputs": [],
   "source": [
    "clf1 = DecisionTreeClassifier(random_state=0)\n",
    "\n",
    "pipeline1 = make_pipeline(encoder, clf1)\n",
    "pipeline1"
   ]
  },
  {
   "cell_type": "code",
   "execution_count": null,
   "id": "d5463fde",
   "metadata": {},
   "outputs": [],
   "source": [
    "# Fit the pipeline on the training data\n",
    "pipeline1.fit(X_train, y_train)\n",
    "\n",
    "# Score the pipeline on the testing data\n",
    "pipeline1.score(X_test, y_test)"
   ]
  },
  {
   "cell_type": "code",
   "execution_count": null,
   "id": "4ef08e9f",
   "metadata": {},
   "outputs": [],
   "source": [
    "# Pickle model and write to hard drive\n",
    "# joblib.dump(pipeline1, \"models/CategoricalNB.pkl\")"
   ]
  },
  {
   "cell_type": "markdown",
   "id": "3735429b",
   "metadata": {},
   "source": [
    "### SVC"
   ]
  },
  {
   "cell_type": "code",
   "execution_count": null,
   "id": "8ef734b9",
   "metadata": {},
   "outputs": [],
   "source": [
    "clf2 = SVC(probability=True)\n",
    "\n",
    "pipeline2 = make_pipeline(encoder, clf2)\n",
    "pipeline2"
   ]
  },
  {
   "cell_type": "code",
   "execution_count": null,
   "id": "9a6cbb23",
   "metadata": {},
   "outputs": [],
   "source": [
    "%%time\n",
    "# Fit the pipeline on the training data\n",
    "pipeline2.fit(X_train, y_train)"
   ]
  },
  {
   "cell_type": "code",
   "execution_count": null,
   "id": "487c44e6",
   "metadata": {},
   "outputs": [],
   "source": [
    "%%time\n",
    "# Score the pipeline on the testing data\n",
    "y_pred = pipeline2.predict_proba(X_test)\n",
    "ndcg_score(y_test, y_pred, k=5)"
   ]
  },
  {
   "cell_type": "code",
   "execution_count": null,
   "id": "9d6ee19c",
   "metadata": {},
   "outputs": [],
   "source": [
    "# Pickle model and write to hard drive\n",
    "# joblib.dump(pipeline2, \"models/SVC_1.pkl\")"
   ]
  },
  {
   "cell_type": "markdown",
   "id": "26c2ba13",
   "metadata": {},
   "source": [
    "### Neural Network"
   ]
  },
  {
   "cell_type": "code",
   "execution_count": null,
   "id": "9c9905d6",
   "metadata": {},
   "outputs": [],
   "source": [
    "clf3 = MLPClassifier(random_state=1, max_iter=300)\n",
    "\n",
    "pipeline3 = make_pipeline(encoder, clf3)\n",
    "pipeline3"
   ]
  },
  {
   "cell_type": "code",
   "execution_count": null,
   "id": "bba407e3",
   "metadata": {},
   "outputs": [],
   "source": [
    "%%time\n",
    "# Fit the pipeline on the training data\n",
    "pipeline3.fit(X_train, y_train)"
   ]
  },
  {
   "cell_type": "code",
   "execution_count": null,
   "id": "15dedfa8",
   "metadata": {},
   "outputs": [],
   "source": [
    "# Score the pipeline on the testing data\n",
    "y_pred = pipeline3.predict_proba(X_test)\n",
    "ndcg_score(y_test, y_pred, k=5)"
   ]
  },
  {
   "cell_type": "code",
   "execution_count": null,
   "id": "725101b8",
   "metadata": {},
   "outputs": [],
   "source": [
    "# Pickle model and write to hard drive\n",
    "# joblib.dump(pipeline3, \"models/MLPClassifier.pkl\")"
   ]
  },
  {
   "cell_type": "markdown",
   "id": "03e17495",
   "metadata": {},
   "source": [
    "### Random Forest"
   ]
  },
  {
   "cell_type": "code",
   "execution_count": null,
   "id": "cc36efd0",
   "metadata": {},
   "outputs": [],
   "source": [
    "clf4 = RandomForestClassifier(random_state=0)\n",
    "\n",
    "pipeline4 = make_pipeline(encoder, clf4)\n",
    "pipeline4"
   ]
  },
  {
   "cell_type": "code",
   "execution_count": null,
   "id": "ccad932c",
   "metadata": {},
   "outputs": [],
   "source": [
    "%%time\n",
    "# Fit the pipeline on the training data\n",
    "pipeline4.fit(X_train, y_train)"
   ]
  },
  {
   "cell_type": "code",
   "execution_count": null,
   "id": "c5ef8eab",
   "metadata": {},
   "outputs": [],
   "source": [
    "# Score the pipeline on the testing data\n",
    "y_pred = pipeline4.predict_proba(X_test)\n",
    "ndcg_score(y_test, y_pred, k=5)"
   ]
  },
  {
   "cell_type": "code",
   "execution_count": null,
   "id": "1f74e897",
   "metadata": {},
   "outputs": [],
   "source": [
    "# Pickle model and write to hard drive\n",
    "# joblib.dump(pipeline4, \"models/RandomForestClassifier.pkl\")"
   ]
  },
  {
   "cell_type": "markdown",
   "id": "97cb9c70",
   "metadata": {},
   "source": [
    "### SGD Classifier"
   ]
  },
  {
   "cell_type": "code",
   "execution_count": null,
   "id": "68ef3632",
   "metadata": {},
   "outputs": [],
   "source": [
    "clf5 = SGDClassifier(loss='modified_huber', random_state=0)\n",
    "\n",
    "pipeline5 = make_pipeline(encoder, clf5)\n",
    "pipeline5"
   ]
  },
  {
   "cell_type": "code",
   "execution_count": null,
   "id": "b1c0c185",
   "metadata": {},
   "outputs": [],
   "source": [
    "%%time\n",
    "# Fit the pipeline on the training data\n",
    "pipeline5.fit(X_train, y_train)"
   ]
  },
  {
   "cell_type": "code",
   "execution_count": null,
   "id": "e13bf4fe",
   "metadata": {},
   "outputs": [],
   "source": [
    "y_pred = pipeline5.predict_proba(X_test)\n",
    "ndcg_score(y_test, y_pred, k=5)"
   ]
  },
  {
   "cell_type": "code",
   "execution_count": null,
   "id": "50e47eae",
   "metadata": {},
   "outputs": [],
   "source": [
    "# pipeline5.get_params()"
   ]
  },
  {
   "cell_type": "code",
   "execution_count": null,
   "id": "de910568",
   "metadata": {},
   "outputs": [],
   "source": [
    "params = {\n",
    "    # 'sgdclassifier__loss': ['hinge', 'squared_hinge', 'modified_huber', 'perceptron'],\n",
    "    'sgdclassifier__penalty': ['l2', 'l1', 'elasticnet'],\n",
    "    'sgdclassifier__alpha': [1e-4, 1e-3, 1e-1],\n",
    "    'sgdclassifier__epsilon': [0.01, 0.1]\n",
    "}\n",
    "grid_search = GridSearchCV(pipeline5, params, n_jobs=-1, verbose=1, cv=5,scoring=ndcg_scorer) #, search_optimization='bayesian')\n",
    "# pipeline0.get_params().keys()"
   ]
  },
  {
   "cell_type": "code",
   "execution_count": null,
   "id": "3a49e0f2",
   "metadata": {},
   "outputs": [],
   "source": [
    "%%time\n",
    "# with parallel_backend(\"ray\"):\n",
    "grid_search.fit(X_train, y_train)"
   ]
  },
  {
   "cell_type": "code",
   "execution_count": null,
   "id": "25888ab2",
   "metadata": {},
   "outputs": [],
   "source": [
    "grid_search.best_params_"
   ]
  },
  {
   "cell_type": "code",
   "execution_count": null,
   "id": "384db96b",
   "metadata": {},
   "outputs": [],
   "source": [
    "grid_search.cv_results_"
   ]
  },
  {
   "cell_type": "code",
   "execution_count": null,
   "id": "5d460ca6",
   "metadata": {},
   "outputs": [],
   "source": [
    "to_drop = ['mean_score_time', 'std_score_time', 'std_fit_time', 'params', 'split0_test_score', 'split1_test_score', 'split2_test_score', 'split3_test_score', 'split4_test_score']\n",
    "result = pd.DataFrame(grid_search.cv_results_)\n",
    "result = result.sort_values('mean_test_score', axis=0, ascending=False).drop(columns=to_drop)\n",
    "result = result.rename(columns=lambda x: x[x.find('__')+1:])\n",
    "result"
   ]
  },
  {
   "cell_type": "code",
   "execution_count": null,
   "id": "1781413f",
   "metadata": {},
   "outputs": [],
   "source": [
    "# cross_val_score(grid_search, X_train, y_train)\n",
    "\n",
    "y_pred = grid_search.predict_proba(X_test)\n",
    "ndcg_score(y_test, y_pred, k=5)"
   ]
  },
  {
   "cell_type": "code",
   "execution_count": null,
   "id": "26403b22",
   "metadata": {},
   "outputs": [],
   "source": [
    "# Pickle model and write to hard drive\n",
    "# joblib.dump(pipeline5, \"models/SGDClassifier.pkl\")"
   ]
  },
  {
   "cell_type": "markdown",
   "id": "7d71147f",
   "metadata": {},
   "source": [
    "### XGBoostClassifier"
   ]
  },
  {
   "cell_type": "code",
   "execution_count": 61,
   "id": "1aec0df8",
   "metadata": {},
   "outputs": [
    {
     "data": {
      "text/html": [
       "<style>#sk-ccfe66e8-4e87-4917-b06b-51893a6b74f1 {color: black;background-color: white;}#sk-ccfe66e8-4e87-4917-b06b-51893a6b74f1 pre{padding: 0;}#sk-ccfe66e8-4e87-4917-b06b-51893a6b74f1 div.sk-toggleable {background-color: white;}#sk-ccfe66e8-4e87-4917-b06b-51893a6b74f1 label.sk-toggleable__label {cursor: pointer;display: block;width: 100%;margin-bottom: 0;padding: 0.3em;box-sizing: border-box;text-align: center;}#sk-ccfe66e8-4e87-4917-b06b-51893a6b74f1 label.sk-toggleable__label-arrow:before {content: \"▸\";float: left;margin-right: 0.25em;color: #696969;}#sk-ccfe66e8-4e87-4917-b06b-51893a6b74f1 label.sk-toggleable__label-arrow:hover:before {color: black;}#sk-ccfe66e8-4e87-4917-b06b-51893a6b74f1 div.sk-estimator:hover label.sk-toggleable__label-arrow:before {color: black;}#sk-ccfe66e8-4e87-4917-b06b-51893a6b74f1 div.sk-toggleable__content {max-height: 0;max-width: 0;overflow: hidden;text-align: left;background-color: #f0f8ff;}#sk-ccfe66e8-4e87-4917-b06b-51893a6b74f1 div.sk-toggleable__content pre {margin: 0.2em;color: black;border-radius: 0.25em;background-color: #f0f8ff;}#sk-ccfe66e8-4e87-4917-b06b-51893a6b74f1 input.sk-toggleable__control:checked~div.sk-toggleable__content {max-height: 200px;max-width: 100%;overflow: auto;}#sk-ccfe66e8-4e87-4917-b06b-51893a6b74f1 input.sk-toggleable__control:checked~label.sk-toggleable__label-arrow:before {content: \"▾\";}#sk-ccfe66e8-4e87-4917-b06b-51893a6b74f1 div.sk-estimator input.sk-toggleable__control:checked~label.sk-toggleable__label {background-color: #d4ebff;}#sk-ccfe66e8-4e87-4917-b06b-51893a6b74f1 div.sk-label input.sk-toggleable__control:checked~label.sk-toggleable__label {background-color: #d4ebff;}#sk-ccfe66e8-4e87-4917-b06b-51893a6b74f1 input.sk-hidden--visually {border: 0;clip: rect(1px 1px 1px 1px);clip: rect(1px, 1px, 1px, 1px);height: 1px;margin: -1px;overflow: hidden;padding: 0;position: absolute;width: 1px;}#sk-ccfe66e8-4e87-4917-b06b-51893a6b74f1 div.sk-estimator {font-family: monospace;background-color: #f0f8ff;border: 1px dotted black;border-radius: 0.25em;box-sizing: border-box;margin-bottom: 0.5em;}#sk-ccfe66e8-4e87-4917-b06b-51893a6b74f1 div.sk-estimator:hover {background-color: #d4ebff;}#sk-ccfe66e8-4e87-4917-b06b-51893a6b74f1 div.sk-parallel-item::after {content: \"\";width: 100%;border-bottom: 1px solid gray;flex-grow: 1;}#sk-ccfe66e8-4e87-4917-b06b-51893a6b74f1 div.sk-label:hover label.sk-toggleable__label {background-color: #d4ebff;}#sk-ccfe66e8-4e87-4917-b06b-51893a6b74f1 div.sk-serial::before {content: \"\";position: absolute;border-left: 1px solid gray;box-sizing: border-box;top: 2em;bottom: 0;left: 50%;}#sk-ccfe66e8-4e87-4917-b06b-51893a6b74f1 div.sk-serial {display: flex;flex-direction: column;align-items: center;background-color: white;padding-right: 0.2em;padding-left: 0.2em;}#sk-ccfe66e8-4e87-4917-b06b-51893a6b74f1 div.sk-item {z-index: 1;}#sk-ccfe66e8-4e87-4917-b06b-51893a6b74f1 div.sk-parallel {display: flex;align-items: stretch;justify-content: center;background-color: white;}#sk-ccfe66e8-4e87-4917-b06b-51893a6b74f1 div.sk-parallel::before {content: \"\";position: absolute;border-left: 1px solid gray;box-sizing: border-box;top: 2em;bottom: 0;left: 50%;}#sk-ccfe66e8-4e87-4917-b06b-51893a6b74f1 div.sk-parallel-item {display: flex;flex-direction: column;position: relative;background-color: white;}#sk-ccfe66e8-4e87-4917-b06b-51893a6b74f1 div.sk-parallel-item:first-child::after {align-self: flex-end;width: 50%;}#sk-ccfe66e8-4e87-4917-b06b-51893a6b74f1 div.sk-parallel-item:last-child::after {align-self: flex-start;width: 50%;}#sk-ccfe66e8-4e87-4917-b06b-51893a6b74f1 div.sk-parallel-item:only-child::after {width: 0;}#sk-ccfe66e8-4e87-4917-b06b-51893a6b74f1 div.sk-dashed-wrapped {border: 1px dashed gray;margin: 0 0.4em 0.5em 0.4em;box-sizing: border-box;padding-bottom: 0.4em;background-color: white;position: relative;}#sk-ccfe66e8-4e87-4917-b06b-51893a6b74f1 div.sk-label label {font-family: monospace;font-weight: bold;background-color: white;display: inline-block;line-height: 1.2em;}#sk-ccfe66e8-4e87-4917-b06b-51893a6b74f1 div.sk-label-container {position: relative;z-index: 2;text-align: center;}#sk-ccfe66e8-4e87-4917-b06b-51893a6b74f1 div.sk-container {/* jupyter's `normalize.less` sets `[hidden] { display: none; }` but bootstrap.min.css set `[hidden] { display: none !important; }` so we also need the `!important` here to be able to override the default hidden behavior on the sphinx rendered scikit-learn.org. See: https://github.com/scikit-learn/scikit-learn/issues/21755 */display: inline-block !important;position: relative;}#sk-ccfe66e8-4e87-4917-b06b-51893a6b74f1 div.sk-text-repr-fallback {display: none;}</style><div id=\"sk-ccfe66e8-4e87-4917-b06b-51893a6b74f1\" class=\"sk-top-container\"><div class=\"sk-text-repr-fallback\"><pre>Pipeline(steps=[(&#x27;columntransformer&#x27;,\n",
       "                 ColumnTransformer(remainder=&#x27;passthrough&#x27;,\n",
       "                                   transformers=[(&#x27;onehotencoder&#x27;,\n",
       "                                                  OneHotEncoder(handle_unknown=&#x27;ignore&#x27;,\n",
       "                                                                sparse=False),\n",
       "                                                  &lt;sklearn.compose._column_transformer.make_column_selector object at 0x000001FE093BB9D0&gt;)])),\n",
       "                (&#x27;xgbclassifier&#x27;,\n",
       "                 XGBClassifier(base_score=None, booster=None, callbacks=None,\n",
       "                               colsample_bylevel=None, c...\n",
       "                               grow_policy=None, importance_type=None,\n",
       "                               interaction_constraints=None, learning_rate=None,\n",
       "                               max_bin=None, max_cat_threshold=None,\n",
       "                               max_cat_to_onehot=None, max_delta_step=None,\n",
       "                               max_depth=None, max_leaves=None,\n",
       "                               min_child_weight=None, missing=nan,\n",
       "                               monotone_constraints=None, n_estimators=100,\n",
       "                               n_jobs=None, num_parallel_tree=None,\n",
       "                               objective=&#x27;mulit:softprob&#x27;, predictor=None, ...))])</pre><b>Please rerun this cell to show the HTML repr or trust the notebook.</b></div><div class=\"sk-container\" hidden><div class=\"sk-item sk-dashed-wrapped\"><div class=\"sk-label-container\"><div class=\"sk-label sk-toggleable\"><input class=\"sk-toggleable__control sk-hidden--visually\" id=\"add3e1e3-e4ef-4b35-94b8-21bdf4dc2f07\" type=\"checkbox\" ><label for=\"add3e1e3-e4ef-4b35-94b8-21bdf4dc2f07\" class=\"sk-toggleable__label sk-toggleable__label-arrow\">Pipeline</label><div class=\"sk-toggleable__content\"><pre>Pipeline(steps=[(&#x27;columntransformer&#x27;,\n",
       "                 ColumnTransformer(remainder=&#x27;passthrough&#x27;,\n",
       "                                   transformers=[(&#x27;onehotencoder&#x27;,\n",
       "                                                  OneHotEncoder(handle_unknown=&#x27;ignore&#x27;,\n",
       "                                                                sparse=False),\n",
       "                                                  &lt;sklearn.compose._column_transformer.make_column_selector object at 0x000001FE093BB9D0&gt;)])),\n",
       "                (&#x27;xgbclassifier&#x27;,\n",
       "                 XGBClassifier(base_score=None, booster=None, callbacks=None,\n",
       "                               colsample_bylevel=None, c...\n",
       "                               grow_policy=None, importance_type=None,\n",
       "                               interaction_constraints=None, learning_rate=None,\n",
       "                               max_bin=None, max_cat_threshold=None,\n",
       "                               max_cat_to_onehot=None, max_delta_step=None,\n",
       "                               max_depth=None, max_leaves=None,\n",
       "                               min_child_weight=None, missing=nan,\n",
       "                               monotone_constraints=None, n_estimators=100,\n",
       "                               n_jobs=None, num_parallel_tree=None,\n",
       "                               objective=&#x27;mulit:softprob&#x27;, predictor=None, ...))])</pre></div></div></div><div class=\"sk-serial\"><div class=\"sk-item sk-dashed-wrapped\"><div class=\"sk-label-container\"><div class=\"sk-label sk-toggleable\"><input class=\"sk-toggleable__control sk-hidden--visually\" id=\"b8e48ff8-c4f8-4995-a592-80bc9bdba329\" type=\"checkbox\" ><label for=\"b8e48ff8-c4f8-4995-a592-80bc9bdba329\" class=\"sk-toggleable__label sk-toggleable__label-arrow\">columntransformer: ColumnTransformer</label><div class=\"sk-toggleable__content\"><pre>ColumnTransformer(remainder=&#x27;passthrough&#x27;,\n",
       "                  transformers=[(&#x27;onehotencoder&#x27;,\n",
       "                                 OneHotEncoder(handle_unknown=&#x27;ignore&#x27;,\n",
       "                                               sparse=False),\n",
       "                                 &lt;sklearn.compose._column_transformer.make_column_selector object at 0x000001FE093BB9D0&gt;)])</pre></div></div></div><div class=\"sk-parallel\"><div class=\"sk-parallel-item\"><div class=\"sk-item\"><div class=\"sk-label-container\"><div class=\"sk-label sk-toggleable\"><input class=\"sk-toggleable__control sk-hidden--visually\" id=\"a089cf2e-1cf3-479a-9baa-b184f53e5179\" type=\"checkbox\" ><label for=\"a089cf2e-1cf3-479a-9baa-b184f53e5179\" class=\"sk-toggleable__label sk-toggleable__label-arrow\">onehotencoder</label><div class=\"sk-toggleable__content\"><pre>&lt;sklearn.compose._column_transformer.make_column_selector object at 0x000001FE093BB9D0&gt;</pre></div></div></div><div class=\"sk-serial\"><div class=\"sk-item\"><div class=\"sk-estimator sk-toggleable\"><input class=\"sk-toggleable__control sk-hidden--visually\" id=\"205d286f-6815-430a-8e67-ca703955c046\" type=\"checkbox\" ><label for=\"205d286f-6815-430a-8e67-ca703955c046\" class=\"sk-toggleable__label sk-toggleable__label-arrow\">OneHotEncoder</label><div class=\"sk-toggleable__content\"><pre>OneHotEncoder(handle_unknown=&#x27;ignore&#x27;, sparse=False)</pre></div></div></div></div></div></div><div class=\"sk-parallel-item\"><div class=\"sk-item\"><div class=\"sk-label-container\"><div class=\"sk-label sk-toggleable\"><input class=\"sk-toggleable__control sk-hidden--visually\" id=\"12495d81-f3ed-498a-87ff-ae0a50c3fdff\" type=\"checkbox\" ><label for=\"12495d81-f3ed-498a-87ff-ae0a50c3fdff\" class=\"sk-toggleable__label sk-toggleable__label-arrow\">remainder</label><div class=\"sk-toggleable__content\"><pre>[]</pre></div></div></div><div class=\"sk-serial\"><div class=\"sk-item\"><div class=\"sk-estimator sk-toggleable\"><input class=\"sk-toggleable__control sk-hidden--visually\" id=\"04f7cf09-1c9c-403a-9f71-b11c17b9d808\" type=\"checkbox\" ><label for=\"04f7cf09-1c9c-403a-9f71-b11c17b9d808\" class=\"sk-toggleable__label sk-toggleable__label-arrow\">passthrough</label><div class=\"sk-toggleable__content\"><pre>passthrough</pre></div></div></div></div></div></div></div></div><div class=\"sk-item\"><div class=\"sk-estimator sk-toggleable\"><input class=\"sk-toggleable__control sk-hidden--visually\" id=\"a1a9be69-1683-443c-95bb-51475972a799\" type=\"checkbox\" ><label for=\"a1a9be69-1683-443c-95bb-51475972a799\" class=\"sk-toggleable__label sk-toggleable__label-arrow\">XGBClassifier</label><div class=\"sk-toggleable__content\"><pre>XGBClassifier(base_score=None, booster=None, callbacks=None,\n",
       "              colsample_bylevel=None, colsample_bynode=None,\n",
       "              colsample_bytree=None, early_stopping_rounds=None,\n",
       "              enable_categorical=False, eval_metric=None, feature_types=None,\n",
       "              gamma=None, gpu_id=None, grow_policy=None, importance_type=None,\n",
       "              interaction_constraints=None, learning_rate=None, max_bin=None,\n",
       "              max_cat_threshold=None, max_cat_to_onehot=None,\n",
       "              max_delta_step=None, max_depth=None, max_leaves=None,\n",
       "              min_child_weight=None, missing=nan, monotone_constraints=None,\n",
       "              n_estimators=100, n_jobs=None, num_parallel_tree=None,\n",
       "              objective=&#x27;mulit:softprob&#x27;, predictor=None, ...)</pre></div></div></div></div></div></div></div>"
      ],
      "text/plain": [
       "Pipeline(steps=[('columntransformer',\n",
       "                 ColumnTransformer(remainder='passthrough',\n",
       "                                   transformers=[('onehotencoder',\n",
       "                                                  OneHotEncoder(handle_unknown='ignore',\n",
       "                                                                sparse=False),\n",
       "                                                  <sklearn.compose._column_transformer.make_column_selector object at 0x000001FE093BB9D0>)])),\n",
       "                ('xgbclassifier',\n",
       "                 XGBClassifier(base_score=None, booster=None, callbacks=None,\n",
       "                               colsample_bylevel=None, c...\n",
       "                               grow_policy=None, importance_type=None,\n",
       "                               interaction_constraints=None, learning_rate=None,\n",
       "                               max_bin=None, max_cat_threshold=None,\n",
       "                               max_cat_to_onehot=None, max_delta_step=None,\n",
       "                               max_depth=None, max_leaves=None,\n",
       "                               min_child_weight=None, missing=nan,\n",
       "                               monotone_constraints=None, n_estimators=100,\n",
       "                               n_jobs=None, num_parallel_tree=None,\n",
       "                               objective='mulit:softprob', predictor=None, ...))])"
      ]
     },
     "execution_count": 61,
     "metadata": {},
     "output_type": "execute_result"
    }
   ],
   "source": [
    "clf6 =xgb.XGBClassifier(objective='mulit:softprob')\n",
    "\n",
    "pipeline6 = make_pipeline(encoder, clf6)\n",
    "pipeline6"
   ]
  },
  {
   "cell_type": "code",
   "execution_count": 62,
   "id": "7104390c",
   "metadata": {},
   "outputs": [
    {
     "name": "stdout",
     "output_type": "stream",
     "text": [
      "Wall time: 23.3 s\n"
     ]
    },
    {
     "data": {
      "text/html": [
       "<style>#sk-00ea4e26-1938-474f-a19e-7ce4e833fe6a {color: black;background-color: white;}#sk-00ea4e26-1938-474f-a19e-7ce4e833fe6a pre{padding: 0;}#sk-00ea4e26-1938-474f-a19e-7ce4e833fe6a div.sk-toggleable {background-color: white;}#sk-00ea4e26-1938-474f-a19e-7ce4e833fe6a label.sk-toggleable__label {cursor: pointer;display: block;width: 100%;margin-bottom: 0;padding: 0.3em;box-sizing: border-box;text-align: center;}#sk-00ea4e26-1938-474f-a19e-7ce4e833fe6a label.sk-toggleable__label-arrow:before {content: \"▸\";float: left;margin-right: 0.25em;color: #696969;}#sk-00ea4e26-1938-474f-a19e-7ce4e833fe6a label.sk-toggleable__label-arrow:hover:before {color: black;}#sk-00ea4e26-1938-474f-a19e-7ce4e833fe6a div.sk-estimator:hover label.sk-toggleable__label-arrow:before {color: black;}#sk-00ea4e26-1938-474f-a19e-7ce4e833fe6a div.sk-toggleable__content {max-height: 0;max-width: 0;overflow: hidden;text-align: left;background-color: #f0f8ff;}#sk-00ea4e26-1938-474f-a19e-7ce4e833fe6a div.sk-toggleable__content pre {margin: 0.2em;color: black;border-radius: 0.25em;background-color: #f0f8ff;}#sk-00ea4e26-1938-474f-a19e-7ce4e833fe6a input.sk-toggleable__control:checked~div.sk-toggleable__content {max-height: 200px;max-width: 100%;overflow: auto;}#sk-00ea4e26-1938-474f-a19e-7ce4e833fe6a input.sk-toggleable__control:checked~label.sk-toggleable__label-arrow:before {content: \"▾\";}#sk-00ea4e26-1938-474f-a19e-7ce4e833fe6a div.sk-estimator input.sk-toggleable__control:checked~label.sk-toggleable__label {background-color: #d4ebff;}#sk-00ea4e26-1938-474f-a19e-7ce4e833fe6a div.sk-label input.sk-toggleable__control:checked~label.sk-toggleable__label {background-color: #d4ebff;}#sk-00ea4e26-1938-474f-a19e-7ce4e833fe6a input.sk-hidden--visually {border: 0;clip: rect(1px 1px 1px 1px);clip: rect(1px, 1px, 1px, 1px);height: 1px;margin: -1px;overflow: hidden;padding: 0;position: absolute;width: 1px;}#sk-00ea4e26-1938-474f-a19e-7ce4e833fe6a div.sk-estimator {font-family: monospace;background-color: #f0f8ff;border: 1px dotted black;border-radius: 0.25em;box-sizing: border-box;margin-bottom: 0.5em;}#sk-00ea4e26-1938-474f-a19e-7ce4e833fe6a div.sk-estimator:hover {background-color: #d4ebff;}#sk-00ea4e26-1938-474f-a19e-7ce4e833fe6a div.sk-parallel-item::after {content: \"\";width: 100%;border-bottom: 1px solid gray;flex-grow: 1;}#sk-00ea4e26-1938-474f-a19e-7ce4e833fe6a div.sk-label:hover label.sk-toggleable__label {background-color: #d4ebff;}#sk-00ea4e26-1938-474f-a19e-7ce4e833fe6a div.sk-serial::before {content: \"\";position: absolute;border-left: 1px solid gray;box-sizing: border-box;top: 2em;bottom: 0;left: 50%;}#sk-00ea4e26-1938-474f-a19e-7ce4e833fe6a div.sk-serial {display: flex;flex-direction: column;align-items: center;background-color: white;padding-right: 0.2em;padding-left: 0.2em;}#sk-00ea4e26-1938-474f-a19e-7ce4e833fe6a div.sk-item {z-index: 1;}#sk-00ea4e26-1938-474f-a19e-7ce4e833fe6a div.sk-parallel {display: flex;align-items: stretch;justify-content: center;background-color: white;}#sk-00ea4e26-1938-474f-a19e-7ce4e833fe6a div.sk-parallel::before {content: \"\";position: absolute;border-left: 1px solid gray;box-sizing: border-box;top: 2em;bottom: 0;left: 50%;}#sk-00ea4e26-1938-474f-a19e-7ce4e833fe6a div.sk-parallel-item {display: flex;flex-direction: column;position: relative;background-color: white;}#sk-00ea4e26-1938-474f-a19e-7ce4e833fe6a div.sk-parallel-item:first-child::after {align-self: flex-end;width: 50%;}#sk-00ea4e26-1938-474f-a19e-7ce4e833fe6a div.sk-parallel-item:last-child::after {align-self: flex-start;width: 50%;}#sk-00ea4e26-1938-474f-a19e-7ce4e833fe6a div.sk-parallel-item:only-child::after {width: 0;}#sk-00ea4e26-1938-474f-a19e-7ce4e833fe6a div.sk-dashed-wrapped {border: 1px dashed gray;margin: 0 0.4em 0.5em 0.4em;box-sizing: border-box;padding-bottom: 0.4em;background-color: white;position: relative;}#sk-00ea4e26-1938-474f-a19e-7ce4e833fe6a div.sk-label label {font-family: monospace;font-weight: bold;background-color: white;display: inline-block;line-height: 1.2em;}#sk-00ea4e26-1938-474f-a19e-7ce4e833fe6a div.sk-label-container {position: relative;z-index: 2;text-align: center;}#sk-00ea4e26-1938-474f-a19e-7ce4e833fe6a div.sk-container {/* jupyter's `normalize.less` sets `[hidden] { display: none; }` but bootstrap.min.css set `[hidden] { display: none !important; }` so we also need the `!important` here to be able to override the default hidden behavior on the sphinx rendered scikit-learn.org. See: https://github.com/scikit-learn/scikit-learn/issues/21755 */display: inline-block !important;position: relative;}#sk-00ea4e26-1938-474f-a19e-7ce4e833fe6a div.sk-text-repr-fallback {display: none;}</style><div id=\"sk-00ea4e26-1938-474f-a19e-7ce4e833fe6a\" class=\"sk-top-container\"><div class=\"sk-text-repr-fallback\"><pre>Pipeline(steps=[(&#x27;columntransformer&#x27;,\n",
       "                 ColumnTransformer(remainder=&#x27;passthrough&#x27;,\n",
       "                                   transformers=[(&#x27;onehotencoder&#x27;,\n",
       "                                                  OneHotEncoder(handle_unknown=&#x27;ignore&#x27;,\n",
       "                                                                sparse=False),\n",
       "                                                  &lt;sklearn.compose._column_transformer.make_column_selector object at 0x000001FE093BB9D0&gt;)])),\n",
       "                (&#x27;xgbclassifier&#x27;,\n",
       "                 XGBClassifier(base_score=0.5, booster=&#x27;gbtree&#x27;, callbacks=None,\n",
       "                               colsample_bylevel=1, c...\n",
       "                               feature_types=None, gamma=0, gpu_id=-1,\n",
       "                               grow_policy=&#x27;depthwise&#x27;, importance_type=None,\n",
       "                               interaction_constraints=&#x27;&#x27;,\n",
       "                               learning_rate=0.300000012, max_bin=256,\n",
       "                               max_cat_threshold=64, max_cat_to_onehot=4,\n",
       "                               max_delta_step=0, max_depth=6, max_leaves=0,\n",
       "                               min_child_weight=1, missing=nan,\n",
       "                               monotone_constraints=&#x27;()&#x27;, n_estimators=100,\n",
       "                               n_jobs=0, num_parallel_tree=1,\n",
       "                               objective=&#x27;multi:softprob&#x27;, predictor=&#x27;auto&#x27;, ...))])</pre><b>Please rerun this cell to show the HTML repr or trust the notebook.</b></div><div class=\"sk-container\" hidden><div class=\"sk-item sk-dashed-wrapped\"><div class=\"sk-label-container\"><div class=\"sk-label sk-toggleable\"><input class=\"sk-toggleable__control sk-hidden--visually\" id=\"e85ca589-79c7-4296-9c28-5011439c2bf9\" type=\"checkbox\" ><label for=\"e85ca589-79c7-4296-9c28-5011439c2bf9\" class=\"sk-toggleable__label sk-toggleable__label-arrow\">Pipeline</label><div class=\"sk-toggleable__content\"><pre>Pipeline(steps=[(&#x27;columntransformer&#x27;,\n",
       "                 ColumnTransformer(remainder=&#x27;passthrough&#x27;,\n",
       "                                   transformers=[(&#x27;onehotencoder&#x27;,\n",
       "                                                  OneHotEncoder(handle_unknown=&#x27;ignore&#x27;,\n",
       "                                                                sparse=False),\n",
       "                                                  &lt;sklearn.compose._column_transformer.make_column_selector object at 0x000001FE093BB9D0&gt;)])),\n",
       "                (&#x27;xgbclassifier&#x27;,\n",
       "                 XGBClassifier(base_score=0.5, booster=&#x27;gbtree&#x27;, callbacks=None,\n",
       "                               colsample_bylevel=1, c...\n",
       "                               feature_types=None, gamma=0, gpu_id=-1,\n",
       "                               grow_policy=&#x27;depthwise&#x27;, importance_type=None,\n",
       "                               interaction_constraints=&#x27;&#x27;,\n",
       "                               learning_rate=0.300000012, max_bin=256,\n",
       "                               max_cat_threshold=64, max_cat_to_onehot=4,\n",
       "                               max_delta_step=0, max_depth=6, max_leaves=0,\n",
       "                               min_child_weight=1, missing=nan,\n",
       "                               monotone_constraints=&#x27;()&#x27;, n_estimators=100,\n",
       "                               n_jobs=0, num_parallel_tree=1,\n",
       "                               objective=&#x27;multi:softprob&#x27;, predictor=&#x27;auto&#x27;, ...))])</pre></div></div></div><div class=\"sk-serial\"><div class=\"sk-item sk-dashed-wrapped\"><div class=\"sk-label-container\"><div class=\"sk-label sk-toggleable\"><input class=\"sk-toggleable__control sk-hidden--visually\" id=\"f69db2cb-5ef4-44da-98da-d4e5cbcd50f7\" type=\"checkbox\" ><label for=\"f69db2cb-5ef4-44da-98da-d4e5cbcd50f7\" class=\"sk-toggleable__label sk-toggleable__label-arrow\">columntransformer: ColumnTransformer</label><div class=\"sk-toggleable__content\"><pre>ColumnTransformer(remainder=&#x27;passthrough&#x27;,\n",
       "                  transformers=[(&#x27;onehotencoder&#x27;,\n",
       "                                 OneHotEncoder(handle_unknown=&#x27;ignore&#x27;,\n",
       "                                               sparse=False),\n",
       "                                 &lt;sklearn.compose._column_transformer.make_column_selector object at 0x000001FE093BB9D0&gt;)])</pre></div></div></div><div class=\"sk-parallel\"><div class=\"sk-parallel-item\"><div class=\"sk-item\"><div class=\"sk-label-container\"><div class=\"sk-label sk-toggleable\"><input class=\"sk-toggleable__control sk-hidden--visually\" id=\"87f6cd5b-06d2-4da1-a8ac-1ee8e9e6b90d\" type=\"checkbox\" ><label for=\"87f6cd5b-06d2-4da1-a8ac-1ee8e9e6b90d\" class=\"sk-toggleable__label sk-toggleable__label-arrow\">onehotencoder</label><div class=\"sk-toggleable__content\"><pre>&lt;sklearn.compose._column_transformer.make_column_selector object at 0x000001FE093BB9D0&gt;</pre></div></div></div><div class=\"sk-serial\"><div class=\"sk-item\"><div class=\"sk-estimator sk-toggleable\"><input class=\"sk-toggleable__control sk-hidden--visually\" id=\"8fb6de15-802e-4e4c-9437-78ff7f2dad64\" type=\"checkbox\" ><label for=\"8fb6de15-802e-4e4c-9437-78ff7f2dad64\" class=\"sk-toggleable__label sk-toggleable__label-arrow\">OneHotEncoder</label><div class=\"sk-toggleable__content\"><pre>OneHotEncoder(handle_unknown=&#x27;ignore&#x27;, sparse=False)</pre></div></div></div></div></div></div><div class=\"sk-parallel-item\"><div class=\"sk-item\"><div class=\"sk-label-container\"><div class=\"sk-label sk-toggleable\"><input class=\"sk-toggleable__control sk-hidden--visually\" id=\"5ebbd4ae-f819-44d6-baa1-af8c7c33d8f0\" type=\"checkbox\" ><label for=\"5ebbd4ae-f819-44d6-baa1-af8c7c33d8f0\" class=\"sk-toggleable__label sk-toggleable__label-arrow\">remainder</label><div class=\"sk-toggleable__content\"><pre>[]</pre></div></div></div><div class=\"sk-serial\"><div class=\"sk-item\"><div class=\"sk-estimator sk-toggleable\"><input class=\"sk-toggleable__control sk-hidden--visually\" id=\"c2df724b-605f-47b6-8f31-97caf9cc3033\" type=\"checkbox\" ><label for=\"c2df724b-605f-47b6-8f31-97caf9cc3033\" class=\"sk-toggleable__label sk-toggleable__label-arrow\">passthrough</label><div class=\"sk-toggleable__content\"><pre>passthrough</pre></div></div></div></div></div></div></div></div><div class=\"sk-item\"><div class=\"sk-estimator sk-toggleable\"><input class=\"sk-toggleable__control sk-hidden--visually\" id=\"00dcc543-b43d-4616-8f38-09921eefc891\" type=\"checkbox\" ><label for=\"00dcc543-b43d-4616-8f38-09921eefc891\" class=\"sk-toggleable__label sk-toggleable__label-arrow\">XGBClassifier</label><div class=\"sk-toggleable__content\"><pre>XGBClassifier(base_score=0.5, booster=&#x27;gbtree&#x27;, callbacks=None,\n",
       "              colsample_bylevel=1, colsample_bynode=1, colsample_bytree=1,\n",
       "              early_stopping_rounds=None, enable_categorical=False,\n",
       "              eval_metric=None, feature_types=None, gamma=0, gpu_id=-1,\n",
       "              grow_policy=&#x27;depthwise&#x27;, importance_type=None,\n",
       "              interaction_constraints=&#x27;&#x27;, learning_rate=0.300000012,\n",
       "              max_bin=256, max_cat_threshold=64, max_cat_to_onehot=4,\n",
       "              max_delta_step=0, max_depth=6, max_leaves=0, min_child_weight=1,\n",
       "              missing=nan, monotone_constraints=&#x27;()&#x27;, n_estimators=100,\n",
       "              n_jobs=0, num_parallel_tree=1, objective=&#x27;multi:softprob&#x27;,\n",
       "              predictor=&#x27;auto&#x27;, ...)</pre></div></div></div></div></div></div></div>"
      ],
      "text/plain": [
       "Pipeline(steps=[('columntransformer',\n",
       "                 ColumnTransformer(remainder='passthrough',\n",
       "                                   transformers=[('onehotencoder',\n",
       "                                                  OneHotEncoder(handle_unknown='ignore',\n",
       "                                                                sparse=False),\n",
       "                                                  <sklearn.compose._column_transformer.make_column_selector object at 0x000001FE093BB9D0>)])),\n",
       "                ('xgbclassifier',\n",
       "                 XGBClassifier(base_score=0.5, booster='gbtree', callbacks=None,\n",
       "                               colsample_bylevel=1, c...\n",
       "                               feature_types=None, gamma=0, gpu_id=-1,\n",
       "                               grow_policy='depthwise', importance_type=None,\n",
       "                               interaction_constraints='',\n",
       "                               learning_rate=0.300000012, max_bin=256,\n",
       "                               max_cat_threshold=64, max_cat_to_onehot=4,\n",
       "                               max_delta_step=0, max_depth=6, max_leaves=0,\n",
       "                               min_child_weight=1, missing=nan,\n",
       "                               monotone_constraints='()', n_estimators=100,\n",
       "                               n_jobs=0, num_parallel_tree=1,\n",
       "                               objective='multi:softprob', predictor='auto', ...))])"
      ]
     },
     "execution_count": 62,
     "metadata": {},
     "output_type": "execute_result"
    }
   ],
   "source": [
    "%%time\n",
    "# Fit the pipeline on the training data\n",
    "pipeline6.fit(X_train, y_train)"
   ]
  },
  {
   "cell_type": "code",
   "execution_count": 63,
   "id": "fad5363d",
   "metadata": {},
   "outputs": [
    {
     "data": {
      "text/plain": [
       "0.8485256399265694"
      ]
     },
     "execution_count": 63,
     "metadata": {},
     "output_type": "execute_result"
    }
   ],
   "source": [
    "# Score the pipeline on the testing data\n",
    "y_pred = pipeline6.predict_proba(X_test)\n",
    "ndcg_score(y_test, y_pred, k=5)"
   ]
  },
  {
   "cell_type": "code",
   "execution_count": null,
   "id": "ab468564",
   "metadata": {},
   "outputs": [],
   "source": [
    "cross_val_score(pipeline0, X_train, y_train, scoring=ncdg_scorer)"
   ]
  },
  {
   "cell_type": "code",
   "execution_count": null,
   "id": "d7642b82",
   "metadata": {},
   "outputs": [],
   "source": [
    "params = {\n",
    "    \"min_child_weight\": [1, 5, 10],\n",
    "    \"gamma\": [0.5, 1, 1.5, 2, 5],\n",
    "    \"subsample\": [0.6, 0.8, 1.0],\n",
    "    \"colsample_bytree\": [0.6, 0.8, 1.0],\n",
    "    \"max_depth\": [3, 4, 5],\n",
    "}\n",
    "\n",
    "tune_search = TuneSearchCV(\n",
    "    pipeline6, \n",
    "    param_distributions=params, \n",
    "    n_trials=3, \n",
    "    early_stopping=True, \n",
    "    scoring=ndcg_scorer, \n",
    "    search_optimization=\"bayesian\"\n",
    ")"
   ]
  },
  {
   "cell_type": "code",
   "execution_count": null,
   "id": "56a2f8b4",
   "metadata": {},
   "outputs": [],
   "source": [
    "tune_search.fit(X_train, y_train)"
   ]
  },
  {
   "cell_type": "code",
   "execution_count": null,
   "id": "07c35393",
   "metadata": {},
   "outputs": [],
   "source": [
    "print(tune_search.best_params_)\n",
    "y_pred = tune_search.predict_proba(X_test)\n",
    "print(ndcg_score(y_test, y_pred, k=5))"
   ]
  },
  {
   "cell_type": "code",
   "execution_count": null,
   "id": "64b5d216",
   "metadata": {},
   "outputs": [],
   "source": [
    "# Pickle model and write to hard drive\n",
    "# joblib.dump(pipeline6, \"models/XGBClassifier.pkl\")"
   ]
  },
  {
   "cell_type": "markdown",
   "id": "dd93ea22",
   "metadata": {},
   "source": [
    "## Model 7"
   ]
  },
  {
   "cell_type": "code",
   "execution_count": null,
   "id": "6226ff77",
   "metadata": {},
   "outputs": [],
   "source": [
    "clf7 = XGBClassifier(objective='mulit:softprob')\n",
    "\n",
    "pipeline6 = make_pipeline(encoder, clf6)\n",
    "pipeline6"
   ]
  },
  {
   "cell_type": "code",
   "execution_count": null,
   "id": "366b3473",
   "metadata": {},
   "outputs": [],
   "source": [
    "%%time\n",
    "# Fit the pipeline on the training data\n",
    "pipeline6.fit(X_train, y_train)"
   ]
  },
  {
   "cell_type": "code",
   "execution_count": null,
   "id": "fdd831a1",
   "metadata": {},
   "outputs": [],
   "source": [
    "# Score the pipeline on the testing data\n",
    "y_pred = pipeline6.predict_proba(X_test)\n",
    "ndcg_score(y_test, y_pred, k=5)"
   ]
  },
  {
   "cell_type": "markdown",
   "id": "3ae7fb00",
   "metadata": {},
   "source": [
    "### K-Means"
   ]
  },
  {
   "cell_type": "code",
   "execution_count": null,
   "id": "5a36c565",
   "metadata": {},
   "outputs": [],
   "source": [
    "# clf5 = KMeans(n_clusters=3, max_iter=100, random_state=0)\n",
    "# clf5.fit(X_train, y_train)"
   ]
  },
  {
   "cell_type": "markdown",
   "id": "596803d3",
   "metadata": {},
   "source": [
    "## Predictions for Kaggle's test_users.csv"
   ]
  },
  {
   "cell_type": "code",
   "execution_count": 110,
   "id": "533e4a1e",
   "metadata": {
    "scrolled": false
   },
   "outputs": [
    {
     "name": "stdout",
     "output_type": "stream",
     "text": [
      "Do you want to use an HDF file [Y/n]:n\n"
     ]
    },
    {
     "name": "stderr",
     "output_type": "stream",
     "text": [
      "<timed exec>:43: FutureWarning: elementwise comparison failed; returning scalar instead, but in the future will perform elementwise comparison\n",
      "<timed exec>:46: FutureWarning: elementwise comparison failed; returning scalar instead, but in the future will perform elementwise comparison\n"
     ]
    },
    {
     "name": "stdout",
     "output_type": "stream",
     "text": [
      "Wall time: 46.7 s\n"
     ]
    }
   ],
   "source": [
    "%%time\n",
    "__no_prompt__ = False # If True, skips user input (defaults to HDF).\n",
    "__no_hdf__ = False # If True, skips prompt and only reads from CSV.\n",
    "\n",
    "data_folder = Path(\"airbnb-recruiting-new-user-bookings/\") # Replace if using Kaggle Notebook\n",
    "hdf_path = data_folder / \"test_data.h5\"\n",
    "use_hdf = not __no_hdf__ and (__no_prompt__ or input(\"Do you want to use an HDF file [Y/n]:\") != \"n\") if hdf_path.exists() else False\n",
    "\n",
    "if use_hdf: # Read from hdf if availible (much faster)\n",
    "    df = pd.read_hdf(hdf_path)\n",
    "else:\n",
    "    filepath = data_folder / \"test_users.csv\"\n",
    "    dtypes={'id': 'object', 'date_account_created': 'string', 'timestamp_first_active': 'string', 'date_first_booking': 'string', 'gender': 'category', 'age': 'float64', 'signup_method': 'category', 'signup_flow': 'category', 'language': 'category', 'affiliate_channel': 'category', 'affiliate_provider': 'category', 'first_affiliate_tracked': 'category', 'signup_app': 'category', 'first_device_type': 'category', 'first_browser': 'category', 'country_destination': 'category'}\n",
    "    parse_dates = ['date_account_created', 'timestamp_first_active', 'date_first_booking']\n",
    "    cols = list(pd.read_csv(filepath, nrows=1))[1:]\n",
    "    df = pd.read_csv(filepath, dtype=dtypes, na_values=['-unknown-', '<NA>'], parse_dates=parse_dates\n",
    "                     , infer_datetime_format=True)\n",
    "    df['date_first_booking'] = pd.to_datetime(pd.Series(df['date_first_booking'])\n",
    "                                              , format='%Y-%m-%d', errors='coerce')\n",
    "\n",
    "#     df.select_dtypes('datetime64[ns]').fillna(pd.NaT)\n",
    "    # df = df.set_index('id')\n",
    "    df['age'] = df['age'].replace(range(2000, 2015), np.nan)\n",
    "    df['age'] = pd.cut(df['age'], bins = [i*5 for i in range(0, 21)] + [120]\n",
    "                       , labels=(['%d-%d' % (i*5, i*5+4) for i in range(0, 20)] + ['100+']))\n",
    "    \n",
    "#     filepath = data_folder / \"age_gender_bkts.csv\"\n",
    "#     dtypes = {}\n",
    "    \n",
    "    filepath = data_folder / \"sessions.csv\"\n",
    "    dtypes={'user_id': 'string', 'action': 'category', 'action_type': 'category', 'action_detail': 'category', 'device_type': 'category', 'secs_elapsed': 'float64'}\n",
    "    df_session = pd.read_csv(filepath, dtype=dtypes, na_values=['-unknown-', 'NDF', '<NA>'])\n",
    "    \n",
    "    S = df_session.groupby(by='user_id', as_index=False).aggregate(lambda x:x.tolist())\n",
    "    \n",
    "    id_list = []\n",
    "    types_list = []\n",
    "    for row in S.values:\n",
    "        id_list.append(row[0])\n",
    "        types_list.append(np.unique(row[2]))\n",
    "        \n",
    "    rows = []\n",
    "    for user_id, types in zip(id_list, types_list):\n",
    "        types = np.delete(types, np.where(types == 'nan'))\n",
    "        row = [user_id]\n",
    "        for col in df_session['action_type'].cat.categories:\n",
    "            if col in types:\n",
    "                row.append(1)\n",
    "            else:\n",
    "                row.append(0)\n",
    "        rows.append(row)\n",
    "        \n",
    "    t_cols = ['user_id'] + list(df_session['action_type'].cat.categories)\n",
    "    t_dtypes = {**{'user_id': 'string'}, **{col: 'category' for col in t_cols[1:]}}\n",
    "    df_action_types = pd.DataFrame(np.asarray(rows), columns=t_cols).astype(t_dtypes)\n",
    "    \n",
    "    df_merge = df.merge(df_action_types, left_on ='id', right_on='user_id').drop(columns=['user_id'])\n",
    "    df_merge = df_merge.set_index('id')\n",
    "    \n",
    "    # Save to hdf if reading from csv\n",
    "    df.to_hdf(data_folder / \"test_data.h5\", key='df', mode='w', format=\"table\")"
   ]
  },
  {
   "cell_type": "code",
   "execution_count": 112,
   "id": "fd83c59c",
   "metadata": {},
   "outputs": [],
   "source": [
    "X_kaggle = df_merge.drop(columns=['date_account_created', 'timestamp_first_active', 'date_first_booking']) # TODO: Fix datetimes fucking everthing up.\n",
    "id_list = np.asarray(X_kaggle.index)"
   ]
  },
  {
   "cell_type": "code",
   "execution_count": 113,
   "id": "adaf73d6",
   "metadata": {},
   "outputs": [],
   "source": [
    "filename = Path(\"models/LogisticRegression.pkl\")\n",
    "loaded_model = joblib.load(filename)\n",
    "le_filename = Path(\"models/LabelEncoder.pkl\")\n",
    "y_enc = joblib.load(le_filename)"
   ]
  },
  {
   "cell_type": "code",
   "execution_count": 114,
   "id": "0ef059e5",
   "metadata": {},
   "outputs": [
    {
     "name": "stdout",
     "output_type": "stream",
     "text": [
      "Wall time: 398 ms\n"
     ]
    }
   ],
   "source": [
    "%%time\n",
    "y_kaggle = loaded_model.predict_proba(X_kaggle)\n",
    "# y_kaggle = np.asarray([[0, 0, 0, 0, .0625, 0, 0.03125, .5, 0, 0, .25, .125]]*df.shape[0])"
   ]
  },
  {
   "cell_type": "code",
   "execution_count": 115,
   "id": "87c4679a",
   "metadata": {},
   "outputs": [],
   "source": [
    "ranks = y_kaggle.argsort()[:, :6:-1]"
   ]
  },
  {
   "cell_type": "code",
   "execution_count": 117,
   "id": "9bef48b8",
   "metadata": {},
   "outputs": [],
   "source": [
    "orders = []\n",
    "for rank in ranks:\n",
    "    orders.append(y_enc.inverse_transform(rank))"
   ]
  },
  {
   "cell_type": "code",
   "execution_count": 118,
   "id": "3e95afed",
   "metadata": {},
   "outputs": [],
   "source": [
    "with open(\"submission.csv\", \"w\", newline=\"\") as csvfile:\n",
    "    csv_writer = csv.writer(csvfile, delimiter=',', quotechar='\"')\n",
    "    csv_writer.writerow(['id', 'country'])\n",
    "    for i, order in zip(id_list, orders):\n",
    "        for country in order:\n",
    "            row = [i, country]\n",
    "            csv_writer.writerow(row)"
   ]
  }
 ],
 "metadata": {
  "kernelspec": {
   "display_name": "Python 3 (ipykernel)",
   "language": "python",
   "name": "python3"
  },
  "language_info": {
   "codemirror_mode": {
    "name": "ipython",
    "version": 3
   },
   "file_extension": ".py",
   "mimetype": "text/x-python",
   "name": "python",
   "nbconvert_exporter": "python",
   "pygments_lexer": "ipython3",
   "version": "3.9.13"
  }
 },
 "nbformat": 4,
 "nbformat_minor": 5
}
