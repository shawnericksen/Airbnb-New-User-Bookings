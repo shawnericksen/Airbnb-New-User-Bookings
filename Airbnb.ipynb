{
 "cells": [
  {
   "cell_type": "markdown",
   "id": "d74756a7",
   "metadata": {},
   "source": [
    "# Final Project Notebook\n",
    "Group: 9\n",
    "Group Members: Shawn Ericksen (ericksen@uark.edu), Garret Fulghum (gmfulghu@uark.edu), Wesley Parker (wgparker@uark.edu)\n",
    "\n",
    "This practice project focuses on the Airbnb New User Bookings dataset. This can be accessed from: https://www.kaggle.com/competitions/airbnb-recruiting-new-user-bookings/data"
   ]
  },
  {
   "cell_type": "markdown",
   "id": "94d69a47",
   "metadata": {},
   "source": [
    "## Kaggle Performance Info\n",
    "Kaggle's scoring for this competition utilizes a Normalized Discounted Cumulative Gain (NDCG) scoring, where up to 5 guesses of destination county (ordered by confidence) are submitted per entry in the test data. A score of 1.0 reflects the first guess being correct, and less points for other scenarios (0.63 for the second guess being correct and so on).\n",
    "\n",
    "Q1/Q2/Q3 Kaggle scores: 0.85226 / 0.86555 / 0.86661\n",
    "\n",
    "Notes:\n",
    "\n",
    "The baseline, which is to always guess NDF-US-OTHER-FR-IT, recieves a NDCG score of 0.8219 (78th Percentile) on the Public Leaderboard. The NDCG score of the dummy model on the training data is 0.80676.\n",
    "\n",
    "As for scikit's accuracy score, always guessing NDF results in a score of 0.58347 against the training data."
   ]
  },
  {
   "cell_type": "markdown",
   "id": "15b246ff",
   "metadata": {},
   "source": [
    "### Usage\n",
    "Running the second code cell will prompt the user read data from CSV or HDF5 (setting \\_\\_fast_hdf__ will skip the prompt and use HDF5)."
   ]
  },
  {
   "cell_type": "markdown",
   "id": "721b369d",
   "metadata": {},
   "source": [
    "### Imports and reading dataset into memory"
   ]
  },
  {
   "cell_type": "code",
   "execution_count": 1,
   "id": "14f11fa8",
   "metadata": {},
   "outputs": [],
   "source": [
    "from os.path import exists\n",
    "\n",
    "import numpy as np\n",
    "import pandas as pd\n",
    "import csv\n",
    "\n",
    "from sklearn.preprocessing import OneHotEncoder, LabelEncoder, StandardScaler\n",
    "from sklearn.impute import SimpleImputer\n",
    "from sklearn.compose import make_column_transformer, make_column_selector\n",
    "from sklearn.compose import ColumnTransformer\n",
    "from sklearn.pipeline import Pipeline, make_pipeline\n",
    "from sklearn.model_selection import train_test_split, cross_val_score, GridSearchCV\n",
    "from sklearn.metrics import classification_report, ndcg_score\n",
    "from sklearn.tree import DecisionTreeClassifier\n",
    "from sklearn.naive_bayes import CategoricalNB\n",
    "from sklearn.svm import SVC\n",
    "from sklearn.neural_network import MLPClassifier\n",
    "\n",
    "from sklearn.linear_model import LogisticRegression\n",
    "from sklearn.neighbors import KNeighborsClassifier\n",
    "from sklearn.linear_model import LogisticRegression\n",
    "from sklearn.ensemble import RandomForestClassifier\n",
    "\n",
    "from sklearn import set_config\n",
    "set_config(display='diagram')\n",
    "\n",
    "import joblib"
   ]
  },
  {
   "cell_type": "code",
   "execution_count": 9,
   "id": "dfc4cad6",
   "metadata": {},
   "outputs": [
    {
     "name": "stdout",
     "output_type": "stream",
     "text": [
      "Do you want to use an HDF file [Y/n]:\n"
     ]
    }
   ],
   "source": [
    "__fast_hdf__ = False # Skips user input\n",
    "\n",
    "hdf_path = \"airbnb-recruiting-new-user-bookings/data.h5\"\n",
    "use_hdf = __fast_hdf__ or input(\"Do you want to use an HDF file [Y/n]:\") != \"n\" if exists(hdf_path) else False\n",
    "\n",
    "# Read from hdf if availible (much faster)\n",
    "if use_hdf:\n",
    "    df = pd.read_hdf(hdf_path)\n",
    "else:\n",
    "    filepath = \"airbnb-recruiting-new-user-bookings/train_users_2.csv\"\n",
    "    dtypes={'id': 'string', 'date_account_created': 'string', 'timestamp_first_active': 'string', 'date_first_booking': 'string', 'gender': 'category', 'age': 'float64', 'signup_method': 'category', 'signup_flow': 'category', 'language': 'category', 'affiliate_channel': 'category', 'affiliate_provider': 'category', 'first_affiliate_tracked': 'category', 'signup_app': 'category', 'first_device_type': 'category', 'first_browser': 'category', 'country_destination': 'category'}\n",
    "    parse_dates = ['date_account_created', 'timestamp_first_active', 'date_first_booking']\n",
    "    cols = list(pd.read_csv(filepath, nrows=1))[1:]\n",
    "    df = pd.read_csv(filepath, dtype=dtypes, na_values=['-unknown-', '<NA>'], parse_dates=parse_dates\n",
    "                     , infer_datetime_format=True) # usecols =[i for i in cols if i != 'id']\n",
    "    df['date_first_booking'] = pd.to_datetime(pd.Series(df['date_first_booking'])\n",
    "                                              , format='%Y-%m-%d', errors='coerce')\n",
    "\n",
    "#     df.select_dtypes('datetime64[ns]').fillna(pd.NaT)\n",
    "    df = df.set_index('id')\n",
    "    df['age'] = df['age'].replace(range(2000, 2015), np.nan)\n",
    "    df['age'] = pd.cut(df['age'], bins = [i*5 for i in range(0, 21)] + [120]\n",
    "                       , labels=(['%d-%d' % (i*5, i*5+4) for i in range(0, 20)] + ['100+']))\n",
    "    \n",
    "#     filepath = \"airbnb-recruiting-new-user-bookings/age_gender_bkts.csv\"\n",
    "#     dtypes = {}\n",
    "    \n",
    "#     filepath = \"airbnb-recruiting-new-user-bookings/sessions.csv\"\n",
    "#     dtypes={'id': 'string', 'action': 'category', 'action_type': 'category', 'action_detail': 'category', 'device_type': 'category', 'sec_elapsed': 'float64'}\n",
    "#     df_session = pd.read_csv(filepath, dtype=dtypes, na_values=['-unknown-', 'NDF', '<NA>'])\n",
    "    \n",
    "    # Save to hdf if reading from csv\n",
    "    df.to_hdf(\"airbnb-recruiting-new-user-bookings/data.h5\", key='df', mode='w', format=\"table\")"
   ]
  },
  {
   "cell_type": "code",
   "execution_count": null,
   "id": "49b84b12",
   "metadata": {},
   "outputs": [],
   "source": [
    "# df.loc(lambda x: df['age'] == 1995)"
   ]
  },
  {
   "cell_type": "code",
   "execution_count": null,
   "id": "3bba9397",
   "metadata": {},
   "outputs": [],
   "source": [
    "# df_session['action'].cat.categories"
   ]
  },
  {
   "cell_type": "code",
   "execution_count": null,
   "id": "fd313240",
   "metadata": {},
   "outputs": [],
   "source": [
    "# df_session['action_type'].cat.categories"
   ]
  },
  {
   "cell_type": "code",
   "execution_count": null,
   "id": "0807708a",
   "metadata": {},
   "outputs": [],
   "source": [
    "# df_session['action_detail'].cat.categories"
   ]
  },
  {
   "cell_type": "code",
   "execution_count": null,
   "id": "d544a73e",
   "metadata": {},
   "outputs": [],
   "source": [
    "# for cat in df_session['action_type'].cat.categories:\n",
    "#     new_column = pd.Series(name=cat, dtype='int8')\n",
    "#     df.insert(new_column)"
   ]
  },
  {
   "cell_type": "code",
   "execution_count": null,
   "id": "c968cf7e",
   "metadata": {},
   "outputs": [],
   "source": [
    "# df.loc['gxn3p5htnn']"
   ]
  },
  {
   "cell_type": "code",
   "execution_count": null,
   "id": "e1a8ac96",
   "metadata": {},
   "outputs": [],
   "source": [
    "# Save to hdf if reading from csv\n",
    "# df.to_hdf(\"airbnb-recruiting-new-user-bookings/data.h5\")"
   ]
  },
  {
   "cell_type": "markdown",
   "id": "fe829025",
   "metadata": {},
   "source": [
    "### Diagnostics"
   ]
  },
  {
   "cell_type": "code",
   "execution_count": null,
   "id": "97a187c1",
   "metadata": {},
   "outputs": [],
   "source": [
    "print(\"- - test_users_2.csv - -\")\n",
    "print(\"Number of lines present: \", len(df))\n",
    "print(\"Number of Columns: \", len(df.columns))"
   ]
  },
  {
   "cell_type": "code",
   "execution_count": null,
   "id": "24a9bd92",
   "metadata": {},
   "outputs": [],
   "source": [
    "topCount = 5\n",
    "print(\"Top \", topCount, \" dataFrames:\")\n",
    "print(df.head(topCount))"
   ]
  },
  {
   "cell_type": "code",
   "execution_count": null,
   "id": "92b42d9e",
   "metadata": {},
   "outputs": [],
   "source": [
    "df.memory_usage(deep=True, index=False).sort_values(ascending=False)"
   ]
  },
  {
   "cell_type": "code",
   "execution_count": null,
   "id": "929fdf27",
   "metadata": {},
   "outputs": [],
   "source": [
    "df.memory_usage(deep=True, index=False).sum()"
   ]
  },
  {
   "cell_type": "markdown",
   "id": "4d8efc09",
   "metadata": {},
   "source": [
    "### NDCG Implementation\n",
    "\n",
    "(1, 0, 0, 0, 0) will serve as the true ranking.\n",
    "\n",
    "The prediction (NDF-US-OTHER-FR-IT) will be used as a dummy model. It will be transformed into an ndarray such that incorrect guesses are transformed to 0 and correct guesses to 1.\n",
    "\n",
    "A first-rank correct guess generally appears as (1, 0, 0, 0, 0), a second-rank correct guess as (0, 1, 0, 0, 0), and no correct guess as (0, 0, 0, 0, 0)."
   ]
  },
  {
   "cell_type": "code",
   "execution_count": null,
   "id": "6045d1f8",
   "metadata": {
    "scrolled": true
   },
   "outputs": [],
   "source": [
    "# NDCG fot the dummy model\n",
    "true_relevance = np.asarray([[1, 0, 0, 0, 0]]*df.shape[0])\n",
    "\n",
    "dp = pd.Series(['NDF', 'US', 'other', 'FR', 'IT'])\n",
    "\n",
    "scores = []\n",
    "for item in df['country_destination']:\n",
    "    scores.append(np.asarray([dp.where(dp == item, other=0).replace(item, 1)]))\n",
    "        \n",
    "scores = np.vstack(scores)\n",
    "print(ndcg_score(true_relevance, scores, k=5))"
   ]
  },
  {
   "cell_type": "markdown",
   "id": "28563271",
   "metadata": {},
   "source": [
    "### Preprocessing"
   ]
  },
  {
   "cell_type": "code",
   "execution_count": 3,
   "id": "8ceb2b3d",
   "metadata": {},
   "outputs": [],
   "source": [
    "X = df.drop(columns=['country_destination'])\n",
    "X = X.drop(columns=parse_dates) # TODO: Fix datetimes fucking everthing up.\n",
    "y = df['country_destination']"
   ]
  },
  {
   "cell_type": "code",
   "execution_count": 4,
   "id": "0c5c8f0a",
   "metadata": {
    "scrolled": false
   },
   "outputs": [],
   "source": [
    "# This block can be commented out when doing prediction on the Kaggle test.csv\n",
    "X_train, X_test, y_train, y_test = train_test_split(X, y, test_size=0.37, random_state=0, shuffle=True)"
   ]
  },
  {
   "cell_type": "code",
   "execution_count": 5,
   "id": "a5de1b1d",
   "metadata": {},
   "outputs": [
    {
     "data": {
      "text/html": [
       "<style>#sk-64d50028-0982-417b-a0be-4ea41736f978 {color: black;background-color: white;}#sk-64d50028-0982-417b-a0be-4ea41736f978 pre{padding: 0;}#sk-64d50028-0982-417b-a0be-4ea41736f978 div.sk-toggleable {background-color: white;}#sk-64d50028-0982-417b-a0be-4ea41736f978 label.sk-toggleable__label {cursor: pointer;display: block;width: 100%;margin-bottom: 0;padding: 0.3em;box-sizing: border-box;text-align: center;}#sk-64d50028-0982-417b-a0be-4ea41736f978 label.sk-toggleable__label-arrow:before {content: \"▸\";float: left;margin-right: 0.25em;color: #696969;}#sk-64d50028-0982-417b-a0be-4ea41736f978 label.sk-toggleable__label-arrow:hover:before {color: black;}#sk-64d50028-0982-417b-a0be-4ea41736f978 div.sk-estimator:hover label.sk-toggleable__label-arrow:before {color: black;}#sk-64d50028-0982-417b-a0be-4ea41736f978 div.sk-toggleable__content {max-height: 0;max-width: 0;overflow: hidden;text-align: left;background-color: #f0f8ff;}#sk-64d50028-0982-417b-a0be-4ea41736f978 div.sk-toggleable__content pre {margin: 0.2em;color: black;border-radius: 0.25em;background-color: #f0f8ff;}#sk-64d50028-0982-417b-a0be-4ea41736f978 input.sk-toggleable__control:checked~div.sk-toggleable__content {max-height: 200px;max-width: 100%;overflow: auto;}#sk-64d50028-0982-417b-a0be-4ea41736f978 input.sk-toggleable__control:checked~label.sk-toggleable__label-arrow:before {content: \"▾\";}#sk-64d50028-0982-417b-a0be-4ea41736f978 div.sk-estimator input.sk-toggleable__control:checked~label.sk-toggleable__label {background-color: #d4ebff;}#sk-64d50028-0982-417b-a0be-4ea41736f978 div.sk-label input.sk-toggleable__control:checked~label.sk-toggleable__label {background-color: #d4ebff;}#sk-64d50028-0982-417b-a0be-4ea41736f978 input.sk-hidden--visually {border: 0;clip: rect(1px 1px 1px 1px);clip: rect(1px, 1px, 1px, 1px);height: 1px;margin: -1px;overflow: hidden;padding: 0;position: absolute;width: 1px;}#sk-64d50028-0982-417b-a0be-4ea41736f978 div.sk-estimator {font-family: monospace;background-color: #f0f8ff;border: 1px dotted black;border-radius: 0.25em;box-sizing: border-box;margin-bottom: 0.5em;}#sk-64d50028-0982-417b-a0be-4ea41736f978 div.sk-estimator:hover {background-color: #d4ebff;}#sk-64d50028-0982-417b-a0be-4ea41736f978 div.sk-parallel-item::after {content: \"\";width: 100%;border-bottom: 1px solid gray;flex-grow: 1;}#sk-64d50028-0982-417b-a0be-4ea41736f978 div.sk-label:hover label.sk-toggleable__label {background-color: #d4ebff;}#sk-64d50028-0982-417b-a0be-4ea41736f978 div.sk-serial::before {content: \"\";position: absolute;border-left: 1px solid gray;box-sizing: border-box;top: 2em;bottom: 0;left: 50%;}#sk-64d50028-0982-417b-a0be-4ea41736f978 div.sk-serial {display: flex;flex-direction: column;align-items: center;background-color: white;padding-right: 0.2em;padding-left: 0.2em;}#sk-64d50028-0982-417b-a0be-4ea41736f978 div.sk-item {z-index: 1;}#sk-64d50028-0982-417b-a0be-4ea41736f978 div.sk-parallel {display: flex;align-items: stretch;justify-content: center;background-color: white;}#sk-64d50028-0982-417b-a0be-4ea41736f978 div.sk-parallel::before {content: \"\";position: absolute;border-left: 1px solid gray;box-sizing: border-box;top: 2em;bottom: 0;left: 50%;}#sk-64d50028-0982-417b-a0be-4ea41736f978 div.sk-parallel-item {display: flex;flex-direction: column;position: relative;background-color: white;}#sk-64d50028-0982-417b-a0be-4ea41736f978 div.sk-parallel-item:first-child::after {align-self: flex-end;width: 50%;}#sk-64d50028-0982-417b-a0be-4ea41736f978 div.sk-parallel-item:last-child::after {align-self: flex-start;width: 50%;}#sk-64d50028-0982-417b-a0be-4ea41736f978 div.sk-parallel-item:only-child::after {width: 0;}#sk-64d50028-0982-417b-a0be-4ea41736f978 div.sk-dashed-wrapped {border: 1px dashed gray;margin: 0 0.4em 0.5em 0.4em;box-sizing: border-box;padding-bottom: 0.4em;background-color: white;position: relative;}#sk-64d50028-0982-417b-a0be-4ea41736f978 div.sk-label label {font-family: monospace;font-weight: bold;background-color: white;display: inline-block;line-height: 1.2em;}#sk-64d50028-0982-417b-a0be-4ea41736f978 div.sk-label-container {position: relative;z-index: 2;text-align: center;}#sk-64d50028-0982-417b-a0be-4ea41736f978 div.sk-container {/* jupyter's `normalize.less` sets `[hidden] { display: none; }` but bootstrap.min.css set `[hidden] { display: none !important; }` so we also need the `!important` here to be able to override the default hidden behavior on the sphinx rendered scikit-learn.org. See: https://github.com/scikit-learn/scikit-learn/issues/21755 */display: inline-block !important;position: relative;}#sk-64d50028-0982-417b-a0be-4ea41736f978 div.sk-text-repr-fallback {display: none;}</style><div id=\"sk-64d50028-0982-417b-a0be-4ea41736f978\" class=\"sk-top-container\"><div class=\"sk-text-repr-fallback\"><pre>ColumnTransformer(remainder=&#x27;passthrough&#x27;,\n",
       "                  transformers=[(&#x27;onehotencoder&#x27;,\n",
       "                                 OneHotEncoder(handle_unknown=&#x27;ignore&#x27;,\n",
       "                                               sparse=False),\n",
       "                                 &lt;sklearn.compose._column_transformer.make_column_selector object at 0x1347c5d30&gt;)])</pre><b>Please rerun this cell to show the HTML repr or trust the notebook.</b></div><div class=\"sk-container\" hidden><div class=\"sk-item sk-dashed-wrapped\"><div class=\"sk-label-container\"><div class=\"sk-label sk-toggleable\"><input class=\"sk-toggleable__control sk-hidden--visually\" id=\"7e827e90-80b8-43ba-8743-ae9f4308626e\" type=\"checkbox\" ><label for=\"7e827e90-80b8-43ba-8743-ae9f4308626e\" class=\"sk-toggleable__label sk-toggleable__label-arrow\">ColumnTransformer</label><div class=\"sk-toggleable__content\"><pre>ColumnTransformer(remainder=&#x27;passthrough&#x27;,\n",
       "                  transformers=[(&#x27;onehotencoder&#x27;,\n",
       "                                 OneHotEncoder(handle_unknown=&#x27;ignore&#x27;,\n",
       "                                               sparse=False),\n",
       "                                 &lt;sklearn.compose._column_transformer.make_column_selector object at 0x1347c5d30&gt;)])</pre></div></div></div><div class=\"sk-parallel\"><div class=\"sk-parallel-item\"><div class=\"sk-item\"><div class=\"sk-label-container\"><div class=\"sk-label sk-toggleable\"><input class=\"sk-toggleable__control sk-hidden--visually\" id=\"72754630-20c9-44cb-9a69-9b9069e5bc0e\" type=\"checkbox\" ><label for=\"72754630-20c9-44cb-9a69-9b9069e5bc0e\" class=\"sk-toggleable__label sk-toggleable__label-arrow\">onehotencoder</label><div class=\"sk-toggleable__content\"><pre>&lt;sklearn.compose._column_transformer.make_column_selector object at 0x1347c5d30&gt;</pre></div></div></div><div class=\"sk-serial\"><div class=\"sk-item\"><div class=\"sk-estimator sk-toggleable\"><input class=\"sk-toggleable__control sk-hidden--visually\" id=\"d3cab49c-f02d-4687-9c4a-4a7d1e2ef13c\" type=\"checkbox\" ><label for=\"d3cab49c-f02d-4687-9c4a-4a7d1e2ef13c\" class=\"sk-toggleable__label sk-toggleable__label-arrow\">OneHotEncoder</label><div class=\"sk-toggleable__content\"><pre>OneHotEncoder(handle_unknown=&#x27;ignore&#x27;, sparse=False)</pre></div></div></div></div></div></div><div class=\"sk-parallel-item\"><div class=\"sk-item\"><div class=\"sk-label-container\"><div class=\"sk-label sk-toggleable\"><input class=\"sk-toggleable__control sk-hidden--visually\" id=\"966e677b-fcee-4b79-98fb-7cbc1b245ea1\" type=\"checkbox\" ><label for=\"966e677b-fcee-4b79-98fb-7cbc1b245ea1\" class=\"sk-toggleable__label sk-toggleable__label-arrow\">remainder</label><div class=\"sk-toggleable__content\"><pre></pre></div></div></div><div class=\"sk-serial\"><div class=\"sk-item\"><div class=\"sk-estimator sk-toggleable\"><input class=\"sk-toggleable__control sk-hidden--visually\" id=\"7be8c549-3698-485a-8c43-f17db5b36952\" type=\"checkbox\" ><label for=\"7be8c549-3698-485a-8c43-f17db5b36952\" class=\"sk-toggleable__label sk-toggleable__label-arrow\">passthrough</label><div class=\"sk-toggleable__content\"><pre>passthrough</pre></div></div></div></div></div></div></div></div></div></div>"
      ],
      "text/plain": [
       "ColumnTransformer(remainder='passthrough',\n",
       "                  transformers=[('onehotencoder',\n",
       "                                 OneHotEncoder(handle_unknown='ignore',\n",
       "                                               sparse=False),\n",
       "                                 <sklearn.compose._column_transformer.make_column_selector object at 0x1347c5d30>)])"
      ]
     },
     "execution_count": 5,
     "metadata": {},
     "output_type": "execute_result"
    }
   ],
   "source": [
    "# numeric_transformer = make_pipeline(\n",
    "# #     SimpleImputer(strategy='mean'),\n",
    "# #     StandardScaler()\n",
    "# )\n",
    "\n",
    "encoder = make_column_transformer(\n",
    "#     (numeric_transformer, ['age']),\n",
    "    (OneHotEncoder(sparse=False, handle_unknown='ignore'), make_column_selector(dtype_include='category')),\n",
    "    remainder='passthrough'\n",
    ")\n",
    "encoder"
   ]
  },
  {
   "cell_type": "code",
   "execution_count": 6,
   "id": "064de3a1",
   "metadata": {
    "scrolled": true
   },
   "outputs": [],
   "source": [
    "y_enc = LabelEncoder().fit(y_train.values)\n",
    "y_train = y_enc.transform(y_train)\n",
    "y_test = y_enc.transform(y_test.values)"
   ]
  },
  {
   "cell_type": "markdown",
   "id": "1f2c5ce3",
   "metadata": {},
   "source": [
    "### Logistic Regression"
   ]
  },
  {
   "cell_type": "code",
   "execution_count": 7,
   "id": "855cc8af",
   "metadata": {},
   "outputs": [
    {
     "data": {
      "text/html": [
       "<style>#sk-f214f815-c0fc-4e5e-be77-cbb3c48a8d6c {color: black;background-color: white;}#sk-f214f815-c0fc-4e5e-be77-cbb3c48a8d6c pre{padding: 0;}#sk-f214f815-c0fc-4e5e-be77-cbb3c48a8d6c div.sk-toggleable {background-color: white;}#sk-f214f815-c0fc-4e5e-be77-cbb3c48a8d6c label.sk-toggleable__label {cursor: pointer;display: block;width: 100%;margin-bottom: 0;padding: 0.3em;box-sizing: border-box;text-align: center;}#sk-f214f815-c0fc-4e5e-be77-cbb3c48a8d6c label.sk-toggleable__label-arrow:before {content: \"▸\";float: left;margin-right: 0.25em;color: #696969;}#sk-f214f815-c0fc-4e5e-be77-cbb3c48a8d6c label.sk-toggleable__label-arrow:hover:before {color: black;}#sk-f214f815-c0fc-4e5e-be77-cbb3c48a8d6c div.sk-estimator:hover label.sk-toggleable__label-arrow:before {color: black;}#sk-f214f815-c0fc-4e5e-be77-cbb3c48a8d6c div.sk-toggleable__content {max-height: 0;max-width: 0;overflow: hidden;text-align: left;background-color: #f0f8ff;}#sk-f214f815-c0fc-4e5e-be77-cbb3c48a8d6c div.sk-toggleable__content pre {margin: 0.2em;color: black;border-radius: 0.25em;background-color: #f0f8ff;}#sk-f214f815-c0fc-4e5e-be77-cbb3c48a8d6c input.sk-toggleable__control:checked~div.sk-toggleable__content {max-height: 200px;max-width: 100%;overflow: auto;}#sk-f214f815-c0fc-4e5e-be77-cbb3c48a8d6c input.sk-toggleable__control:checked~label.sk-toggleable__label-arrow:before {content: \"▾\";}#sk-f214f815-c0fc-4e5e-be77-cbb3c48a8d6c div.sk-estimator input.sk-toggleable__control:checked~label.sk-toggleable__label {background-color: #d4ebff;}#sk-f214f815-c0fc-4e5e-be77-cbb3c48a8d6c div.sk-label input.sk-toggleable__control:checked~label.sk-toggleable__label {background-color: #d4ebff;}#sk-f214f815-c0fc-4e5e-be77-cbb3c48a8d6c input.sk-hidden--visually {border: 0;clip: rect(1px 1px 1px 1px);clip: rect(1px, 1px, 1px, 1px);height: 1px;margin: -1px;overflow: hidden;padding: 0;position: absolute;width: 1px;}#sk-f214f815-c0fc-4e5e-be77-cbb3c48a8d6c div.sk-estimator {font-family: monospace;background-color: #f0f8ff;border: 1px dotted black;border-radius: 0.25em;box-sizing: border-box;margin-bottom: 0.5em;}#sk-f214f815-c0fc-4e5e-be77-cbb3c48a8d6c div.sk-estimator:hover {background-color: #d4ebff;}#sk-f214f815-c0fc-4e5e-be77-cbb3c48a8d6c div.sk-parallel-item::after {content: \"\";width: 100%;border-bottom: 1px solid gray;flex-grow: 1;}#sk-f214f815-c0fc-4e5e-be77-cbb3c48a8d6c div.sk-label:hover label.sk-toggleable__label {background-color: #d4ebff;}#sk-f214f815-c0fc-4e5e-be77-cbb3c48a8d6c div.sk-serial::before {content: \"\";position: absolute;border-left: 1px solid gray;box-sizing: border-box;top: 2em;bottom: 0;left: 50%;}#sk-f214f815-c0fc-4e5e-be77-cbb3c48a8d6c div.sk-serial {display: flex;flex-direction: column;align-items: center;background-color: white;padding-right: 0.2em;padding-left: 0.2em;}#sk-f214f815-c0fc-4e5e-be77-cbb3c48a8d6c div.sk-item {z-index: 1;}#sk-f214f815-c0fc-4e5e-be77-cbb3c48a8d6c div.sk-parallel {display: flex;align-items: stretch;justify-content: center;background-color: white;}#sk-f214f815-c0fc-4e5e-be77-cbb3c48a8d6c div.sk-parallel::before {content: \"\";position: absolute;border-left: 1px solid gray;box-sizing: border-box;top: 2em;bottom: 0;left: 50%;}#sk-f214f815-c0fc-4e5e-be77-cbb3c48a8d6c div.sk-parallel-item {display: flex;flex-direction: column;position: relative;background-color: white;}#sk-f214f815-c0fc-4e5e-be77-cbb3c48a8d6c div.sk-parallel-item:first-child::after {align-self: flex-end;width: 50%;}#sk-f214f815-c0fc-4e5e-be77-cbb3c48a8d6c div.sk-parallel-item:last-child::after {align-self: flex-start;width: 50%;}#sk-f214f815-c0fc-4e5e-be77-cbb3c48a8d6c div.sk-parallel-item:only-child::after {width: 0;}#sk-f214f815-c0fc-4e5e-be77-cbb3c48a8d6c div.sk-dashed-wrapped {border: 1px dashed gray;margin: 0 0.4em 0.5em 0.4em;box-sizing: border-box;padding-bottom: 0.4em;background-color: white;position: relative;}#sk-f214f815-c0fc-4e5e-be77-cbb3c48a8d6c div.sk-label label {font-family: monospace;font-weight: bold;background-color: white;display: inline-block;line-height: 1.2em;}#sk-f214f815-c0fc-4e5e-be77-cbb3c48a8d6c div.sk-label-container {position: relative;z-index: 2;text-align: center;}#sk-f214f815-c0fc-4e5e-be77-cbb3c48a8d6c div.sk-container {/* jupyter's `normalize.less` sets `[hidden] { display: none; }` but bootstrap.min.css set `[hidden] { display: none !important; }` so we also need the `!important` here to be able to override the default hidden behavior on the sphinx rendered scikit-learn.org. See: https://github.com/scikit-learn/scikit-learn/issues/21755 */display: inline-block !important;position: relative;}#sk-f214f815-c0fc-4e5e-be77-cbb3c48a8d6c div.sk-text-repr-fallback {display: none;}</style><div id=\"sk-f214f815-c0fc-4e5e-be77-cbb3c48a8d6c\" class=\"sk-top-container\"><div class=\"sk-text-repr-fallback\"><pre>Pipeline(steps=[(&#x27;columntransformer&#x27;,\n",
       "                 ColumnTransformer(remainder=&#x27;passthrough&#x27;,\n",
       "                                   transformers=[(&#x27;onehotencoder&#x27;,\n",
       "                                                  OneHotEncoder(handle_unknown=&#x27;ignore&#x27;,\n",
       "                                                                sparse=False),\n",
       "                                                  &lt;sklearn.compose._column_transformer.make_column_selector object at 0x1347c5d30&gt;)])),\n",
       "                (&#x27;logisticregression&#x27;, LogisticRegression(max_iter=300))])</pre><b>Please rerun this cell to show the HTML repr or trust the notebook.</b></div><div class=\"sk-container\" hidden><div class=\"sk-item sk-dashed-wrapped\"><div class=\"sk-label-container\"><div class=\"sk-label sk-toggleable\"><input class=\"sk-toggleable__control sk-hidden--visually\" id=\"75296960-ad8b-465a-a8a2-b6c1a446910c\" type=\"checkbox\" ><label for=\"75296960-ad8b-465a-a8a2-b6c1a446910c\" class=\"sk-toggleable__label sk-toggleable__label-arrow\">Pipeline</label><div class=\"sk-toggleable__content\"><pre>Pipeline(steps=[(&#x27;columntransformer&#x27;,\n",
       "                 ColumnTransformer(remainder=&#x27;passthrough&#x27;,\n",
       "                                   transformers=[(&#x27;onehotencoder&#x27;,\n",
       "                                                  OneHotEncoder(handle_unknown=&#x27;ignore&#x27;,\n",
       "                                                                sparse=False),\n",
       "                                                  &lt;sklearn.compose._column_transformer.make_column_selector object at 0x1347c5d30&gt;)])),\n",
       "                (&#x27;logisticregression&#x27;, LogisticRegression(max_iter=300))])</pre></div></div></div><div class=\"sk-serial\"><div class=\"sk-item sk-dashed-wrapped\"><div class=\"sk-label-container\"><div class=\"sk-label sk-toggleable\"><input class=\"sk-toggleable__control sk-hidden--visually\" id=\"091f9d94-128c-434f-84c0-41dc98b28a2f\" type=\"checkbox\" ><label for=\"091f9d94-128c-434f-84c0-41dc98b28a2f\" class=\"sk-toggleable__label sk-toggleable__label-arrow\">columntransformer: ColumnTransformer</label><div class=\"sk-toggleable__content\"><pre>ColumnTransformer(remainder=&#x27;passthrough&#x27;,\n",
       "                  transformers=[(&#x27;onehotencoder&#x27;,\n",
       "                                 OneHotEncoder(handle_unknown=&#x27;ignore&#x27;,\n",
       "                                               sparse=False),\n",
       "                                 &lt;sklearn.compose._column_transformer.make_column_selector object at 0x1347c5d30&gt;)])</pre></div></div></div><div class=\"sk-parallel\"><div class=\"sk-parallel-item\"><div class=\"sk-item\"><div class=\"sk-label-container\"><div class=\"sk-label sk-toggleable\"><input class=\"sk-toggleable__control sk-hidden--visually\" id=\"09a97383-cf11-4a51-be1f-f2ebe4c7ba38\" type=\"checkbox\" ><label for=\"09a97383-cf11-4a51-be1f-f2ebe4c7ba38\" class=\"sk-toggleable__label sk-toggleable__label-arrow\">onehotencoder</label><div class=\"sk-toggleable__content\"><pre>&lt;sklearn.compose._column_transformer.make_column_selector object at 0x1347c5d30&gt;</pre></div></div></div><div class=\"sk-serial\"><div class=\"sk-item\"><div class=\"sk-estimator sk-toggleable\"><input class=\"sk-toggleable__control sk-hidden--visually\" id=\"817746d6-93d8-42ff-985c-1e7a38405fdf\" type=\"checkbox\" ><label for=\"817746d6-93d8-42ff-985c-1e7a38405fdf\" class=\"sk-toggleable__label sk-toggleable__label-arrow\">OneHotEncoder</label><div class=\"sk-toggleable__content\"><pre>OneHotEncoder(handle_unknown=&#x27;ignore&#x27;, sparse=False)</pre></div></div></div></div></div></div><div class=\"sk-parallel-item\"><div class=\"sk-item\"><div class=\"sk-label-container\"><div class=\"sk-label sk-toggleable\"><input class=\"sk-toggleable__control sk-hidden--visually\" id=\"e418dc59-6e14-427c-b97f-b2d569cacf2d\" type=\"checkbox\" ><label for=\"e418dc59-6e14-427c-b97f-b2d569cacf2d\" class=\"sk-toggleable__label sk-toggleable__label-arrow\">remainder</label><div class=\"sk-toggleable__content\"><pre></pre></div></div></div><div class=\"sk-serial\"><div class=\"sk-item\"><div class=\"sk-estimator sk-toggleable\"><input class=\"sk-toggleable__control sk-hidden--visually\" id=\"1124e16c-0ad6-4ec6-9c66-b9eda63fc5e9\" type=\"checkbox\" ><label for=\"1124e16c-0ad6-4ec6-9c66-b9eda63fc5e9\" class=\"sk-toggleable__label sk-toggleable__label-arrow\">passthrough</label><div class=\"sk-toggleable__content\"><pre>passthrough</pre></div></div></div></div></div></div></div></div><div class=\"sk-item\"><div class=\"sk-estimator sk-toggleable\"><input class=\"sk-toggleable__control sk-hidden--visually\" id=\"6e0ad2aa-32c5-4def-a7ec-d25e80a09230\" type=\"checkbox\" ><label for=\"6e0ad2aa-32c5-4def-a7ec-d25e80a09230\" class=\"sk-toggleable__label sk-toggleable__label-arrow\">LogisticRegression</label><div class=\"sk-toggleable__content\"><pre>LogisticRegression(max_iter=300)</pre></div></div></div></div></div></div></div>"
      ],
      "text/plain": [
       "Pipeline(steps=[('columntransformer',\n",
       "                 ColumnTransformer(remainder='passthrough',\n",
       "                                   transformers=[('onehotencoder',\n",
       "                                                  OneHotEncoder(handle_unknown='ignore',\n",
       "                                                                sparse=False),\n",
       "                                                  <sklearn.compose._column_transformer.make_column_selector object at 0x1347c5d30>)])),\n",
       "                ('logisticregression', LogisticRegression(max_iter=300))])"
      ]
     },
     "execution_count": 7,
     "metadata": {},
     "output_type": "execute_result"
    }
   ],
   "source": [
    "clf0 = LogisticRegression(max_iter=300)\n",
    "\n",
    "pipeline0 = make_pipeline(encoder, clf0)\n",
    "pipeline0"
   ]
  },
  {
   "cell_type": "code",
   "execution_count": 8,
   "id": "1cada3dc",
   "metadata": {},
   "outputs": [
    {
     "name": "stderr",
     "output_type": "stream",
     "text": [
      "/opt/homebrew/anaconda3/lib/python3.9/site-packages/sklearn/linear_model/_logistic.py:814: ConvergenceWarning: lbfgs failed to converge (status=1):\n",
      "STOP: TOTAL NO. of ITERATIONS REACHED LIMIT.\n",
      "\n",
      "Increase the number of iterations (max_iter) or scale the data as shown in:\n",
      "    https://scikit-learn.org/stable/modules/preprocessing.html\n",
      "Please also refer to the documentation for alternative solver options:\n",
      "    https://scikit-learn.org/stable/modules/linear_model.html#logistic-regression\n",
      "  n_iter_i = _check_optimize_result(\n"
     ]
    },
    {
     "data": {
      "text/plain": [
       "0.6309938336477708"
      ]
     },
     "execution_count": 8,
     "metadata": {},
     "output_type": "execute_result"
    }
   ],
   "source": [
    "# Fit the pipeline on the training data\n",
    "pipeline0.fit(X_train, y_train)\n",
    "\n",
    "# Score the pipeline on the testing data\n",
    "pipeline0.score(X_test, y_test)"
   ]
  },
  {
   "cell_type": "markdown",
   "id": "d5e04a98",
   "metadata": {},
   "source": [
    "#### LR with GridSearch"
   ]
  },
  {
   "cell_type": "code",
   "execution_count": null,
   "id": "95a775bf",
   "metadata": {},
   "outputs": [],
   "source": [
    "params = {\n",
    "    'logisticregression__C': [0.1, 1.0, 10.0, 100.0],\n",
    "    'logisticregression__penalty': ['l1', 'l2'] # ,\n",
    "#     'columntransformer__pipeline__simpleimputer__strategy': [\"mean\", \"median\"]\n",
    "}\n",
    "\n",
    "grid_search = GridSearchCV(pipeline0, params, n_jobs=-1, verbose=1, cv=10)\n",
    "# pipeline0.get_params().keys()"
   ]
  },
  {
   "cell_type": "code",
   "execution_count": null,
   "id": "31c37f9d",
   "metadata": {},
   "outputs": [],
   "source": [
    "grid_search.fit(X_train, y_train)\n",
    "\n",
    "grid_search.score(X_test, y_test)"
   ]
  },
  {
   "cell_type": "markdown",
   "id": "a689097e",
   "metadata": {},
   "source": [
    "### Decision Tree Classifier"
   ]
  },
  {
   "cell_type": "code",
   "execution_count": null,
   "id": "a53527f9",
   "metadata": {},
   "outputs": [],
   "source": [
    "clf1 = DecisionTreeClassifier(random_state=0)\n",
    "\n",
    "pipeline1 = make_pipeline(encoder, clf1)\n",
    "pipeline1"
   ]
  },
  {
   "cell_type": "code",
   "execution_count": null,
   "id": "d5463fde",
   "metadata": {},
   "outputs": [],
   "source": [
    "# Fit the pipeline on the training data\n",
    "pipeline1.fit(X_train, y_train)\n",
    "\n",
    "# Score the pipeline on the testing data\n",
    "pipeline1.score(X_test, y_test)"
   ]
  },
  {
   "cell_type": "code",
   "execution_count": null,
   "id": "4ef08e9f",
   "metadata": {},
   "outputs": [],
   "source": [
    "# Pickle model and write to hard drive\n",
    "joblib.dump(pipeline1, \"models/CategoricalNB.pkl\")"
   ]
  },
  {
   "cell_type": "markdown",
   "id": "3735429b",
   "metadata": {},
   "source": [
    "### SVC"
   ]
  },
  {
   "cell_type": "code",
   "execution_count": null,
   "id": "8ef734b9",
   "metadata": {},
   "outputs": [],
   "source": [
    "clf2 = SVC()\n",
    "\n",
    "pipeline2 = make_pipeline(encoder, clf2)\n",
    "pipeline2"
   ]
  },
  {
   "cell_type": "code",
   "execution_count": null,
   "id": "9a6cbb23",
   "metadata": {},
   "outputs": [],
   "source": [
    "# Fit the pipeline on the training data\n",
    "pipeline2.fit(X_train, y_train)\n",
    "\n",
    "# Score the pipeline on the testing data\n",
    "pipeline2.score(X_test, y_test)"
   ]
  },
  {
   "cell_type": "code",
   "execution_count": null,
   "id": "9d6ee19c",
   "metadata": {},
   "outputs": [],
   "source": [
    "# Pickle model and write to hard drive\n",
    "joblib.dump(pipeline2, \"models/SVC.pkl\")"
   ]
  },
  {
   "cell_type": "markdown",
   "id": "26c2ba13",
   "metadata": {},
   "source": [
    "### Neural Network"
   ]
  },
  {
   "cell_type": "code",
   "execution_count": null,
   "id": "9c9905d6",
   "metadata": {},
   "outputs": [],
   "source": [
    "clf3 = MLPClassifier(random_state=1, max_iter=300)\n",
    "\n",
    "pipeline3 = make_pipeline(encoder, clf3)\n",
    "pipeline3"
   ]
  },
  {
   "cell_type": "code",
   "execution_count": null,
   "id": "bba407e3",
   "metadata": {},
   "outputs": [],
   "source": [
    "# Fit the pipeline on the training data\n",
    "pipeline3.fit(X_train, y_train)"
   ]
  },
  {
   "cell_type": "code",
   "execution_count": null,
   "id": "15dedfa8",
   "metadata": {},
   "outputs": [],
   "source": [
    "# Score the pipeline on the testing data\n",
    "pipeline3.score(X_test, y_test)"
   ]
  },
  {
   "cell_type": "code",
   "execution_count": null,
   "id": "725101b8",
   "metadata": {},
   "outputs": [],
   "source": [
    "# Pickle model and write to hard drive\n",
    "joblib.dump(pipeline3, \"models/MLPClassifier.pkl\")"
   ]
  },
  {
   "cell_type": "code",
   "execution_count": null,
   "id": "cc36efd0",
   "metadata": {},
   "outputs": [],
   "source": [
    "# clf3 = KMeans(n_clusters=3, max_iter=100, random_state=0)\n",
    "# clf3.fit(X_train, y_train)"
   ]
  },
  {
   "cell_type": "markdown",
   "id": "596803d3",
   "metadata": {},
   "source": [
    "## Predictions for Kaggle's test_users.csv"
   ]
  },
  {
   "cell_type": "code",
   "execution_count": null,
   "id": "78e7c643",
   "metadata": {},
   "outputs": [],
   "source": [
    "# filepath = \"airbnb-recruiting-new-user-bookings/test_users_.csv\"\n",
    "# df = pd.read_csv(filepath, dtype=dtypes[:-1], na_values=['-unknown-', 'NDF', '<NA>'], parse_dates=parse_dates, infer_datetime_format=True)"
   ]
  },
  {
   "cell_type": "code",
   "execution_count": null,
   "id": "cb1743d9",
   "metadata": {},
   "outputs": [],
   "source": [
    "# id_list = list(df['MachineIdentifier'])\n",
    "# X_kaggle = df.drop(columns=['MachineIdentifier']))"
   ]
  },
  {
   "cell_type": "code",
   "execution_count": null,
   "id": "0ef059e5",
   "metadata": {},
   "outputs": [],
   "source": [
    "# y_pred = pipeline.transform(X_kaggle.values)"
   ]
  },
  {
   "cell_type": "code",
   "execution_count": null,
   "id": "3e95afed",
   "metadata": {},
   "outputs": [],
   "source": [
    "# with open(\"submission.csv\", \"w\", newline=\"\") as csvfile:\n",
    "#     csv_writer = csv.writer(csvfile, delimiter=',', quotechar='\"')\n",
    "#     csv_writer.writerows(zip(id_list, y_pred))"
   ]
  }
 ],
 "metadata": {
  "kernelspec": {
   "display_name": "Python 3 (ipykernel)",
   "language": "python",
   "name": "python3"
  },
  "language_info": {
   "codemirror_mode": {
    "name": "ipython",
    "version": 3
   },
   "file_extension": ".py",
   "mimetype": "text/x-python",
   "name": "python",
   "nbconvert_exporter": "python",
   "pygments_lexer": "ipython3",
   "version": "3.9.12"
  }
 },
 "nbformat": 4,
 "nbformat_minor": 5
}
