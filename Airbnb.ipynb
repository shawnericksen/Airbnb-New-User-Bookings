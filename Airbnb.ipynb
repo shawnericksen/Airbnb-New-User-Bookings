{
 "cells": [
  {
   "cell_type": "markdown",
   "id": "d74756a7",
   "metadata": {},
   "source": [
    "# Final Project Notebook\n",
    "Group: 9\n",
    "Group Members: Shawn Ericksen (ericksen@uark.edu), Garret Fulghum (gmfulghu@uark.edu), Wesley Parker (wgparker@uark.edu)\n",
    "\n",
    "This practice project focuses on the Airbnb New User Bookings dataset. This can be accessed from: https://www.kaggle.com/competitions/airbnb-recruiting-new-user-bookings/data"
   ]
  },
  {
   "cell_type": "markdown",
   "id": "94d69a47",
   "metadata": {},
   "source": [
    "## Kaggle Performance Info\n",
    "Kaggle's scoring for this competition utilizes a Normalized Discounted Cumulative Gain (NDCG) scoring, where up to 5 guesses of destination county (ordered by confidence) are submitted per entry in the test data. A score of 1.0 reflects the first guess being correct, and less points for other scenarios (0.63 for the second guess being correct and so on).\n",
    "\n",
    "Q1/Q2/Q3 Kaggle scores: 0.85226 / 0.86555 / 0.86661\n",
    "\n",
    "Notes:\n",
    "\n",
    "The baseline, which is to always guess NDF-US-OTHER-FR-IT, recieves a NDCG score of 0.8219 (78th Percentile) on the Public Leaderboard. The NDCG score of the dummy model on the training data is 0.80676.\n",
    "\n",
    "As for scikit's accuracy score, always guessing NDF results in a score of 0.58347 against the training data."
   ]
  },
  {
   "cell_type": "markdown",
   "id": "721b369d",
   "metadata": {},
   "source": [
    "### Imports and reading dataset into memory"
   ]
  },
  {
   "cell_type": "code",
   "execution_count": 1,
   "id": "14f11fa8",
   "metadata": {},
   "outputs": [],
   "source": [
    "from os.path import exists\n",
    "\n",
    "import numpy as np\n",
    "import pandas as pd\n",
    "import csv\n",
    "\n",
    "from sklearn.preprocessing import OneHotEncoder, LabelEncoder, StandardScaler\n",
    "from sklearn.impute import SimpleImputer\n",
    "from sklearn.compose import make_column_transformer, make_column_selector\n",
    "from sklearn.compose import ColumnTransformer\n",
    "from sklearn.pipeline import Pipeline, make_pipeline\n",
    "from sklearn.model_selection import train_test_split, cross_val_score, GridSearchCV\n",
    "from sklearn.metrics import classification_report, ndcg_score\n",
    "from sklearn.tree import DecisionTreeClassifier\n",
    "from sklearn.naive_bayes import CategoricalNB\n",
    "from sklearn.svm import SVC\n",
    "from sklearn.neural_network import MLPClassifier\n",
    "\n",
    "from sklearn.linear_model import LogisticRegression\n",
    "from sklearn.neighbors import KNeighborsClassifier\n",
    "from sklearn.linear_model import LogisticRegression\n",
    "from sklearn.ensemble import RandomForestClassifier\n",
    "\n",
    "from sklearn import set_config\n",
    "set_config(display='diagram')\n",
    "\n",
    "import joblib"
   ]
  },
  {
   "cell_type": "code",
   "execution_count": 2,
   "id": "08a655cf",
   "metadata": {},
   "outputs": [],
   "source": [
    "dtypes={'id': 'string', 'date_account_created': 'string', 'timestamp_first_active': 'string', 'date_first_booking': 'string', 'gender': 'category', 'age': 'float64', 'signup_method': 'category', 'signup_flow': 'category', 'language': 'category', 'affiliate_channel': 'category', 'affiliate_provider': 'category', 'first_affiliate_tracked': 'category', 'signup_app': 'category', 'first_device_type': 'category', 'first_browser': 'category', 'country_destination': 'category'}\n",
    "parse_dates = ['date_account_created', 'timestamp_first_active', 'date_first_booking']"
   ]
  },
  {
   "cell_type": "code",
   "execution_count": null,
   "id": "dfc4cad6",
   "metadata": {},
   "outputs": [],
   "source": [
    "# Read from hdf if availible (much faster)\n",
    "# hdf_path = \"airbnb-recruiting-new-user-bookings/data.h5\"\n",
    "# if exists(hdf_path):\n",
    "#     pd.read_hdf(hdf_path)\n",
    "# else:\n",
    "#     pass"
   ]
  },
  {
   "cell_type": "code",
   "execution_count": 3,
   "id": "01b1741a",
   "metadata": {},
   "outputs": [],
   "source": [
    "filepath = \"airbnb-recruiting-new-user-bookings/train_users_2.csv\"\n",
    "cols = list(pd.read_csv(filepath, nrows=1))[1:]\n",
    "df = pd.read_csv(filepath, dtype=dtypes, na_values=['-unknown-', 'NDF', '<NA>'], parse_dates=parse_dates, infer_datetime_format=True) # usecols =[i for i in cols if i != 'id']\n",
    "df['date_first_booking'] = pd.to_datetime(pd.Series(df['date_first_booking']), format='%Y-%m-%d', errors='coerce')\n",
    "\n",
    "# df.select_dtypes('datetime64[ns]').fillna(pd.NaT)\n",
    "\n",
    "# for i in df.select_dtypes('datetime64[ns]').columns:\n",
    "#     df[i].fillna(pd.NaT)"
   ]
  },
  {
   "cell_type": "code",
   "execution_count": 38,
   "id": "7e38cb39",
   "metadata": {},
   "outputs": [],
   "source": [
    "df = df.set_index('id')"
   ]
  },
  {
   "cell_type": "code",
   "execution_count": 9,
   "id": "59beceb2",
   "metadata": {},
   "outputs": [],
   "source": [
    "df['age'] = df['age'].replace(range(2000, 2015), np.nan)\n",
    "# print(df.sort_values(by='age', ascending=False)['age'].dropna())"
   ]
  },
  {
   "cell_type": "code",
   "execution_count": null,
   "id": "49b84b12",
   "metadata": {},
   "outputs": [],
   "source": [
    "# df.loc(lambda x: df['age'] == 1995)"
   ]
  },
  {
   "cell_type": "code",
   "execution_count": 10,
   "id": "13715ced",
   "metadata": {},
   "outputs": [],
   "source": [
    "df['age'] = pd.cut(df['age'], bins = [i*5 for i in range(0, 21)] + [120]\n",
    "       , labels=(['%d-%d' % (i*5, i*5+4) for i in range(0, 20)] + ['100+']))"
   ]
  },
  {
   "cell_type": "code",
   "execution_count": null,
   "id": "d5db128d",
   "metadata": {},
   "outputs": [],
   "source": [
    "filepath = \"airbnb-recruiting-new-user-bookings/age_gender_bkts.csv\""
   ]
  },
  {
   "cell_type": "code",
   "execution_count": null,
   "id": "5634cf0a",
   "metadata": {},
   "outputs": [],
   "source": [
    "dtypes={'id': 'string', 'action': 'category', 'action_type': 'category', 'action_detail': 'category', 'device_type': 'category', 'sec_elapsed': 'float64'}\n",
    "filepath = \"airbnb-recruiting-new-user-bookings/sessions.csv\"\n",
    "df_session = pd.read_csv(filepath, dtype=dtypes, na_values=['-unknown-', 'NDF', '<NA>'])\n"
   ]
  },
  {
   "cell_type": "code",
   "execution_count": null,
   "id": "3bba9397",
   "metadata": {},
   "outputs": [],
   "source": [
    "df_session['action'].cat.categories"
   ]
  },
  {
   "cell_type": "code",
   "execution_count": null,
   "id": "fd313240",
   "metadata": {},
   "outputs": [],
   "source": [
    "df_session['action_type'].cat.categories"
   ]
  },
  {
   "cell_type": "code",
   "execution_count": null,
   "id": "0807708a",
   "metadata": {},
   "outputs": [],
   "source": [
    "df_session['action_detail'].cat.categories"
   ]
  },
  {
   "cell_type": "code",
   "execution_count": null,
   "id": "d544a73e",
   "metadata": {},
   "outputs": [],
   "source": [
    "for cat in df_session['action_type'].cat.categories:\n",
    "    new_column = pd.Series(name=cat, dtype='int8')\n",
    "    df.insert(new_column)"
   ]
  },
  {
   "cell_type": "code",
   "execution_count": 42,
   "id": "c968cf7e",
   "metadata": {},
   "outputs": [
    {
     "data": {
      "text/plain": [
       "date_account_created       2010-06-28 00:00:00\n",
       "timestamp_first_active     2009-03-19 04:32:55\n",
       "date_first_booking                         NaT\n",
       "gender                                     NaN\n",
       "age                                        NaN\n",
       "signup_method                         facebook\n",
       "signup_flow                                  0\n",
       "language                                    en\n",
       "affiliate_channel                       direct\n",
       "affiliate_provider                      direct\n",
       "first_affiliate_tracked              untracked\n",
       "signup_app                                 Web\n",
       "first_device_type                  Mac Desktop\n",
       "first_browser                           Chrome\n",
       "country_destination                        NaN\n",
       "Name: gxn3p5htnn, dtype: object"
      ]
     },
     "execution_count": 42,
     "metadata": {},
     "output_type": "execute_result"
    }
   ],
   "source": [
    "df.loc['gxn3p5htnn']"
   ]
  },
  {
   "cell_type": "code",
   "execution_count": null,
   "id": "e1a8ac96",
   "metadata": {},
   "outputs": [],
   "source": [
    "# Save to hdf if reading from csv\n",
    "# df.to_hdf(\"airbnb-recruiting-new-user-bookings/data.h5\")"
   ]
  },
  {
   "cell_type": "markdown",
   "id": "fe829025",
   "metadata": {},
   "source": [
    "### Diagnostics"
   ]
  },
  {
   "cell_type": "code",
   "execution_count": null,
   "id": "97a187c1",
   "metadata": {},
   "outputs": [],
   "source": [
    "print(\"- - Adult.Data - -\")\n",
    "print(\"Number of lines present: \", len(df))\n",
    "print(\"Number of Columns: \", len(df.columns))"
   ]
  },
  {
   "cell_type": "code",
   "execution_count": null,
   "id": "24a9bd92",
   "metadata": {},
   "outputs": [],
   "source": [
    "topCount = 5\n",
    "print(\"Top \", topCount, \" dataFrames:\")\n",
    "print(df.head(topCount))"
   ]
  },
  {
   "cell_type": "code",
   "execution_count": 12,
   "id": "92b42d9e",
   "metadata": {},
   "outputs": [
    {
     "data": {
      "text/plain": [
       "id                         14301217\n",
       "date_account_created        1707608\n",
       "timestamp_first_active      1707608\n",
       "date_first_booking          1707608\n",
       "first_browser                218965\n",
       "language                     215482\n",
       "age                          215304\n",
       "affiliate_provider           215157\n",
       "signup_flow                  215002\n",
       "country_destination          214403\n",
       "first_device_type            214373\n",
       "affiliate_channel            214264\n",
       "first_affiliate_tracked      214206\n",
       "signup_app                   213869\n",
       "signup_method                213749\n",
       "gender                       213745\n",
       "dtype: int64"
      ]
     },
     "execution_count": 12,
     "metadata": {},
     "output_type": "execute_result"
    }
   ],
   "source": [
    "df.memory_usage(deep=True, index=False).sort_values(ascending=False)"
   ]
  },
  {
   "cell_type": "code",
   "execution_count": 11,
   "id": "929fdf27",
   "metadata": {},
   "outputs": [
    {
     "data": {
      "text/plain": [
       "22002560"
      ]
     },
     "execution_count": 11,
     "metadata": {},
     "output_type": "execute_result"
    }
   ],
   "source": [
    "df.memory_usage(deep=True, index=False).sum()"
   ]
  },
  {
   "cell_type": "markdown",
   "id": "28563271",
   "metadata": {},
   "source": [
    "### Preprocessing"
   ]
  },
  {
   "cell_type": "code",
   "execution_count": null,
   "id": "8ceb2b3d",
   "metadata": {},
   "outputs": [],
   "source": [
    "X = df.drop(columns=['country_destination'])\n",
    "X = X.drop(columns=parse_dates) # TODO: Fix datetimes fucking everthing up.\n",
    "y = df['country_destination']"
   ]
  },
  {
   "cell_type": "code",
   "execution_count": null,
   "id": "0c5c8f0a",
   "metadata": {
    "scrolled": false
   },
   "outputs": [],
   "source": [
    "# This block can be commented out when doing prediction on the Kaggle test.csv\n",
    "X_train, X_test, y_train, y_test = train_test_split(X, y, test_size=0.37, random_state=0, shuffle=True)"
   ]
  },
  {
   "cell_type": "code",
   "execution_count": null,
   "id": "a5de1b1d",
   "metadata": {},
   "outputs": [],
   "source": [
    "# numeric_transformer = make_pipeline(\n",
    "# #     SimpleImputer(strategy='mean'),\n",
    "# #     StandardScaler()\n",
    "# )\n",
    "\n",
    "encoder = make_column_transformer(\n",
    "#     (numeric_transformer, ['age']),\n",
    "    (OneHotEncoder(sparse=False, handle_unknown='ignore'), make_column_selector(dtype_include='category')),\n",
    "    remainder='passthrough'\n",
    ")\n",
    "encoder"
   ]
  },
  {
   "cell_type": "code",
   "execution_count": null,
   "id": "064de3a1",
   "metadata": {
    "scrolled": true
   },
   "outputs": [],
   "source": [
    "y_enc = LabelEncoder().fit(y_train.values)\n",
    "y_train = y_enc.transform(y_train)\n",
    "y_test = y_enc.transform(y_test.values)"
   ]
  },
  {
   "cell_type": "markdown",
   "id": "1f2c5ce3",
   "metadata": {},
   "source": [
    "### Logistic Regression"
   ]
  },
  {
   "cell_type": "code",
   "execution_count": null,
   "id": "855cc8af",
   "metadata": {},
   "outputs": [],
   "source": [
    "clf0 = LogisticRegression(max_iter=300)\n",
    "\n",
    "pipeline0 = make_pipeline(encoder, clf0)\n",
    "pipeline0"
   ]
  },
  {
   "cell_type": "code",
   "execution_count": null,
   "id": "1cada3dc",
   "metadata": {},
   "outputs": [],
   "source": [
    "# Fit the pipeline on the training data\n",
    "pipeline0.fit(X_train, y_train)\n",
    "\n",
    "# Score the pipeline on the testing data\n",
    "pipeline0.score(X_test, y_test)"
   ]
  },
  {
   "cell_type": "markdown",
   "id": "d5e04a98",
   "metadata": {},
   "source": [
    "#### LR with GridSearch"
   ]
  },
  {
   "cell_type": "code",
   "execution_count": null,
   "id": "95a775bf",
   "metadata": {},
   "outputs": [],
   "source": [
    "params = {\n",
    "    'logisticregression__C': [0.1, 1.0, 10.0, 100.0],\n",
    "    'logisticregression__penalty': ['l1', 'l2'] # ,\n",
    "#     'columntransformer__pipeline__simpleimputer__strategy': [\"mean\", \"median\"]\n",
    "}\n",
    "\n",
    "grid_search = GridSearchCV(pipeline0, params, n_jobs=-1, verbose=1, cv=10)\n",
    "# pipeline0.get_params().keys()"
   ]
  },
  {
   "cell_type": "code",
   "execution_count": null,
   "id": "31c37f9d",
   "metadata": {},
   "outputs": [],
   "source": [
    "grid_search.fit(X_train, y_train)\n",
    "\n",
    "grid_search.score(X_test, y_test)"
   ]
  },
  {
   "cell_type": "markdown",
   "id": "a689097e",
   "metadata": {},
   "source": [
    "### Decision Tree Classifier"
   ]
  },
  {
   "cell_type": "code",
   "execution_count": null,
   "id": "a53527f9",
   "metadata": {},
   "outputs": [],
   "source": [
    "clf1 = DecisionTreeClassifier(random_state=0)\n",
    "\n",
    "pipeline1 = make_pipeline(encoder, clf1)\n",
    "pipeline1"
   ]
  },
  {
   "cell_type": "code",
   "execution_count": null,
   "id": "d5463fde",
   "metadata": {},
   "outputs": [],
   "source": [
    "# Fit the pipeline on the training data\n",
    "pipeline1.fit(X_train, y_train)\n",
    "\n",
    "# Score the pipeline on the testing data\n",
    "pipeline1.score(X_test, y_test)"
   ]
  },
  {
   "cell_type": "code",
   "execution_count": null,
   "id": "4ef08e9f",
   "metadata": {},
   "outputs": [],
   "source": [
    "# Pickle model and write to hard drive\n",
    "joblib.dump(pipeline1, \"models/CategoricalNB.pkl\")"
   ]
  },
  {
   "cell_type": "markdown",
   "id": "3735429b",
   "metadata": {},
   "source": [
    "### SVC"
   ]
  },
  {
   "cell_type": "code",
   "execution_count": null,
   "id": "8ef734b9",
   "metadata": {},
   "outputs": [],
   "source": [
    "clf2 = SVC()\n",
    "\n",
    "pipeline2 = make_pipeline(encoder, clf2)\n",
    "pipeline2"
   ]
  },
  {
   "cell_type": "code",
   "execution_count": null,
   "id": "9a6cbb23",
   "metadata": {},
   "outputs": [],
   "source": [
    "# Fit the pipeline on the training data\n",
    "pipeline2.fit(X_train, y_train)\n",
    "\n",
    "# Score the pipeline on the testing data\n",
    "pipeline2.score(X_test, y_test)"
   ]
  },
  {
   "cell_type": "code",
   "execution_count": null,
   "id": "9d6ee19c",
   "metadata": {},
   "outputs": [],
   "source": [
    "# Pickle model and write to hard drive\n",
    "joblib.dump(pipeline2, \"models/SVC.pkl\")"
   ]
  },
  {
   "cell_type": "markdown",
   "id": "26c2ba13",
   "metadata": {},
   "source": [
    "### Neural Network"
   ]
  },
  {
   "cell_type": "code",
   "execution_count": null,
   "id": "9c9905d6",
   "metadata": {},
   "outputs": [],
   "source": [
    "clf3 = MLPClassifier(random_state=1, max_iter=300)\n",
    "\n",
    "pipeline3 = make_pipeline(encoder, clf3)\n",
    "pipeline3"
   ]
  },
  {
   "cell_type": "code",
   "execution_count": null,
   "id": "bba407e3",
   "metadata": {},
   "outputs": [],
   "source": [
    "# Fit the pipeline on the training data\n",
    "pipeline3.fit(X_train, y_train)"
   ]
  },
  {
   "cell_type": "code",
   "execution_count": null,
   "id": "15dedfa8",
   "metadata": {},
   "outputs": [],
   "source": [
    "# Score the pipeline on the testing data\n",
    "pipeline3.score(X_test, y_test)"
   ]
  },
  {
   "cell_type": "code",
   "execution_count": null,
   "id": "725101b8",
   "metadata": {},
   "outputs": [],
   "source": [
    "# Pickle model and write to hard drive\n",
    "joblib.dump(pipeline3, \"models/MLPClassifier.pkl\")"
   ]
  },
  {
   "cell_type": "code",
   "execution_count": null,
   "id": "cc36efd0",
   "metadata": {},
   "outputs": [],
   "source": [
    "# clf3 = KMeans(n_clusters=3, max_iter=100, random_state=0)\n",
    "# clf3.fit(X_train, y_train)"
   ]
  },
  {
   "cell_type": "markdown",
   "id": "596803d3",
   "metadata": {},
   "source": [
    "## Predictions for Kaggle's test_users.csv"
   ]
  },
  {
   "cell_type": "code",
   "execution_count": null,
   "id": "78e7c643",
   "metadata": {},
   "outputs": [],
   "source": [
    "# filepath = \"airbnb-recruiting-new-user-bookings/test_users_.csv\"\n",
    "# df = pd.read_csv(filepath, dtype=dtypes[:-1], na_values=['-unknown-', 'NDF', '<NA>'], parse_dates=parse_dates, infer_datetime_format=True)"
   ]
  },
  {
   "cell_type": "code",
   "execution_count": null,
   "id": "cb1743d9",
   "metadata": {},
   "outputs": [],
   "source": [
    "# id_list = list(df['MachineIdentifier'])\n",
    "# X_kaggle = df.drop(columns=['MachineIdentifier']))"
   ]
  },
  {
   "cell_type": "code",
   "execution_count": null,
   "id": "0ef059e5",
   "metadata": {},
   "outputs": [],
   "source": [
    "# y_pred = pipeline.transform(X_kaggle.values)"
   ]
  },
  {
   "cell_type": "code",
   "execution_count": null,
   "id": "3e95afed",
   "metadata": {},
   "outputs": [],
   "source": [
    "# with open(\"submission.csv\", \"w\", newline=\"\") as csvfile:\n",
    "#     csv_writer = csv.writer(csvfile, delimiter=',', quotechar='\"')\n",
    "#     csv_writer.writerows(zip(id_list, y_pred))"
   ]
  }
 ],
 "metadata": {
  "kernelspec": {
   "display_name": "Python 3 (ipykernel)",
   "language": "python",
   "name": "python3"
  },
  "language_info": {
   "codemirror_mode": {
    "name": "ipython",
    "version": 3
   },
   "file_extension": ".py",
   "mimetype": "text/x-python",
   "name": "python",
   "nbconvert_exporter": "python",
   "pygments_lexer": "ipython3",
   "version": "3.9.12"
  }
 },
 "nbformat": 4,
 "nbformat_minor": 5
}
