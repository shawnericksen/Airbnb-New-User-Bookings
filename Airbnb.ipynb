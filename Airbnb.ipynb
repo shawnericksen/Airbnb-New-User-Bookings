{
 "cells": [
  {
   "cell_type": "markdown",
   "id": "d74756a7",
   "metadata": {},
   "source": [
    "# Final Project Notebook\n",
    "Group: 9\n",
    "Group Members: Shawn Ericksen (ericksen@uark.edu), Garret Fulghum (gmfulghu@uark.edu), Wesley Parker (wgparker@uark.edu)\n",
    "\n",
    "This practice project focuses on the Microsoft Malware Prediction dataset. This can be accessed from: https://www.kaggle.com/competitions/microsoft-malware-prediction/data"
   ]
  },
  {
   "cell_type": "markdown",
   "id": "721b369d",
   "metadata": {},
   "source": [
    "Below is all of our specified imports"
   ]
  },
  {
   "cell_type": "code",
   "execution_count": 1,
   "id": "14f11fa8",
   "metadata": {},
   "outputs": [],
   "source": [
    "import numpy as np\n",
    "import pandas as pd\n",
    "import csv\n",
    "\n",
    "# from scipy import sparse\n",
    "\n",
    "from sklearn.preprocessing import OneHotEncoder, LabelEncoder, StandardScaler\n",
    "from sklearn.impute import SimpleImputer\n",
    "from sklearn.compose import make_column_transformer, make_column_selector\n",
    "from sklearn.compose import ColumnTransformer\n",
    "from sklearn.pipeline import Pipeline, make_pipeline\n",
    "from sklearn.model_selection import train_test_split, cross_val_score, GridSearchCV\n",
    "from sklearn.metrics import classification_report\n",
    "from sklearn.tree import DecisionTreeClassifier\n",
    "from sklearn.naive_bayes import CategoricalNB\n",
    "from sklearn.svm import SVC\n",
    "\n",
    "import joblib\n",
    "\n",
    "from sklearn import set_config\n",
    "set_config(display='diagram')"
   ]
  },
  {
   "cell_type": "code",
   "execution_count": 2,
   "id": "08a655cf",
   "metadata": {},
   "outputs": [],
   "source": [
    "dtypes={'id': 'string', 'date_account_created': 'string', 'timestamp_first_active': 'string', 'date_first_booking': 'string', 'gender': 'category', 'age': 'float64', 'signup_method': 'category', 'signup_flow': 'category', 'language': 'category', 'affiliate_channel': 'category', 'affiliate_provider': 'category', 'first_affiliate_tracked': 'category', 'signup_app': 'category', 'first_device_type': 'category', 'first_browser': 'category', 'country_destination': 'category'}\n",
    "parse_dates = ['date_account_created', 'timestamp_first_active', 'date_first_booking']"
   ]
  },
  {
   "cell_type": "code",
   "execution_count": 3,
   "id": "01b1741a",
   "metadata": {},
   "outputs": [
    {
     "name": "stdout",
     "output_type": "stream",
     "text": [
      "date_account_created\n",
      "timestamp_first_active\n",
      "date_first_booking\n"
     ]
    }
   ],
   "source": [
    "filepath = \"airbnb-recruiting-new-user-bookings/train_users_2.csv\"\n",
    "cols = list(pd.read_csv(filepath, nrows=1))[1:]\n",
    "df = pd.read_csv(filepath, dtype=dtypes, na_values=['-unknown-', 'NDF', '<NA>'], usecols =[i for i in cols if i != 'id'], parse_dates=parse_dates, infer_datetime_format=True)\n",
    "df['date_first_booking'] = pd.to_datetime(pd.Series(df['date_first_booking']), format='%Y-%m-%d', errors='coerce')\n",
    "for i in list(df):\n",
    "    if df.dtypes[i] == 'datetime64[ns]':\n",
    "        print(i)\n",
    "        df[i].fillna(pd.NaT)"
   ]
  },
  {
   "cell_type": "code",
   "execution_count": null,
   "id": "97a187c1",
   "metadata": {},
   "outputs": [],
   "source": [
    "print(\"- - Adult.Data - -\")\n",
    "print(\"Number of lines present: \", len(df))\n",
    "print(\"Number of Columns: \", len(df.columns))"
   ]
  },
  {
   "cell_type": "code",
   "execution_count": null,
   "id": "24a9bd92",
   "metadata": {},
   "outputs": [],
   "source": [
    "topCount = 5\n",
    "print(\"Top \", topCount, \" dataFrames:\")\n",
    "print(df.head(topCount))"
   ]
  },
  {
   "cell_type": "code",
   "execution_count": 4,
   "id": "92b42d9e",
   "metadata": {},
   "outputs": [
    {
     "data": {
      "text/plain": [
       "date_account_created       1707608\n",
       "timestamp_first_active     1707608\n",
       "date_first_booking         1707608\n",
       "age                        1707608\n",
       "first_browser               218965\n",
       "language                    215482\n",
       "affiliate_provider          215157\n",
       "signup_flow                 215002\n",
       "country_destination         214403\n",
       "first_device_type           214373\n",
       "affiliate_channel           214264\n",
       "first_affiliate_tracked     214206\n",
       "signup_app                  213869\n",
       "signup_method               213749\n",
       "gender                      213745\n",
       "dtype: int64"
      ]
     },
     "execution_count": 4,
     "metadata": {},
     "output_type": "execute_result"
    }
   ],
   "source": [
    "df.memory_usage(deep=True, index=False).sort_values(ascending=False)"
   ]
  },
  {
   "cell_type": "code",
   "execution_count": 5,
   "id": "929fdf27",
   "metadata": {},
   "outputs": [
    {
     "data": {
      "text/plain": [
       "9193647"
      ]
     },
     "execution_count": 5,
     "metadata": {},
     "output_type": "execute_result"
    }
   ],
   "source": [
    "df.memory_usage(deep=True, index=False).sum()"
   ]
  },
  {
   "cell_type": "markdown",
   "id": "37b424bb",
   "metadata": {},
   "source": [
    "## This section is for developing the codebase since true lables for test.csv are not given."
   ]
  },
  {
   "cell_type": "code",
   "execution_count": 6,
   "id": "8ceb2b3d",
   "metadata": {},
   "outputs": [],
   "source": [
    "X = df.drop(columns=['country_destination'])\n",
    "X = X.drop(columns=parse_dates)\n",
    "y = df['country_destination']"
   ]
  },
  {
   "cell_type": "code",
   "execution_count": 7,
   "id": "0c5c8f0a",
   "metadata": {
    "scrolled": false
   },
   "outputs": [],
   "source": [
    "# This block can be commented out when doing prediction on the Kaggle test.csv\n",
    "X_train, X_test, y_train, y_test = train_test_split(X, y, test_size=0.37, random_state=0, shuffle=True)"
   ]
  },
  {
   "cell_type": "code",
   "execution_count": 8,
   "id": "a5de1b1d",
   "metadata": {},
   "outputs": [
    {
     "data": {
      "text/html": [
       "<style>#sk-d277edef-0780-4eb6-beba-437feb842a73 {color: black;background-color: white;}#sk-d277edef-0780-4eb6-beba-437feb842a73 pre{padding: 0;}#sk-d277edef-0780-4eb6-beba-437feb842a73 div.sk-toggleable {background-color: white;}#sk-d277edef-0780-4eb6-beba-437feb842a73 label.sk-toggleable__label {cursor: pointer;display: block;width: 100%;margin-bottom: 0;padding: 0.3em;box-sizing: border-box;text-align: center;}#sk-d277edef-0780-4eb6-beba-437feb842a73 label.sk-toggleable__label-arrow:before {content: \"▸\";float: left;margin-right: 0.25em;color: #696969;}#sk-d277edef-0780-4eb6-beba-437feb842a73 label.sk-toggleable__label-arrow:hover:before {color: black;}#sk-d277edef-0780-4eb6-beba-437feb842a73 div.sk-estimator:hover label.sk-toggleable__label-arrow:before {color: black;}#sk-d277edef-0780-4eb6-beba-437feb842a73 div.sk-toggleable__content {max-height: 0;max-width: 0;overflow: hidden;text-align: left;background-color: #f0f8ff;}#sk-d277edef-0780-4eb6-beba-437feb842a73 div.sk-toggleable__content pre {margin: 0.2em;color: black;border-radius: 0.25em;background-color: #f0f8ff;}#sk-d277edef-0780-4eb6-beba-437feb842a73 input.sk-toggleable__control:checked~div.sk-toggleable__content {max-height: 200px;max-width: 100%;overflow: auto;}#sk-d277edef-0780-4eb6-beba-437feb842a73 input.sk-toggleable__control:checked~label.sk-toggleable__label-arrow:before {content: \"▾\";}#sk-d277edef-0780-4eb6-beba-437feb842a73 div.sk-estimator input.sk-toggleable__control:checked~label.sk-toggleable__label {background-color: #d4ebff;}#sk-d277edef-0780-4eb6-beba-437feb842a73 div.sk-label input.sk-toggleable__control:checked~label.sk-toggleable__label {background-color: #d4ebff;}#sk-d277edef-0780-4eb6-beba-437feb842a73 input.sk-hidden--visually {border: 0;clip: rect(1px 1px 1px 1px);clip: rect(1px, 1px, 1px, 1px);height: 1px;margin: -1px;overflow: hidden;padding: 0;position: absolute;width: 1px;}#sk-d277edef-0780-4eb6-beba-437feb842a73 div.sk-estimator {font-family: monospace;background-color: #f0f8ff;border: 1px dotted black;border-radius: 0.25em;box-sizing: border-box;margin-bottom: 0.5em;}#sk-d277edef-0780-4eb6-beba-437feb842a73 div.sk-estimator:hover {background-color: #d4ebff;}#sk-d277edef-0780-4eb6-beba-437feb842a73 div.sk-parallel-item::after {content: \"\";width: 100%;border-bottom: 1px solid gray;flex-grow: 1;}#sk-d277edef-0780-4eb6-beba-437feb842a73 div.sk-label:hover label.sk-toggleable__label {background-color: #d4ebff;}#sk-d277edef-0780-4eb6-beba-437feb842a73 div.sk-serial::before {content: \"\";position: absolute;border-left: 1px solid gray;box-sizing: border-box;top: 2em;bottom: 0;left: 50%;}#sk-d277edef-0780-4eb6-beba-437feb842a73 div.sk-serial {display: flex;flex-direction: column;align-items: center;background-color: white;padding-right: 0.2em;padding-left: 0.2em;}#sk-d277edef-0780-4eb6-beba-437feb842a73 div.sk-item {z-index: 1;}#sk-d277edef-0780-4eb6-beba-437feb842a73 div.sk-parallel {display: flex;align-items: stretch;justify-content: center;background-color: white;}#sk-d277edef-0780-4eb6-beba-437feb842a73 div.sk-parallel::before {content: \"\";position: absolute;border-left: 1px solid gray;box-sizing: border-box;top: 2em;bottom: 0;left: 50%;}#sk-d277edef-0780-4eb6-beba-437feb842a73 div.sk-parallel-item {display: flex;flex-direction: column;position: relative;background-color: white;}#sk-d277edef-0780-4eb6-beba-437feb842a73 div.sk-parallel-item:first-child::after {align-self: flex-end;width: 50%;}#sk-d277edef-0780-4eb6-beba-437feb842a73 div.sk-parallel-item:last-child::after {align-self: flex-start;width: 50%;}#sk-d277edef-0780-4eb6-beba-437feb842a73 div.sk-parallel-item:only-child::after {width: 0;}#sk-d277edef-0780-4eb6-beba-437feb842a73 div.sk-dashed-wrapped {border: 1px dashed gray;margin: 0 0.4em 0.5em 0.4em;box-sizing: border-box;padding-bottom: 0.4em;background-color: white;position: relative;}#sk-d277edef-0780-4eb6-beba-437feb842a73 div.sk-label label {font-family: monospace;font-weight: bold;background-color: white;display: inline-block;line-height: 1.2em;}#sk-d277edef-0780-4eb6-beba-437feb842a73 div.sk-label-container {position: relative;z-index: 2;text-align: center;}#sk-d277edef-0780-4eb6-beba-437feb842a73 div.sk-container {/* jupyter's `normalize.less` sets `[hidden] { display: none; }` but bootstrap.min.css set `[hidden] { display: none !important; }` so we also need the `!important` here to be able to override the default hidden behavior on the sphinx rendered scikit-learn.org. See: https://github.com/scikit-learn/scikit-learn/issues/21755 */display: inline-block !important;position: relative;}#sk-d277edef-0780-4eb6-beba-437feb842a73 div.sk-text-repr-fallback {display: none;}</style><div id=\"sk-d277edef-0780-4eb6-beba-437feb842a73\" class=\"sk-top-container\"><div class=\"sk-text-repr-fallback\"><pre>ColumnTransformer(remainder=&#x27;passthrough&#x27;,\n",
       "                  transformers=[(&#x27;pipeline&#x27;,\n",
       "                                 Pipeline(steps=[(&#x27;simpleimputer&#x27;,\n",
       "                                                  SimpleImputer()),\n",
       "                                                 (&#x27;standardscaler&#x27;,\n",
       "                                                  StandardScaler())]),\n",
       "                                 [&#x27;age&#x27;]),\n",
       "                                (&#x27;onehotencoder&#x27;,\n",
       "                                 OneHotEncoder(handle_unknown=&#x27;ignore&#x27;,\n",
       "                                               sparse=False),\n",
       "                                 &lt;sklearn.compose._column_transformer.make_column_selector object at 0x108a4d160&gt;)])</pre><b>Please rerun this cell to show the HTML repr or trust the notebook.</b></div><div class=\"sk-container\" hidden><div class=\"sk-item sk-dashed-wrapped\"><div class=\"sk-label-container\"><div class=\"sk-label sk-toggleable\"><input class=\"sk-toggleable__control sk-hidden--visually\" id=\"90abea31-c736-4e09-aac4-2ff69cdf70a3\" type=\"checkbox\" ><label for=\"90abea31-c736-4e09-aac4-2ff69cdf70a3\" class=\"sk-toggleable__label sk-toggleable__label-arrow\">ColumnTransformer</label><div class=\"sk-toggleable__content\"><pre>ColumnTransformer(remainder=&#x27;passthrough&#x27;,\n",
       "                  transformers=[(&#x27;pipeline&#x27;,\n",
       "                                 Pipeline(steps=[(&#x27;simpleimputer&#x27;,\n",
       "                                                  SimpleImputer()),\n",
       "                                                 (&#x27;standardscaler&#x27;,\n",
       "                                                  StandardScaler())]),\n",
       "                                 [&#x27;age&#x27;]),\n",
       "                                (&#x27;onehotencoder&#x27;,\n",
       "                                 OneHotEncoder(handle_unknown=&#x27;ignore&#x27;,\n",
       "                                               sparse=False),\n",
       "                                 &lt;sklearn.compose._column_transformer.make_column_selector object at 0x108a4d160&gt;)])</pre></div></div></div><div class=\"sk-parallel\"><div class=\"sk-parallel-item\"><div class=\"sk-item\"><div class=\"sk-label-container\"><div class=\"sk-label sk-toggleable\"><input class=\"sk-toggleable__control sk-hidden--visually\" id=\"8471509d-bb8a-4583-aa66-8a07ae0b90d2\" type=\"checkbox\" ><label for=\"8471509d-bb8a-4583-aa66-8a07ae0b90d2\" class=\"sk-toggleable__label sk-toggleable__label-arrow\">pipeline</label><div class=\"sk-toggleable__content\"><pre>[&#x27;age&#x27;]</pre></div></div></div><div class=\"sk-serial\"><div class=\"sk-item\"><div class=\"sk-serial\"><div class=\"sk-item\"><div class=\"sk-estimator sk-toggleable\"><input class=\"sk-toggleable__control sk-hidden--visually\" id=\"02f1117e-299d-4d8b-a18f-31a461330a1d\" type=\"checkbox\" ><label for=\"02f1117e-299d-4d8b-a18f-31a461330a1d\" class=\"sk-toggleable__label sk-toggleable__label-arrow\">SimpleImputer</label><div class=\"sk-toggleable__content\"><pre>SimpleImputer()</pre></div></div></div><div class=\"sk-item\"><div class=\"sk-estimator sk-toggleable\"><input class=\"sk-toggleable__control sk-hidden--visually\" id=\"cc056705-98e1-473f-ad63-8c8795e69741\" type=\"checkbox\" ><label for=\"cc056705-98e1-473f-ad63-8c8795e69741\" class=\"sk-toggleable__label sk-toggleable__label-arrow\">StandardScaler</label><div class=\"sk-toggleable__content\"><pre>StandardScaler()</pre></div></div></div></div></div></div></div></div><div class=\"sk-parallel-item\"><div class=\"sk-item\"><div class=\"sk-label-container\"><div class=\"sk-label sk-toggleable\"><input class=\"sk-toggleable__control sk-hidden--visually\" id=\"feba1355-86d5-4a46-9aac-ee26006aec1d\" type=\"checkbox\" ><label for=\"feba1355-86d5-4a46-9aac-ee26006aec1d\" class=\"sk-toggleable__label sk-toggleable__label-arrow\">onehotencoder</label><div class=\"sk-toggleable__content\"><pre>&lt;sklearn.compose._column_transformer.make_column_selector object at 0x108a4d160&gt;</pre></div></div></div><div class=\"sk-serial\"><div class=\"sk-item\"><div class=\"sk-estimator sk-toggleable\"><input class=\"sk-toggleable__control sk-hidden--visually\" id=\"68b7262b-0fb0-4a1c-9ec0-e02a92759a0f\" type=\"checkbox\" ><label for=\"68b7262b-0fb0-4a1c-9ec0-e02a92759a0f\" class=\"sk-toggleable__label sk-toggleable__label-arrow\">OneHotEncoder</label><div class=\"sk-toggleable__content\"><pre>OneHotEncoder(handle_unknown=&#x27;ignore&#x27;, sparse=False)</pre></div></div></div></div></div></div><div class=\"sk-parallel-item\"><div class=\"sk-item\"><div class=\"sk-label-container\"><div class=\"sk-label sk-toggleable\"><input class=\"sk-toggleable__control sk-hidden--visually\" id=\"2b7a245e-c8e7-4836-9f64-ce7afff591c3\" type=\"checkbox\" ><label for=\"2b7a245e-c8e7-4836-9f64-ce7afff591c3\" class=\"sk-toggleable__label sk-toggleable__label-arrow\">remainder</label><div class=\"sk-toggleable__content\"><pre></pre></div></div></div><div class=\"sk-serial\"><div class=\"sk-item\"><div class=\"sk-estimator sk-toggleable\"><input class=\"sk-toggleable__control sk-hidden--visually\" id=\"b7cd710a-825b-4fb2-ad6e-fd7ca3a40b60\" type=\"checkbox\" ><label for=\"b7cd710a-825b-4fb2-ad6e-fd7ca3a40b60\" class=\"sk-toggleable__label sk-toggleable__label-arrow\">passthrough</label><div class=\"sk-toggleable__content\"><pre>passthrough</pre></div></div></div></div></div></div></div></div></div></div>"
      ],
      "text/plain": [
       "ColumnTransformer(remainder='passthrough',\n",
       "                  transformers=[('pipeline',\n",
       "                                 Pipeline(steps=[('simpleimputer',\n",
       "                                                  SimpleImputer()),\n",
       "                                                 ('standardscaler',\n",
       "                                                  StandardScaler())]),\n",
       "                                 ['age']),\n",
       "                                ('onehotencoder',\n",
       "                                 OneHotEncoder(handle_unknown='ignore',\n",
       "                                               sparse=False),\n",
       "                                 <sklearn.compose._column_transformer.make_column_selector object at 0x108a4d160>)])"
      ]
     },
     "execution_count": 8,
     "metadata": {},
     "output_type": "execute_result"
    }
   ],
   "source": [
    "numeric_transformer = make_pipeline(\n",
    "    SimpleImputer(strategy='mean'),\n",
    "    StandardScaler()\n",
    ")\n",
    "\n",
    "encoder = make_column_transformer(\n",
    "    (numeric_transformer, ['age']),\n",
    "    (OneHotEncoder(sparse=False, handle_unknown='ignore'), make_column_selector(dtype_include='category')),\n",
    "    remainder='passthrough'\n",
    ")\n",
    "encoder"
   ]
  },
  {
   "cell_type": "code",
   "execution_count": 9,
   "id": "6463fb25",
   "metadata": {},
   "outputs": [
    {
     "data": {
      "text/plain": [
       "(134474, 11)"
      ]
     },
     "execution_count": 9,
     "metadata": {},
     "output_type": "execute_result"
    }
   ],
   "source": [
    "encoder.fit_transform(X_train)\n",
    "X_train.shape"
   ]
  },
  {
   "cell_type": "code",
   "execution_count": 12,
   "id": "064de3a1",
   "metadata": {
    "scrolled": true
   },
   "outputs": [],
   "source": [
    "y_enc = LabelEncoder().fit(y_train.values)\n",
    "y_train = y_enc.transform(y_train)\n",
    "y_test = y_enc.transform(y_test.values)"
   ]
  },
  {
   "cell_type": "markdown",
   "id": "a689097e",
   "metadata": {},
   "source": [
    "## Test Section"
   ]
  },
  {
   "cell_type": "code",
   "execution_count": 15,
   "id": "a53527f9",
   "metadata": {},
   "outputs": [
    {
     "data": {
      "text/html": [
       "<style>#sk-03f71f46-b88b-43a7-b951-319601669408 {color: black;background-color: white;}#sk-03f71f46-b88b-43a7-b951-319601669408 pre{padding: 0;}#sk-03f71f46-b88b-43a7-b951-319601669408 div.sk-toggleable {background-color: white;}#sk-03f71f46-b88b-43a7-b951-319601669408 label.sk-toggleable__label {cursor: pointer;display: block;width: 100%;margin-bottom: 0;padding: 0.3em;box-sizing: border-box;text-align: center;}#sk-03f71f46-b88b-43a7-b951-319601669408 label.sk-toggleable__label-arrow:before {content: \"▸\";float: left;margin-right: 0.25em;color: #696969;}#sk-03f71f46-b88b-43a7-b951-319601669408 label.sk-toggleable__label-arrow:hover:before {color: black;}#sk-03f71f46-b88b-43a7-b951-319601669408 div.sk-estimator:hover label.sk-toggleable__label-arrow:before {color: black;}#sk-03f71f46-b88b-43a7-b951-319601669408 div.sk-toggleable__content {max-height: 0;max-width: 0;overflow: hidden;text-align: left;background-color: #f0f8ff;}#sk-03f71f46-b88b-43a7-b951-319601669408 div.sk-toggleable__content pre {margin: 0.2em;color: black;border-radius: 0.25em;background-color: #f0f8ff;}#sk-03f71f46-b88b-43a7-b951-319601669408 input.sk-toggleable__control:checked~div.sk-toggleable__content {max-height: 200px;max-width: 100%;overflow: auto;}#sk-03f71f46-b88b-43a7-b951-319601669408 input.sk-toggleable__control:checked~label.sk-toggleable__label-arrow:before {content: \"▾\";}#sk-03f71f46-b88b-43a7-b951-319601669408 div.sk-estimator input.sk-toggleable__control:checked~label.sk-toggleable__label {background-color: #d4ebff;}#sk-03f71f46-b88b-43a7-b951-319601669408 div.sk-label input.sk-toggleable__control:checked~label.sk-toggleable__label {background-color: #d4ebff;}#sk-03f71f46-b88b-43a7-b951-319601669408 input.sk-hidden--visually {border: 0;clip: rect(1px 1px 1px 1px);clip: rect(1px, 1px, 1px, 1px);height: 1px;margin: -1px;overflow: hidden;padding: 0;position: absolute;width: 1px;}#sk-03f71f46-b88b-43a7-b951-319601669408 div.sk-estimator {font-family: monospace;background-color: #f0f8ff;border: 1px dotted black;border-radius: 0.25em;box-sizing: border-box;margin-bottom: 0.5em;}#sk-03f71f46-b88b-43a7-b951-319601669408 div.sk-estimator:hover {background-color: #d4ebff;}#sk-03f71f46-b88b-43a7-b951-319601669408 div.sk-parallel-item::after {content: \"\";width: 100%;border-bottom: 1px solid gray;flex-grow: 1;}#sk-03f71f46-b88b-43a7-b951-319601669408 div.sk-label:hover label.sk-toggleable__label {background-color: #d4ebff;}#sk-03f71f46-b88b-43a7-b951-319601669408 div.sk-serial::before {content: \"\";position: absolute;border-left: 1px solid gray;box-sizing: border-box;top: 2em;bottom: 0;left: 50%;}#sk-03f71f46-b88b-43a7-b951-319601669408 div.sk-serial {display: flex;flex-direction: column;align-items: center;background-color: white;padding-right: 0.2em;padding-left: 0.2em;}#sk-03f71f46-b88b-43a7-b951-319601669408 div.sk-item {z-index: 1;}#sk-03f71f46-b88b-43a7-b951-319601669408 div.sk-parallel {display: flex;align-items: stretch;justify-content: center;background-color: white;}#sk-03f71f46-b88b-43a7-b951-319601669408 div.sk-parallel::before {content: \"\";position: absolute;border-left: 1px solid gray;box-sizing: border-box;top: 2em;bottom: 0;left: 50%;}#sk-03f71f46-b88b-43a7-b951-319601669408 div.sk-parallel-item {display: flex;flex-direction: column;position: relative;background-color: white;}#sk-03f71f46-b88b-43a7-b951-319601669408 div.sk-parallel-item:first-child::after {align-self: flex-end;width: 50%;}#sk-03f71f46-b88b-43a7-b951-319601669408 div.sk-parallel-item:last-child::after {align-self: flex-start;width: 50%;}#sk-03f71f46-b88b-43a7-b951-319601669408 div.sk-parallel-item:only-child::after {width: 0;}#sk-03f71f46-b88b-43a7-b951-319601669408 div.sk-dashed-wrapped {border: 1px dashed gray;margin: 0 0.4em 0.5em 0.4em;box-sizing: border-box;padding-bottom: 0.4em;background-color: white;position: relative;}#sk-03f71f46-b88b-43a7-b951-319601669408 div.sk-label label {font-family: monospace;font-weight: bold;background-color: white;display: inline-block;line-height: 1.2em;}#sk-03f71f46-b88b-43a7-b951-319601669408 div.sk-label-container {position: relative;z-index: 2;text-align: center;}#sk-03f71f46-b88b-43a7-b951-319601669408 div.sk-container {/* jupyter's `normalize.less` sets `[hidden] { display: none; }` but bootstrap.min.css set `[hidden] { display: none !important; }` so we also need the `!important` here to be able to override the default hidden behavior on the sphinx rendered scikit-learn.org. See: https://github.com/scikit-learn/scikit-learn/issues/21755 */display: inline-block !important;position: relative;}#sk-03f71f46-b88b-43a7-b951-319601669408 div.sk-text-repr-fallback {display: none;}</style><div id=\"sk-03f71f46-b88b-43a7-b951-319601669408\" class=\"sk-top-container\"><div class=\"sk-text-repr-fallback\"><pre>Pipeline(steps=[(&#x27;columntransformer&#x27;,\n",
       "                 ColumnTransformer(remainder=&#x27;passthrough&#x27;,\n",
       "                                   transformers=[(&#x27;pipeline&#x27;,\n",
       "                                                  Pipeline(steps=[(&#x27;simpleimputer&#x27;,\n",
       "                                                                   SimpleImputer()),\n",
       "                                                                  (&#x27;standardscaler&#x27;,\n",
       "                                                                   StandardScaler())]),\n",
       "                                                  [&#x27;age&#x27;]),\n",
       "                                                 (&#x27;onehotencoder&#x27;,\n",
       "                                                  OneHotEncoder(handle_unknown=&#x27;ignore&#x27;,\n",
       "                                                                sparse=False),\n",
       "                                                  &lt;sklearn.compose._column_transformer.make_column_selector object at 0x108a4d160&gt;)])),\n",
       "                (&#x27;decisiontreeclassifier&#x27;,\n",
       "                 DecisionTreeClassifier(random_state=0))])</pre><b>Please rerun this cell to show the HTML repr or trust the notebook.</b></div><div class=\"sk-container\" hidden><div class=\"sk-item sk-dashed-wrapped\"><div class=\"sk-label-container\"><div class=\"sk-label sk-toggleable\"><input class=\"sk-toggleable__control sk-hidden--visually\" id=\"f093110f-54ff-4473-8bc3-a391e1f09ae5\" type=\"checkbox\" ><label for=\"f093110f-54ff-4473-8bc3-a391e1f09ae5\" class=\"sk-toggleable__label sk-toggleable__label-arrow\">Pipeline</label><div class=\"sk-toggleable__content\"><pre>Pipeline(steps=[(&#x27;columntransformer&#x27;,\n",
       "                 ColumnTransformer(remainder=&#x27;passthrough&#x27;,\n",
       "                                   transformers=[(&#x27;pipeline&#x27;,\n",
       "                                                  Pipeline(steps=[(&#x27;simpleimputer&#x27;,\n",
       "                                                                   SimpleImputer()),\n",
       "                                                                  (&#x27;standardscaler&#x27;,\n",
       "                                                                   StandardScaler())]),\n",
       "                                                  [&#x27;age&#x27;]),\n",
       "                                                 (&#x27;onehotencoder&#x27;,\n",
       "                                                  OneHotEncoder(handle_unknown=&#x27;ignore&#x27;,\n",
       "                                                                sparse=False),\n",
       "                                                  &lt;sklearn.compose._column_transformer.make_column_selector object at 0x108a4d160&gt;)])),\n",
       "                (&#x27;decisiontreeclassifier&#x27;,\n",
       "                 DecisionTreeClassifier(random_state=0))])</pre></div></div></div><div class=\"sk-serial\"><div class=\"sk-item sk-dashed-wrapped\"><div class=\"sk-label-container\"><div class=\"sk-label sk-toggleable\"><input class=\"sk-toggleable__control sk-hidden--visually\" id=\"395d8e5f-5fd5-4368-b21e-bb47b1a17a2a\" type=\"checkbox\" ><label for=\"395d8e5f-5fd5-4368-b21e-bb47b1a17a2a\" class=\"sk-toggleable__label sk-toggleable__label-arrow\">columntransformer: ColumnTransformer</label><div class=\"sk-toggleable__content\"><pre>ColumnTransformer(remainder=&#x27;passthrough&#x27;,\n",
       "                  transformers=[(&#x27;pipeline&#x27;,\n",
       "                                 Pipeline(steps=[(&#x27;simpleimputer&#x27;,\n",
       "                                                  SimpleImputer()),\n",
       "                                                 (&#x27;standardscaler&#x27;,\n",
       "                                                  StandardScaler())]),\n",
       "                                 [&#x27;age&#x27;]),\n",
       "                                (&#x27;onehotencoder&#x27;,\n",
       "                                 OneHotEncoder(handle_unknown=&#x27;ignore&#x27;,\n",
       "                                               sparse=False),\n",
       "                                 &lt;sklearn.compose._column_transformer.make_column_selector object at 0x108a4d160&gt;)])</pre></div></div></div><div class=\"sk-parallel\"><div class=\"sk-parallel-item\"><div class=\"sk-item\"><div class=\"sk-label-container\"><div class=\"sk-label sk-toggleable\"><input class=\"sk-toggleable__control sk-hidden--visually\" id=\"23894444-086a-406f-a143-505ab4759a91\" type=\"checkbox\" ><label for=\"23894444-086a-406f-a143-505ab4759a91\" class=\"sk-toggleable__label sk-toggleable__label-arrow\">pipeline</label><div class=\"sk-toggleable__content\"><pre>[&#x27;age&#x27;]</pre></div></div></div><div class=\"sk-serial\"><div class=\"sk-item\"><div class=\"sk-serial\"><div class=\"sk-item\"><div class=\"sk-estimator sk-toggleable\"><input class=\"sk-toggleable__control sk-hidden--visually\" id=\"f25694f0-cb8e-4504-b77a-b428dc860aa2\" type=\"checkbox\" ><label for=\"f25694f0-cb8e-4504-b77a-b428dc860aa2\" class=\"sk-toggleable__label sk-toggleable__label-arrow\">SimpleImputer</label><div class=\"sk-toggleable__content\"><pre>SimpleImputer()</pre></div></div></div><div class=\"sk-item\"><div class=\"sk-estimator sk-toggleable\"><input class=\"sk-toggleable__control sk-hidden--visually\" id=\"3905b64c-ee4d-4d6a-9b17-e0e06f381a9c\" type=\"checkbox\" ><label for=\"3905b64c-ee4d-4d6a-9b17-e0e06f381a9c\" class=\"sk-toggleable__label sk-toggleable__label-arrow\">StandardScaler</label><div class=\"sk-toggleable__content\"><pre>StandardScaler()</pre></div></div></div></div></div></div></div></div><div class=\"sk-parallel-item\"><div class=\"sk-item\"><div class=\"sk-label-container\"><div class=\"sk-label sk-toggleable\"><input class=\"sk-toggleable__control sk-hidden--visually\" id=\"021ed6f1-2d95-4fda-96a5-e62752777ec4\" type=\"checkbox\" ><label for=\"021ed6f1-2d95-4fda-96a5-e62752777ec4\" class=\"sk-toggleable__label sk-toggleable__label-arrow\">onehotencoder</label><div class=\"sk-toggleable__content\"><pre>&lt;sklearn.compose._column_transformer.make_column_selector object at 0x108a4d160&gt;</pre></div></div></div><div class=\"sk-serial\"><div class=\"sk-item\"><div class=\"sk-estimator sk-toggleable\"><input class=\"sk-toggleable__control sk-hidden--visually\" id=\"48e4ca6f-6887-4749-b46c-bc1dd726ca03\" type=\"checkbox\" ><label for=\"48e4ca6f-6887-4749-b46c-bc1dd726ca03\" class=\"sk-toggleable__label sk-toggleable__label-arrow\">OneHotEncoder</label><div class=\"sk-toggleable__content\"><pre>OneHotEncoder(handle_unknown=&#x27;ignore&#x27;, sparse=False)</pre></div></div></div></div></div></div><div class=\"sk-parallel-item\"><div class=\"sk-item\"><div class=\"sk-label-container\"><div class=\"sk-label sk-toggleable\"><input class=\"sk-toggleable__control sk-hidden--visually\" id=\"35ef60a4-88fd-4085-9960-36254d145686\" type=\"checkbox\" ><label for=\"35ef60a4-88fd-4085-9960-36254d145686\" class=\"sk-toggleable__label sk-toggleable__label-arrow\">remainder</label><div class=\"sk-toggleable__content\"><pre>[]</pre></div></div></div><div class=\"sk-serial\"><div class=\"sk-item\"><div class=\"sk-estimator sk-toggleable\"><input class=\"sk-toggleable__control sk-hidden--visually\" id=\"619f6501-2294-4f1f-b1e0-77fa6efb6e39\" type=\"checkbox\" ><label for=\"619f6501-2294-4f1f-b1e0-77fa6efb6e39\" class=\"sk-toggleable__label sk-toggleable__label-arrow\">passthrough</label><div class=\"sk-toggleable__content\"><pre>passthrough</pre></div></div></div></div></div></div></div></div><div class=\"sk-item\"><div class=\"sk-estimator sk-toggleable\"><input class=\"sk-toggleable__control sk-hidden--visually\" id=\"f918617b-120f-49f4-801d-d2dec75df2a4\" type=\"checkbox\" ><label for=\"f918617b-120f-49f4-801d-d2dec75df2a4\" class=\"sk-toggleable__label sk-toggleable__label-arrow\">DecisionTreeClassifier</label><div class=\"sk-toggleable__content\"><pre>DecisionTreeClassifier(random_state=0)</pre></div></div></div></div></div></div></div>"
      ],
      "text/plain": [
       "Pipeline(steps=[('columntransformer',\n",
       "                 ColumnTransformer(remainder='passthrough',\n",
       "                                   transformers=[('pipeline',\n",
       "                                                  Pipeline(steps=[('simpleimputer',\n",
       "                                                                   SimpleImputer()),\n",
       "                                                                  ('standardscaler',\n",
       "                                                                   StandardScaler())]),\n",
       "                                                  ['age']),\n",
       "                                                 ('onehotencoder',\n",
       "                                                  OneHotEncoder(handle_unknown='ignore',\n",
       "                                                                sparse=False),\n",
       "                                                  <sklearn.compose._column_transformer.make_column_selector object at 0x108a4d160>)])),\n",
       "                ('decisiontreeclassifier',\n",
       "                 DecisionTreeClassifier(random_state=0))])"
      ]
     },
     "execution_count": 15,
     "metadata": {},
     "output_type": "execute_result"
    }
   ],
   "source": [
    "clf1 = DecisionTreeClassifier(random_state=0)\n",
    "\n",
    "pipeline = make_pipeline(encoder, clf1)\n",
    "pipeline"
   ]
  },
  {
   "cell_type": "code",
   "execution_count": 16,
   "id": "d5463fde",
   "metadata": {},
   "outputs": [
    {
     "data": {
      "text/plain": [
       "0.5816250300720462"
      ]
     },
     "execution_count": 16,
     "metadata": {},
     "output_type": "execute_result"
    }
   ],
   "source": [
    "# Fit the pipeline on the training data\n",
    "pipeline.fit(X_train, y_train)\n",
    "\n",
    "# Score the pipeline on the testing data\n",
    "pipeline.score(X_test, y_test)"
   ]
  },
  {
   "cell_type": "code",
   "execution_count": null,
   "id": "4ef08e9f",
   "metadata": {},
   "outputs": [],
   "source": [
    "# Pickle model and write to hard drive\n",
    "joblib.dump(pipeline, \"models/CategoricalNB.pkl\")"
   ]
  },
  {
   "cell_type": "markdown",
   "id": "7d10d6aa",
   "metadata": {},
   "source": [
    "### Classifiers"
   ]
  },
  {
   "cell_type": "code",
   "execution_count": null,
   "id": "372fc277",
   "metadata": {},
   "outputs": [],
   "source": [
    "clf1 = CategoricalNB()\n",
    "clf1.fit(X_train, y_train)"
   ]
  },
  {
   "cell_type": "code",
   "execution_count": null,
   "id": "3e8fef6f",
   "metadata": {},
   "outputs": [],
   "source": [
    "y_pred = clf1.predict(X_test)\n",
    "print(classification_report(y_test, y_pred, target_names=X.columns[:-2]))"
   ]
  },
  {
   "cell_type": "code",
   "execution_count": null,
   "id": "3077ca7f",
   "metadata": {},
   "outputs": [],
   "source": [
    "clf2 = SVC().fit(X_train, y_train)"
   ]
  },
  {
   "cell_type": "code",
   "execution_count": null,
   "id": "71aed1d3",
   "metadata": {},
   "outputs": [],
   "source": [
    "y_pred = clf2.predict(X_test)\n",
    "print(classification_report(y_test, y_pred, target_names=X.columns[:-2]))"
   ]
  },
  {
   "cell_type": "code",
   "execution_count": null,
   "id": "cc36efd0",
   "metadata": {},
   "outputs": [],
   "source": [
    "# clf3 = KMeans(n_clusters=3, max_iter=100, random_state=0)\n",
    "# clf3.fit(X_train, y_train)"
   ]
  },
  {
   "cell_type": "markdown",
   "id": "596803d3",
   "metadata": {},
   "source": [
    "## Predictions for Kaggle's test.csv"
   ]
  },
  {
   "cell_type": "code",
   "execution_count": null,
   "id": "78e7c643",
   "metadata": {},
   "outputs": [],
   "source": [
    "# filepath = \"test.csv\"\n",
    "# cols = list(pd.read_csv(filepath, nrows=1))\n",
    "# ddf = dd.read_csv(filepath, dtype=dtypes, blocksize=\"16MB\", na_values=['NA', 'UNKNOWN', 'NOT_SET', 'nan'])"
   ]
  },
  {
   "cell_type": "code",
   "execution_count": null,
   "id": "4e8e54ff",
   "metadata": {},
   "outputs": [],
   "source": [
    "# ddf_test = ddf.categorize()"
   ]
  },
  {
   "cell_type": "code",
   "execution_count": null,
   "id": "cb1743d9",
   "metadata": {},
   "outputs": [],
   "source": [
    "# id_list = list(ddf['MachineIdentifier'])\n",
    "# X_kaggle = encoder.transform(ddf.drop(columns=['MachineIdentifier']))"
   ]
  },
  {
   "cell_type": "code",
   "execution_count": null,
   "id": "0ef059e5",
   "metadata": {},
   "outputs": [],
   "source": [
    "# y_pred = clf1.predict(X_kaggle)"
   ]
  },
  {
   "cell_type": "code",
   "execution_count": null,
   "id": "3e95afed",
   "metadata": {},
   "outputs": [],
   "source": [
    "# with open(\"submission.csv\", \"w\", newline=\"\") as csvfile:\n",
    "#     csv_writer = csv.writer(csvfile, delimiter=',', quotechar='\"')\n",
    "#     csv_writer.writerows(zip(id_list, y_pred))"
   ]
  }
 ],
 "metadata": {
  "kernelspec": {
   "display_name": "Python 3 (ipykernel)",
   "language": "python",
   "name": "python3"
  },
  "language_info": {
   "codemirror_mode": {
    "name": "ipython",
    "version": 3
   },
   "file_extension": ".py",
   "mimetype": "text/x-python",
   "name": "python",
   "nbconvert_exporter": "python",
   "pygments_lexer": "ipython3",
   "version": "3.9.12"
  }
 },
 "nbformat": 4,
 "nbformat_minor": 5
}
