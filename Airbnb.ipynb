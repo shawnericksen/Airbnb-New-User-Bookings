{
 "cells": [
  {
   "cell_type": "markdown",
   "id": "d74756a7",
   "metadata": {},
   "source": [
    "# Final Project Notebook\n",
    "Group: 9\n",
    "Group Members: Shawn Ericksen (ericksen@uark.edu), Garret Fulghum (gmfulghu@uark.edu), Wesley Parker (wgparker@uark.edu)\n",
    "\n",
    "This practice project focuses on the Microsoft Malware Prediction dataset. This can be accessed from: https://www.kaggle.com/competitions/microsoft-malware-prediction/data"
   ]
  },
  {
   "cell_type": "markdown",
   "id": "721b369d",
   "metadata": {},
   "source": [
    "Below is all of our specified imports"
   ]
  },
  {
   "cell_type": "code",
   "execution_count": null,
   "id": "14f11fa8",
   "metadata": {},
   "outputs": [],
   "source": [
    "import numpy as np\n",
    "import pandas as pd\n",
    "import csv\n",
    "\n",
    "# from scipy import sparse\n",
    "\n",
    "from sklearn.preprocessing import OneHotEncoder, LabelEncoder\n",
    "from sklearn.compose import make_column_transformer, make_column_selector\n",
    "from sklearn.compose import ColumnTransformer\n",
    "from sklearn.model_selection import train_test_split\n",
    "from sklearn.metrics import classification_report\n",
    "from sklearn.naive_bayes import CategoricalNB\n",
    "from sklearn.svm import SVC"
   ]
  },
  {
   "cell_type": "code",
   "execution_count": null,
   "id": "01fdfb41",
   "metadata": {},
   "outputs": [],
   "source": [
    "def clean(df):\n",
    "#     drop_cols = []\n",
    "    for col in df.columns:\n",
    "        if df[col].dtype == 'float16' or df[col].dtype == 'float32' or df[col].dtype == 'float64':\n",
    "            df[col] = (df[col] >= df.mean(numeric_only=True)[col]).astype(int)\n",
    "            \n",
    "#     df.drop(labels=cols, axis=1)\n",
    "    \n",
    "    return df"
   ]
  },
  {
   "cell_type": "code",
   "execution_count": null,
   "id": "08a655cf",
   "metadata": {},
   "outputs": [],
   "source": [
    "dtypes={'id': 'string', 'date_account_created': 'string', 'timestamp_first_active': 'string', 'date_first_booking': 'string', 'gender': 'category', 'age': 'Int64', 'signup_method': 'category', 'signup_flow': 'category', 'language': 'category', 'affiliate_channel': 'category', 'affiliate_provider': 'category', 'first_affiliate_tracked': 'category', 'signup_app': 'category', 'first_device_type': 'category', 'first_browser': 'category', 'country_destination': 'category'}\n",
    "parse_dates = ['date_account_created', 'timestamp_first_active', 'date_first_booking']"
   ]
  },
  {
   "cell_type": "code",
   "execution_count": null,
   "id": "01b1741a",
   "metadata": {},
   "outputs": [],
   "source": [
    "filepath = \"airbnb-recruiting-new-user-bookings/train_users_2.csv\"\n",
    "cols = list(pd.read_csv(filepath, nrows=1))[1:]\n",
    "df = pd.read_csv(filepath, dtype=dtypes, na_values=['-unknown-', 'NDF', '<NA>'], usecols =[i for i in cols if i != 'id'], parse_dates=parse_dates, infer_datetime_format=True)\n",
    "df['date_first_booking'] = pd.to_datetime(pd.Series(df['date_first_booking']), format='%Y-%m-%d', errors='coerce')\n",
    "for i in list(df):\n",
    "    if df.dtypes[i] == 'datetime64[ns]':\n",
    "        df[i].fillna(pd.NaT)"
   ]
  },
  {
   "cell_type": "code",
   "execution_count": null,
   "id": "97a187c1",
   "metadata": {},
   "outputs": [],
   "source": [
    "print(\"- - Adult.Data - -\")\n",
    "print(\"Number of lines present: \", len(df))\n",
    "print(\"Number of Columns: \", len(df.columns))"
   ]
  },
  {
   "cell_type": "code",
   "execution_count": null,
   "id": "24a9bd92",
   "metadata": {},
   "outputs": [],
   "source": [
    "topCount = 5\n",
    "print(\"Top \", topCount, \" dataFrames:\")\n",
    "print(df.head(topCount))"
   ]
  },
  {
   "cell_type": "code",
   "execution_count": null,
   "id": "92b42d9e",
   "metadata": {},
   "outputs": [],
   "source": [
    "# df.memory_usage(deep=True, index=False).sort_values(ascending=False)"
   ]
  },
  {
   "cell_type": "code",
   "execution_count": null,
   "id": "929fdf27",
   "metadata": {},
   "outputs": [],
   "source": [
    "df.memory_usage(deep=True, index=False).sum()"
   ]
  },
  {
   "cell_type": "code",
   "execution_count": null,
   "id": "16fd1a24",
   "metadata": {},
   "outputs": [],
   "source": [
    "# coo = sparse.coo_matrix(df_train)\n",
    "# csr = coo.tocsr()\n",
    "# print(csr)"
   ]
  },
  {
   "cell_type": "markdown",
   "id": "37b424bb",
   "metadata": {},
   "source": [
    "## This section is for developing the codebase since true lables for test.csv are not given."
   ]
  },
  {
   "cell_type": "code",
   "execution_count": null,
   "id": "8ceb2b3d",
   "metadata": {},
   "outputs": [],
   "source": [
    "X = df.drop(columns=['country_destination'])\n",
    "y = df['country_destination']"
   ]
  },
  {
   "cell_type": "code",
   "execution_count": null,
   "id": "0c5c8f0a",
   "metadata": {
    "scrolled": false
   },
   "outputs": [],
   "source": [
    "# This block can be commented out when doing prediction on the Kaggle test.csv\n",
    "X_train, X_test, y_train, y_test = train_test_split(X, y, test_size=0.37, random_state=0, shuffle=True)"
   ]
  },
  {
   "cell_type": "code",
   "execution_count": null,
   "id": "d4d7ab2d",
   "metadata": {},
   "outputs": [],
   "source": [
    "cols = [i for i in range(0, len(list(df))-1) if df.dtypes[i] == 'category']\n",
    "cols"
   ]
  },
  {
   "cell_type": "code",
   "execution_count": null,
   "id": "064de3a1",
   "metadata": {
    "scrolled": true
   },
   "outputs": [],
   "source": [
    "# encoder = ColumnTransformer([('one_hot_encoder', OneHotEncoder(categories='auto'), cols)], remainder='passthrough')\n",
    "encoder = make_column_transformer((OneHotEncoder(sparse=False, handle_unknown='ignore'), make_column_selector(dtype_include='category')))\n",
    "X_train = encoder.fit_transform(X_train)\n",
    "y_enc = LabelEncoder().fit(y_train.values)\n",
    "y_train = y_enc.transform(y_train)\n",
    "X_test = encoder.transform(X_test)\n",
    "y_test = y_enc.transform(y_test.values)"
   ]
  },
  {
   "cell_type": "markdown",
   "id": "7d10d6aa",
   "metadata": {},
   "source": [
    "### Classifiers"
   ]
  },
  {
   "cell_type": "code",
   "execution_count": null,
   "id": "372fc277",
   "metadata": {},
   "outputs": [],
   "source": [
    "clf1 = CategoricalNB()\n",
    "clf1.fit(X_train, y_train)"
   ]
  },
  {
   "cell_type": "code",
   "execution_count": null,
   "id": "3e8fef6f",
   "metadata": {},
   "outputs": [],
   "source": [
    "y_pred = clf1.predict(X_test)\n",
    "print(classification_report(y_test, y_pred, target_names=X.columns[:-2]))"
   ]
  },
  {
   "cell_type": "code",
   "execution_count": null,
   "id": "3077ca7f",
   "metadata": {},
   "outputs": [],
   "source": [
    "clf2 = SVC().fit(X_train, y_train)"
   ]
  },
  {
   "cell_type": "code",
   "execution_count": null,
   "id": "71aed1d3",
   "metadata": {},
   "outputs": [],
   "source": [
    "y_pred = clf2.predict(X_test)\n",
    "print(classification_report(y_test, y_pred, target_names=X.columns[:-2]))"
   ]
  },
  {
   "cell_type": "code",
   "execution_count": null,
   "id": "cc36efd0",
   "metadata": {},
   "outputs": [],
   "source": [
    "# clf3 = KMeans(n_clusters=3, max_iter=100, random_state=0)\n",
    "# clf3.fit(X_train, y_train)"
   ]
  },
  {
   "cell_type": "markdown",
   "id": "596803d3",
   "metadata": {},
   "source": [
    "## Predictions for Kaggle's test.csv"
   ]
  },
  {
   "cell_type": "code",
   "execution_count": null,
   "id": "78e7c643",
   "metadata": {},
   "outputs": [],
   "source": [
    "# filepath = \"test.csv\"\n",
    "# cols = list(pd.read_csv(filepath, nrows=1))\n",
    "# ddf = dd.read_csv(filepath, dtype=dtypes, blocksize=\"16MB\", na_values=['NA', 'UNKNOWN', 'NOT_SET', 'nan'])"
   ]
  },
  {
   "cell_type": "code",
   "execution_count": null,
   "id": "4e8e54ff",
   "metadata": {},
   "outputs": [],
   "source": [
    "# ddf_test = ddf.categorize()"
   ]
  },
  {
   "cell_type": "code",
   "execution_count": null,
   "id": "cb1743d9",
   "metadata": {},
   "outputs": [],
   "source": [
    "# id_list = list(ddf['MachineIdentifier'])\n",
    "# X_kaggle = encoder.transform(ddf.drop(columns=['MachineIdentifier']))"
   ]
  },
  {
   "cell_type": "code",
   "execution_count": null,
   "id": "0ef059e5",
   "metadata": {},
   "outputs": [],
   "source": [
    "# y_pred = clf1.predict(X_kaggle)"
   ]
  },
  {
   "cell_type": "code",
   "execution_count": null,
   "id": "3e95afed",
   "metadata": {},
   "outputs": [],
   "source": [
    "# with open(\"submission.csv\", \"w\", newline=\"\") as csvfile:\n",
    "#     csv_writer = csv.writer(csvfile, delimiter=',', quotechar='\"')\n",
    "#     csv_writer.writerows(zip(id_list, y_pred))"
   ]
  }
 ],
 "metadata": {
  "kernelspec": {
   "display_name": "Python 3 (ipykernel)",
   "language": "python",
   "name": "python3"
  },
  "language_info": {
   "codemirror_mode": {
    "name": "ipython",
    "version": 3
   },
   "file_extension": ".py",
   "mimetype": "text/x-python",
   "name": "python",
   "nbconvert_exporter": "python",
   "pygments_lexer": "ipython3",
   "version": "3.9.12"
  }
 },
 "nbformat": 4,
 "nbformat_minor": 5
}
