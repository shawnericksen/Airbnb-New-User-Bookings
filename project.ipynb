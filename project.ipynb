{
 "cells": [
  {
   "cell_type": "markdown",
   "id": "d74756a7",
   "metadata": {},
   "source": [
    "# Final Project Notebook\n",
    "Group: 9\n",
    "Group Members: Shawn Ericksen (ericksen@uark.edu), Garret Fulghum (gmfulghu@uark.edu), Wesley Parker (wgparker@uark.edu)\n",
    "\n",
    "This practice project focuses on the Microsoft Malware Prediction dataset. This can be accessed from: https://www.kaggle.com/competitions/microsoft-malware-prediction/data"
   ]
  },
  {
   "cell_type": "markdown",
   "id": "721b369d",
   "metadata": {},
   "source": [
    "Below is all of our specified imports"
   ]
  },
  {
   "cell_type": "code",
   "execution_count": 1,
   "id": "14f11fa8",
   "metadata": {},
   "outputs": [],
   "source": [
    "import numpy as np\n",
    "import pandas as pd\n",
    "# from sklearn.preprocessing import OneHotEncoder, LabelEncoder\n",
    "from scipy import sparse\n",
    "from dask import dataframe as dd\n",
    "import dask.array as da\n",
    "from dask_ml.preprocessing import OneHotEncoder, LabelEncoder, DummyEncoder, Categorizer\n",
    "from dask.distributed import Client\n",
    "\n",
    "from sklearn.naive_bayes import CategoricalNB"
   ]
  },
  {
   "cell_type": "code",
   "execution_count": 2,
   "id": "d3d76961",
   "metadata": {},
   "outputs": [
    {
     "data": {
      "text/html": [
       "<div>\n",
       "    <div style=\"width: 24px; height: 24px; background-color: #e1e1e1; border: 3px solid #9D9D9D; border-radius: 5px; position: absolute;\"> </div>\n",
       "    <div style=\"margin-left: 48px;\">\n",
       "        <h3 style=\"margin-bottom: 0px;\">Client</h3>\n",
       "        <p style=\"color: #9D9D9D; margin-bottom: 0px;\">Client-0530f1f4-66a2-11ed-b94b-c22299f0853d</p>\n",
       "        <table style=\"width: 100%; text-align: left;\">\n",
       "\n",
       "        <tr>\n",
       "        \n",
       "            <td style=\"text-align: left;\"><strong>Connection method:</strong> Cluster object</td>\n",
       "            <td style=\"text-align: left;\"><strong>Cluster type:</strong> distributed.LocalCluster</td>\n",
       "        \n",
       "        </tr>\n",
       "\n",
       "        \n",
       "            <tr>\n",
       "                <td style=\"text-align: left;\">\n",
       "                    <strong>Dashboard: </strong> <a href=\"http://127.0.0.1:8787/status\" target=\"_blank\">http://127.0.0.1:8787/status</a>\n",
       "                </td>\n",
       "                <td style=\"text-align: left;\"></td>\n",
       "            </tr>\n",
       "        \n",
       "\n",
       "        </table>\n",
       "\n",
       "        \n",
       "            <details>\n",
       "            <summary style=\"margin-bottom: 20px;\"><h3 style=\"display: inline;\">Cluster Info</h3></summary>\n",
       "            <div class=\"jp-RenderedHTMLCommon jp-RenderedHTML jp-mod-trusted jp-OutputArea-output\">\n",
       "    <div style=\"width: 24px; height: 24px; background-color: #e1e1e1; border: 3px solid #9D9D9D; border-radius: 5px; position: absolute;\">\n",
       "    </div>\n",
       "    <div style=\"margin-left: 48px;\">\n",
       "        <h3 style=\"margin-bottom: 0px; margin-top: 0px;\">LocalCluster</h3>\n",
       "        <p style=\"color: #9D9D9D; margin-bottom: 0px;\">4ad4a51c</p>\n",
       "        <table style=\"width: 100%; text-align: left;\">\n",
       "            <tr>\n",
       "                <td style=\"text-align: left;\">\n",
       "                    <strong>Dashboard:</strong> <a href=\"http://127.0.0.1:8787/status\" target=\"_blank\">http://127.0.0.1:8787/status</a>\n",
       "                </td>\n",
       "                <td style=\"text-align: left;\">\n",
       "                    <strong>Workers:</strong> 2\n",
       "                </td>\n",
       "            </tr>\n",
       "            <tr>\n",
       "                <td style=\"text-align: left;\">\n",
       "                    <strong>Total threads:</strong> 8\n",
       "                </td>\n",
       "                <td style=\"text-align: left;\">\n",
       "                    <strong>Total memory:</strong> 8.00 GiB\n",
       "                </td>\n",
       "            </tr>\n",
       "            \n",
       "            <tr>\n",
       "    <td style=\"text-align: left;\"><strong>Status:</strong> running</td>\n",
       "    <td style=\"text-align: left;\"><strong>Using processes:</strong> True</td>\n",
       "</tr>\n",
       "\n",
       "            \n",
       "        </table>\n",
       "\n",
       "        <details>\n",
       "            <summary style=\"margin-bottom: 20px;\">\n",
       "                <h3 style=\"display: inline;\">Scheduler Info</h3>\n",
       "            </summary>\n",
       "\n",
       "            <div style=\"\">\n",
       "    <div>\n",
       "        <div style=\"width: 24px; height: 24px; background-color: #FFF7E5; border: 3px solid #FF6132; border-radius: 5px; position: absolute;\"> </div>\n",
       "        <div style=\"margin-left: 48px;\">\n",
       "            <h3 style=\"margin-bottom: 0px;\">Scheduler</h3>\n",
       "            <p style=\"color: #9D9D9D; margin-bottom: 0px;\">Scheduler-c13f58ad-9fad-40be-930b-a8d1ae788c73</p>\n",
       "            <table style=\"width: 100%; text-align: left;\">\n",
       "                <tr>\n",
       "                    <td style=\"text-align: left;\">\n",
       "                        <strong>Comm:</strong> tcp://127.0.0.1:56641\n",
       "                    </td>\n",
       "                    <td style=\"text-align: left;\">\n",
       "                        <strong>Workers:</strong> 2\n",
       "                    </td>\n",
       "                </tr>\n",
       "                <tr>\n",
       "                    <td style=\"text-align: left;\">\n",
       "                        <strong>Dashboard:</strong> <a href=\"http://127.0.0.1:8787/status\" target=\"_blank\">http://127.0.0.1:8787/status</a>\n",
       "                    </td>\n",
       "                    <td style=\"text-align: left;\">\n",
       "                        <strong>Total threads:</strong> 8\n",
       "                    </td>\n",
       "                </tr>\n",
       "                <tr>\n",
       "                    <td style=\"text-align: left;\">\n",
       "                        <strong>Started:</strong> Just now\n",
       "                    </td>\n",
       "                    <td style=\"text-align: left;\">\n",
       "                        <strong>Total memory:</strong> 8.00 GiB\n",
       "                    </td>\n",
       "                </tr>\n",
       "            </table>\n",
       "        </div>\n",
       "    </div>\n",
       "\n",
       "    <details style=\"margin-left: 48px;\">\n",
       "        <summary style=\"margin-bottom: 20px;\">\n",
       "            <h3 style=\"display: inline;\">Workers</h3>\n",
       "        </summary>\n",
       "\n",
       "        \n",
       "        <div style=\"margin-bottom: 20px;\">\n",
       "            <div style=\"width: 24px; height: 24px; background-color: #DBF5FF; border: 3px solid #4CC9FF; border-radius: 5px; position: absolute;\"> </div>\n",
       "            <div style=\"margin-left: 48px;\">\n",
       "            <details>\n",
       "                <summary>\n",
       "                    <h4 style=\"margin-bottom: 0px; display: inline;\">Worker: 0</h4>\n",
       "                </summary>\n",
       "                <table style=\"width: 100%; text-align: left;\">\n",
       "                    <tr>\n",
       "                        <td style=\"text-align: left;\">\n",
       "                            <strong>Comm: </strong> tcp://127.0.0.1:56650\n",
       "                        </td>\n",
       "                        <td style=\"text-align: left;\">\n",
       "                            <strong>Total threads: </strong> 4\n",
       "                        </td>\n",
       "                    </tr>\n",
       "                    <tr>\n",
       "                        <td style=\"text-align: left;\">\n",
       "                            <strong>Dashboard: </strong> <a href=\"http://127.0.0.1:56651/status\" target=\"_blank\">http://127.0.0.1:56651/status</a>\n",
       "                        </td>\n",
       "                        <td style=\"text-align: left;\">\n",
       "                            <strong>Memory: </strong> 4.00 GiB\n",
       "                        </td>\n",
       "                    </tr>\n",
       "                    <tr>\n",
       "                        <td style=\"text-align: left;\">\n",
       "                            <strong>Nanny: </strong> tcp://127.0.0.1:56644\n",
       "                        </td>\n",
       "                        <td style=\"text-align: left;\"></td>\n",
       "                    </tr>\n",
       "                    <tr>\n",
       "                        <td colspan=\"2\" style=\"text-align: left;\">\n",
       "                            <strong>Local directory: </strong> /Users/shawnericksen/Documents/School/Data Mining/CSCE-4143-Project/dask-worker-space/worker-qdfui2rc\n",
       "                        </td>\n",
       "                    </tr>\n",
       "\n",
       "                    \n",
       "\n",
       "                    \n",
       "\n",
       "                </table>\n",
       "            </details>\n",
       "            </div>\n",
       "        </div>\n",
       "        \n",
       "        <div style=\"margin-bottom: 20px;\">\n",
       "            <div style=\"width: 24px; height: 24px; background-color: #DBF5FF; border: 3px solid #4CC9FF; border-radius: 5px; position: absolute;\"> </div>\n",
       "            <div style=\"margin-left: 48px;\">\n",
       "            <details>\n",
       "                <summary>\n",
       "                    <h4 style=\"margin-bottom: 0px; display: inline;\">Worker: 1</h4>\n",
       "                </summary>\n",
       "                <table style=\"width: 100%; text-align: left;\">\n",
       "                    <tr>\n",
       "                        <td style=\"text-align: left;\">\n",
       "                            <strong>Comm: </strong> tcp://127.0.0.1:56653\n",
       "                        </td>\n",
       "                        <td style=\"text-align: left;\">\n",
       "                            <strong>Total threads: </strong> 4\n",
       "                        </td>\n",
       "                    </tr>\n",
       "                    <tr>\n",
       "                        <td style=\"text-align: left;\">\n",
       "                            <strong>Dashboard: </strong> <a href=\"http://127.0.0.1:56654/status\" target=\"_blank\">http://127.0.0.1:56654/status</a>\n",
       "                        </td>\n",
       "                        <td style=\"text-align: left;\">\n",
       "                            <strong>Memory: </strong> 4.00 GiB\n",
       "                        </td>\n",
       "                    </tr>\n",
       "                    <tr>\n",
       "                        <td style=\"text-align: left;\">\n",
       "                            <strong>Nanny: </strong> tcp://127.0.0.1:56645\n",
       "                        </td>\n",
       "                        <td style=\"text-align: left;\"></td>\n",
       "                    </tr>\n",
       "                    <tr>\n",
       "                        <td colspan=\"2\" style=\"text-align: left;\">\n",
       "                            <strong>Local directory: </strong> /Users/shawnericksen/Documents/School/Data Mining/CSCE-4143-Project/dask-worker-space/worker-rfbf313j\n",
       "                        </td>\n",
       "                    </tr>\n",
       "\n",
       "                    \n",
       "\n",
       "                    \n",
       "\n",
       "                </table>\n",
       "            </details>\n",
       "            </div>\n",
       "        </div>\n",
       "        \n",
       "\n",
       "    </details>\n",
       "</div>\n",
       "\n",
       "        </details>\n",
       "    </div>\n",
       "</div>\n",
       "            </details>\n",
       "        \n",
       "\n",
       "    </div>\n",
       "</div>"
      ],
      "text/plain": [
       "<Client: 'tcp://127.0.0.1:56641' processes=2 threads=8, memory=8.00 GiB>"
      ]
     },
     "execution_count": 2,
     "metadata": {},
     "output_type": "execute_result"
    }
   ],
   "source": [
    "client = Client(n_workers=2)\n",
    "client"
   ]
  },
  {
   "cell_type": "code",
   "execution_count": 3,
   "id": "01fdfb41",
   "metadata": {},
   "outputs": [],
   "source": [
    "def clean(df):\n",
    "    drop_cols = []\n",
    "    for col in df.columns:\n",
    "#         if df[col].dtype == 'float16' or df[col].dtype == 'float32' or df[col].dtype == 'float64':\n",
    "#             df[col] = (df[col] >= df.mean(numeric_only=True)[col]).astype(int)\n",
    "        if df[col].dtype == 'float16' or df[col].dtype == 'float32' or df[col].dtype == 'float64':\n",
    "            drop_cols.append(col)\n",
    "            \n",
    "    df.drop(labels=cols, axis=1)\n",
    "    \n",
    "    return df"
   ]
  },
  {
   "cell_type": "code",
   "execution_count": 4,
   "id": "215ed304",
   "metadata": {},
   "outputs": [],
   "source": [
    "def encode(train_data):\n",
    "    df = clean(train_data)\n",
    "\n",
    "    X_train = df.drop(columns=['HasDetections'])\n",
    "    encoder = DummyEncoder()\n",
    "    X_train = encoder.fit_transform(X_train)\n",
    "    y_train = df['HasDetections'].values\n",
    "    y_enc = LabelEncoder().fit(y_train)\n",
    "    y_train = y_enc.transform(y_train)\n",
    "    \n",
    "#     df = clean(test_data, include_continuous)\n",
    "    \n",
    "#     X_test = df.drop(columns=['income'])\n",
    "#     X_test = encoder.transform(X_test).toarray()\n",
    "#     y_test = y_enc.transform(df['income'].values)\n",
    "    \n",
    "    return X_train, y_train, y_enc"
   ]
  },
  {
   "cell_type": "code",
   "execution_count": 5,
   "id": "08a655cf",
   "metadata": {},
   "outputs": [],
   "source": [
    "dtypes={'MachineIdentifier': 'string', 'ProductName': 'category', 'EngineVersion': 'category', 'AppVersion': 'category', 'AvSigVersion': 'category', 'IsBeta': 'float16', 'RtpStateBitfield': 'category', 'IsSxsPassiveMode': 'float16', 'DefaultBrowsersIdentifier': 'float32', 'AVProductStatesIdentifier': 'float32', 'AVProductsInstalled': 'float16', 'AVProductsEnabled': 'float16', 'HasTpm': 'float16', 'CountryIdentifier': 'category', 'CityIdentifier': 'float32', 'OrganizationIdentifier': 'float32', 'GeoNameIdentifier': 'category', 'LocaleEnglishNameIdentifier': 'category', 'Platform': 'category', 'Processor': 'category', 'OsVer': 'category', 'OsBuild': 'category', 'OsSuite': 'category', 'OsPlatformSubRelease': 'category', 'OsBuildLab': 'category', 'SkuEdition': 'category', 'IsProtected': 'category', 'AutoSampleOptIn': 'category', 'PuaMode': 'category', 'SMode': 'float16', 'IeVerIdentifier': 'float32', 'SmartScreen': 'category', 'Firewall': 'float16', 'UacLuaenable': 'float32', 'Census_MDC2FormFactor': 'category', 'Census_DeviceFamily': 'category', 'Census_OEMNameIdentifier': 'category', 'Census_OEMModelIdentifier': 'float32', 'Census_ProcessorCoreCount': 'float16', 'Census_ProcessorManufacturerIdentifier': 'category', 'Census_ProcessorModelIdentifier': 'category', 'Census_ProcessorClass': 'category', 'Census_PrimaryDiskTotalCapacity': 'float64', 'Census_PrimaryDiskTypeName': 'category', 'Census_SystemVolumeTotalCapacity': 'float32', 'Census_HasOpticalDiskDrive': 'float16', 'Census_TotalPhysicalRAM': 'float32', 'Census_ChassisTypeName': 'category', 'Census_InternalPrimaryDiagonalDisplaySizeInInches': 'float32', 'Census_InternalPrimaryDisplayResolutionHorizontal': 'float32', 'Census_InternalPrimaryDisplayResolutionVertical': 'float32', 'Census_PowerPlatformRoleName': 'category', 'Census_InternalBatteryType': 'category', 'Census_InternalBatteryNumberOfCharges': 'float32', 'Census_OSVersion': 'category', 'Census_OSArchitecture': 'category', 'Census_OSBranch': 'category', 'Census_OSBuildNumber': 'category', 'Census_OSBuildRevision': 'category', 'Census_OSEdition': 'category', 'Census_OSSkuName': 'category', 'Census_OSInstallTypeName': 'category', 'Census_OSInstallLanguageIdentifier': 'float16', 'Census_OSUILocaleIdentifier': 'float16', 'Census_OSWUAutoUpdateOptionsName': 'category', 'Census_IsPortableOperatingSystem': 'float16', 'Census_GenuineStateName': 'category', 'Census_ActivationChannel': 'category', 'Census_IsFlightingInternal': 'float16', 'Census_IsFlightsDisabled': 'float16', 'Census_FlightRing': 'category', 'Census_ThresholdOptIn': 'float16', 'Census_FirmwareManufacturerIdentifier': 'category', 'Census_FirmwareVersionIdentifier': 'float32', 'Census_IsSecureBootEnabled': 'float16', 'Census_IsWIMBootEnabled': 'float16', 'Census_IsVirtualDevice': 'float16', 'Census_IsTouchEnabled': 'float16', 'Census_IsPenCapable': 'float16', 'Census_IsAlwaysOnAlwaysConnectedCapable': 'float16', 'Wdft_IsGamer': 'float16', 'Wdft_RegionIdentifier': 'float16', 'HasDetections': 'float16'}"
   ]
  },
  {
   "cell_type": "code",
   "execution_count": 6,
   "id": "01b1741a",
   "metadata": {},
   "outputs": [],
   "source": [
    "filepath = \"train.csv\"\n",
    "\n",
    "cols = list(pd.read_csv(filepath, nrows=1))[1:]\n",
    "\n",
    "# chunk = dd.read_csv(\"train.csv\", dtype=dtypes, na_values=['NA', 'UNKNOWN', 'NOT_SET', 'nan'], usecols =[i for i in cols if i != 'MachineIdentifier'], chunksize=100000)\n",
    "\n",
    "# df_train = pd.concat(chunk)\n",
    "\n",
    "df_train = dd.read_csv(filepath, dtype=dtypes, blocksize=\"32MB\", na_values=['NA', 'UNKNOWN', 'NOT_SET', 'nan'], usecols =[i for i in cols if i != 'MachineIdentifier']) # .head(n=50000)\n",
    "# df_train.ProductName.cat.known\n",
    "# df_train = df_train.categorize()\n",
    "\n",
    "# for column in df_train.columns:\n",
    "#     print(pd.api.types.infer_dtype(df[column]))\n",
    "#     df_train[column] = df_train[column].apply(lambda x: pd.to_numeric(x, errors = 'ignore'))\n",
    "#     df_train[column][df_train[column].apply(lambda x: isinstance(x, type))]"
   ]
  },
  {
   "cell_type": "code",
   "execution_count": 7,
   "id": "c7b2a423",
   "metadata": {},
   "outputs": [],
   "source": [
    "df_train = df_train.categorize()"
   ]
  },
  {
   "cell_type": "code",
   "execution_count": null,
   "id": "92b42d9e",
   "metadata": {
    "scrolled": true
   },
   "outputs": [],
   "source": [
    "df_train.memory_usage(deep=True, index=False).sort_values(ascending=False)"
   ]
  },
  {
   "cell_type": "code",
   "execution_count": null,
   "id": "929fdf27",
   "metadata": {},
   "outputs": [],
   "source": [
    "df_train.memory_usage(deep=True, index=False).sum()"
   ]
  },
  {
   "cell_type": "code",
   "execution_count": null,
   "id": "2de9a3ec",
   "metadata": {},
   "outputs": [],
   "source": [
    "df_train.ProductName.cat.known"
   ]
  },
  {
   "cell_type": "code",
   "execution_count": null,
   "id": "16fd1a24",
   "metadata": {},
   "outputs": [],
   "source": [
    "coo = sparse.coo_matrix(df_train)\n",
    "csr = coo.tocsr()\n",
    "print(csr)"
   ]
  },
  {
   "cell_type": "code",
   "execution_count": null,
   "id": "340bb5a4",
   "metadata": {},
   "outputs": [],
   "source": [
    "# df_train.to_parquet(\"train.parquet\", compression=\"snappy\", engine=\"fastparquet\")"
   ]
  },
  {
   "cell_type": "code",
   "execution_count": null,
   "id": "411e6c04",
   "metadata": {},
   "outputs": [],
   "source": [
    "print(\"- - Adult.Data - -\")\n",
    "print(\"Number of lines present: \", len(df_train))\n",
    "print(\"Number of Columns: \", len(df_train.columns))"
   ]
  },
  {
   "cell_type": "code",
   "execution_count": null,
   "id": "ccaad1cf",
   "metadata": {},
   "outputs": [],
   "source": [
    "topCount = 10\n",
    "print(\"Top \", topCount, \" dataFrames:\")\n",
    "print(df_train.head(topCount))"
   ]
  },
  {
   "cell_type": "code",
   "execution_count": null,
   "id": "5b2a2bc0",
   "metadata": {},
   "outputs": [],
   "source": [
    "for x in range(0, len(df_train.dtypes)):\n",
    "    print(str(df_train.columns[x]) + \": \" + str(df_train.dtypes[x]) + \": \" + str(df_train.to_numpy()[1][x]))\n",
    "\n",
    "# s = \"{\"\n",
    "# for x in range(0, len(df_train.dtypes)):\n",
    "#     if str(df_train.dtypes[x]) == \"Int16\":\n",
    "#         s += \"'\" + str(df_train.columns[x]) + \"': 'Int64\"\n",
    "#     elif str(df_train.dtypes[x]) == \"float64\":\n",
    "#         s += \"'\" + str(df_train.columns[x]) + \"': 'float16\"\n",
    "#     else:\n",
    "#         s += \"'\" + str(df_train.columns[x]) + \"': '\" + str(df_train.dtypes[x])\n",
    "#     if x != len(df_train.dtypes) - 1:\n",
    "#         s += \"', \"\n",
    "#     else:\n",
    "#         s += \"'}\"\n",
    "\n",
    "# print(s)"
   ]
  },
  {
   "cell_type": "code",
   "execution_count": null,
   "id": "2fa47b5c",
   "metadata": {},
   "outputs": [],
   "source": [
    "# df_train = pd.read_csv(\"train.csv\", header=0)"
   ]
  },
  {
   "cell_type": "code",
   "execution_count": null,
   "id": "0c5c8f0a",
   "metadata": {
    "scrolled": false
   },
   "outputs": [],
   "source": [
    "X_train, y_train, y_enc = encode(df_train)"
   ]
  },
  {
   "cell_type": "code",
   "execution_count": null,
   "id": "064de3a1",
   "metadata": {},
   "outputs": [],
   "source": [
    "X_train.shape"
   ]
  },
  {
   "cell_type": "code",
   "execution_count": null,
   "id": "372fc277",
   "metadata": {},
   "outputs": [],
   "source": [
    "clf1 = CategoricalNB().fit(X_train, y_train)"
   ]
  }
 ],
 "metadata": {
  "kernelspec": {
   "display_name": "Python 3 (ipykernel)",
   "language": "python",
   "name": "python3"
  },
  "language_info": {
   "codemirror_mode": {
    "name": "ipython",
    "version": 3
   },
   "file_extension": ".py",
   "mimetype": "text/x-python",
   "name": "python",
   "nbconvert_exporter": "python",
   "pygments_lexer": "ipython3",
   "version": "3.9.12"
  }
 },
 "nbformat": 4,
 "nbformat_minor": 5
}
